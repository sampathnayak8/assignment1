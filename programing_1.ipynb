{
 "cells": [
  {
   "cell_type": "code",
   "execution_count": 1,
   "id": "a856fa85",
   "metadata": {},
   "outputs": [
    {
     "name": "stdout",
     "output_type": "stream",
     "text": [
      "Hello Python\n"
     ]
    }
   ],
   "source": [
    "#Write a Python program to print Hello Python\n",
    "\n",
    "print(\"Hello Python\")"
   ]
  },
  {
   "cell_type": "code",
   "execution_count": 52,
   "id": "422301a7",
   "metadata": {},
   "outputs": [
    {
     "name": "stdout",
     "output_type": "stream",
     "text": [
      "For Addition operation Type 'A' \n",
      "For Division operation Type 'D' D\n",
      "enter the Numerator value - 2\n",
      "enter the denomenator value - 2\n",
      "Result 2.0 / 2.0 = 1.0 \n"
     ]
    }
   ],
   "source": [
    "# Write a Python program to do arithmetical operations addition and division.?\n",
    "x = input(\"For Addition operation Type 'A' \\nFor Division operation Type 'D' \")\n",
    "if x == str(\"A\"):\n",
    "    a = float(input(\"enter the first value for addition -\"))\n",
    "    b = float(input(\"enter the second value for addition - \"))\n",
    "    c = a + b\n",
    "    print(\"Result {} + {} = {} \".format(a,b,c))\n",
    "else:\n",
    "     if x == str(\"D\"):\n",
    "        e = float(input(\"enter the Numerator value - \"))\n",
    "        f = float(input(\"enter the denomenator value - \"))\n",
    "        g = e/f\n",
    "        print(\"Result {} / {} = {} \".format(e,f,g))\n",
    "     else :\n",
    "         print(\"invalid input\")\n",
    "\n",
    "           \n",
    "       \n",
    "        \n",
    "    \n",
    "            \n",
    "        \n",
    "            "
   ]
  },
  {
   "cell_type": "code",
   "execution_count": 49,
   "id": "fa64db77",
   "metadata": {},
   "outputs": [
    {
     "name": "stdout",
     "output_type": "stream",
     "text": [
      "enter the Hight of triangle - 10\n",
      "enter the base of triangle - 5\n",
      "The area of triangle is 25.0 \n"
     ]
    }
   ],
   "source": [
    "#Write a Python program to find the area of a triangle?\n",
    "h = float(input(\"enter the Hight of triangle - \"))\n",
    "w = float(input(\"enter the base of triangle - \"))\n",
    "c = 0.5*h*w\n",
    "print(\"The area of triangle is {} \".format(c))"
   ]
  },
  {
   "cell_type": "code",
   "execution_count": 57,
   "id": "f28e0b4c",
   "metadata": {},
   "outputs": [
    {
     "name": "stdout",
     "output_type": "stream",
     "text": [
      "Enter the first variable to swap - sampath\n",
      "enter the second variable to swap - nayak\n",
      "swapped values nayak sampath\n"
     ]
    }
   ],
   "source": [
    "#Write a Python program to swap two variables?\n",
    "a1 = input(\"Enter the first variable to swap - \")\n",
    "b1 = input(\"enter the second variable to swap - \")\n",
    "swap = a1\n",
    "a1 =  b1\n",
    "b1 =swap\n",
    "print(\"swapped values {} {}\".format(a1,b1))"
   ]
  },
  {
   "cell_type": "code",
   "execution_count": 69,
   "id": "3b2a2b54",
   "metadata": {},
   "outputs": [
    {
     "name": "stdout",
     "output_type": "stream",
     "text": [
      "4\n",
      "s\n"
     ]
    }
   ],
   "source": [
    "import random\n",
    " \n",
    "a5 = [1, 2, 3, 4, 5, 6]\n",
    "print(random.choice(a5))\n",
    " \n",
    "print(random.choice(string))"
   ]
  },
  {
   "cell_type": "code",
   "execution_count": null,
   "id": "41c2745d",
   "metadata": {},
   "outputs": [],
   "source": []
  },
  {
   "cell_type": "code",
   "execution_count": null,
   "id": "e4e863d0",
   "metadata": {},
   "outputs": [],
   "source": []
  }
 ],
 "metadata": {
  "kernelspec": {
   "display_name": "Python 3",
   "language": "python",
   "name": "python3"
  },
  "language_info": {
   "codemirror_mode": {
    "name": "ipython",
    "version": 3
   },
   "file_extension": ".py",
   "mimetype": "text/x-python",
   "name": "python",
   "nbconvert_exporter": "python",
   "pygments_lexer": "ipython3",
   "version": "3.8.8"
  }
 },
 "nbformat": 4,
 "nbformat_minor": 5
}
