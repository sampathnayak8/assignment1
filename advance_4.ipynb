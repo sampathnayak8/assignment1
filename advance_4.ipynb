{
 "cells": [
  {
   "cell_type": "markdown",
   "id": "ca5560b5",
   "metadata": {},
   "source": [
    "1. In mathematics, the Fibonacci numbers, commonly denoted Fn, form a\n",
    "sequence, called the Fibonacci sequence, such that each number is the sum\n",
    "of the two preceding ones, starting from 0 and 1:"
   ]
  },
  {
   "cell_type": "code",
   "execution_count": 116,
   "id": "bb7641a3",
   "metadata": {},
   "outputs": [
    {
     "data": {
      "text/plain": [
       "55"
      ]
     },
     "execution_count": 116,
     "metadata": {},
     "output_type": "execute_result"
    }
   ],
   "source": [
    "#question 1\n",
    "def fib_fast(n):\n",
    "   \n",
    "    \n",
    "    if n < 0:\n",
    "        print(\"Incorrect input\")\n",
    " \n",
    "    \n",
    "    elif n == 0:\n",
    "        return 0\n",
    " \n",
    "    \n",
    "    elif n == 1 or n == 2:\n",
    "        return 1\n",
    " \n",
    "    else:\n",
    "        return fib_fast(n-1) + fib_fast(n-2)\n",
    " \n",
    "\n",
    "fib_fast(10)\n",
    "      "
   ]
  },
  {
   "cell_type": "markdown",
   "id": "3be85f44",
   "metadata": {},
   "source": [
    "2. Create a function that takes a strings characters as ASCII and returns each\n",
    "characters hexadecimal value as a string."
   ]
  },
  {
   "cell_type": "code",
   "execution_count": 128,
   "id": "285e01a5",
   "metadata": {},
   "outputs": [
    {
     "name": "stdout",
     "output_type": "stream",
     "text": [
      "68 65 6c 6c 6f 20 77 6f 72 6c 64 "
     ]
    }
   ],
   "source": [
    "def convert_to_hex(ascii):\n",
    " \n",
    "    \n",
    "    hexa = \"\"\n",
    " \n",
    "    \n",
    "    for i in range(len(ascii)):\n",
    "        ch = ascii[i] \n",
    "        in1 = ord(ch)\n",
    "        part = hex(in1).lstrip(\"0x\").rstrip(\"L\")\n",
    "        hexa = part\n",
    "        print(hexa,end = ' ')\n",
    "    return \n",
    "   \n",
    "\n",
    "convert_to_hex(\"hello world\")     \n",
    "    "
   ]
  },
  {
   "cell_type": "code",
   "execution_count": 30,
   "id": "11c12486",
   "metadata": {},
   "outputs": [
    {
     "data": {
      "text/plain": [
       "'UPPERCASE'"
      ]
     },
     "execution_count": 30,
     "metadata": {},
     "output_type": "execute_result"
    }
   ],
   "source": [
    "#question 3\n",
    "def uncensor(str1,str2):\n",
    "    str3 = ''\n",
    "    j = 0\n",
    "    l =list(str2)\n",
    "    l1 = list(str1)\n",
    "    k = 0\n",
    "    for i in l1:\n",
    "        if i == '*':\n",
    "            l1.remove(i)\n",
    "            l1.insert(k,l[j])\n",
    "            j = j+1  \n",
    "        k = k + 1\n",
    "            \n",
    "    for i in l1:\n",
    "        if i ==\"'\":\n",
    "            pass\n",
    "        if i == \",\":\n",
    "            pass\n",
    "        else:\n",
    "            str3 =str3 + i\n",
    "    return str3\n",
    "\n",
    "uncensor(\"*PP*RC*S*\", \"UEAE\")"
   ]
  },
  {
   "cell_type": "code",
   "execution_count": 4,
   "id": "506d30fd",
   "metadata": {},
   "outputs": [
    {
     "name": "stdout",
     "output_type": "stream",
     "text": [
      "Domain name using PTR DNS:\n",
      "dns.google\n"
     ]
    }
   ],
   "source": [
    "#question 4\n",
    "def get_domain_name(ip_address):\n",
    "  import socket\n",
    "  result=socket.gethostbyaddr(ip_address)\n",
    "  return list(result)[0]\n",
    "print(\"Domain name using PTR DNS:\")\n",
    "\n",
    "\n",
    "print(get_domain_name(\"8.8.8.8\"))\n"
   ]
  },
  {
   "cell_type": "code",
   "execution_count": null,
   "id": "022b6f33",
   "metadata": {},
   "outputs": [],
   "source": []
  }
 ],
 "metadata": {
  "kernelspec": {
   "display_name": "Python 3",
   "language": "python",
   "name": "python3"
  },
  "language_info": {
   "codemirror_mode": {
    "name": "ipython",
    "version": 3
   },
   "file_extension": ".py",
   "mimetype": "text/x-python",
   "name": "python",
   "nbconvert_exporter": "python",
   "pygments_lexer": "ipython3",
   "version": "3.8.8"
  }
 },
 "nbformat": 4,
 "nbformat_minor": 5
}
