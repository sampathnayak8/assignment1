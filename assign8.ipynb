{
 "cells": [
  {
   "cell_type": "code",
   "execution_count": null,
   "id": "7a47cbfe",
   "metadata": {},
   "outputs": [],
   "source": [
    "1. Is the Python Standard Library included with PyInputPlus?\n",
    "\n",
    "NO"
   ]
  },
  {
   "cell_type": "code",
   "execution_count": null,
   "id": "ed057458",
   "metadata": {},
   "outputs": [],
   "source": [
    "2. Why is PyInputPlus commonly imported with import pyinputplus as pypi?\n",
    "\n",
    "the reason we can enter a shorter name when calling it. pypi is easier and faster for typing and contains all lower cases. so errors are very less"
   ]
  },
  {
   "cell_type": "code",
   "execution_count": null,
   "id": "260e50d3",
   "metadata": {},
   "outputs": [],
   "source": [
    "3. How do you distinguish between inputInt() and inputFloat()?\n",
    "\n",
    "inputInt() : only takes integers \n",
    "inputFloat() : takes integers as well as float values\n",
    "    \n"
   ]
  },
  {
   "cell_type": "code",
   "execution_count": null,
   "id": "2e142c95",
   "metadata": {},
   "outputs": [],
   "source": [
    "4. Using PyInputPlus, how do you ensure that the user enters a whole number between 0 and 99?\n",
    "\n",
    "By using pyip.inputInt(min=0, max=99)"
   ]
  },
  {
   "cell_type": "code",
   "execution_count": null,
   "id": "b80c7673",
   "metadata": {},
   "outputs": [],
   "source": [
    "5. What is transferred to the keyword arguments allowRegexes and blockRegexes?\n",
    "\n",
    "The allowRegexes and blockRegexes keyword arguments take a list of regular expression strings to determine what the PyInputPlus function will accept or block\n"
   ]
  },
  {
   "cell_type": "code",
   "execution_count": null,
   "id": "37c24c5b",
   "metadata": {},
   "outputs": [],
   "source": [
    "6. If a blank input is entered three times, what does inputStr(limit=3) do?\n",
    "\n",
    "gives error: Limit exceeds error\n",
    "\n"
   ]
  },
  {
   "cell_type": "code",
   "execution_count": null,
   "id": "1b5e784a",
   "metadata": {},
   "outputs": [],
   "source": [
    "If blank input is entered three times, what does inputStr(limit=3, default=hello) do?\n",
    "\n",
    "Prints Hello after third entry\n",
    "                                                          "
   ]
  },
  {
   "cell_type": "code",
   "execution_count": null,
   "id": "622b3230",
   "metadata": {},
   "outputs": [],
   "source": []
  }
 ],
 "metadata": {
  "kernelspec": {
   "display_name": "Python 3",
   "language": "python",
   "name": "python3"
  },
  "language_info": {
   "codemirror_mode": {
    "name": "ipython",
    "version": 3
   },
   "file_extension": ".py",
   "mimetype": "text/x-python",
   "name": "python",
   "nbconvert_exporter": "python",
   "pygments_lexer": "ipython3",
   "version": "3.8.8"
  }
 },
 "nbformat": 4,
 "nbformat_minor": 5
}
