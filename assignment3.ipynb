{
 "cells": [
  {
   "cell_type": "markdown",
   "id": "6158f633",
   "metadata": {},
   "source": [
    "1. Why are functions advantageous to have in your programs?\n",
    "Ans :- Functions make code shorter and easier. so that repetative code should be avoided. \n",
    "\n",
    "2. When does the code in a function run: when its specified or when its called?\n",
    "Function will run when its called\n",
    "\n",
    "3. What statement creates a function?\n",
    "def statement creates a function\n",
    "\n",
    "4. What is the difference between a function and a function call?\n",
    "function contains set of taks. if you write a function for addition. it contains the code of addition.\n",
    "when we need to perform the adddition we have to call the function. then only it will execute\n",
    "example ;\n",
    "\n",
    "def add(a,b):   #this  is called a function\n",
    "    c= a+b\n",
    "    return c\n",
    "\n",
    "add(2,3) :- this is called function call\n",
    "\n",
    "5. How many global scopes are there in a Python program? How many local scopes?\n",
    "Global scopes : 01\n",
    "Local scopes : 01\n",
    "\n",
    "6. What happens to variables in a local scope when the function call returns?\n",
    "local variables are destroyed when function call returns\n",
    "\n",
    "7. What is the concept of a return value? Is it possible to have a return value in an expression?\n",
    "A return is a value that a function returns to the calling script or function when it completes its task.\n",
    "No, A return value can be any one of the four variable types: handle, integer, object, or string.\n",
    "\n",
    "8. If a function does not have a return statement, what is the return value of a call to that function?\n",
    "None will be returned\n",
    "\n",
    "9. How do you make a function variable refer to the global variable?\n",
    "by using \"global\" keyword\n",
    "\n",
    "10. What is the data type of None?\n",
    "\n",
    "11. What does the sentence import areallyourpetsnamederic do?\n",
    "import statement imports a module named areallyourpetsnamederic.\n",
    "\n",
    "12. If you had a bacon() feature in a spam module, what would you call it after importing spam?\n",
    "spam.bacon()\n",
    "\n",
    "13. What can you do to save a programme from crashing if it encounters an error?\n",
    "by doing error handling and logging we can save programme from crashing\n",
    "\n",
    "14. What is the purpose of the try clause? What is the purpose of the except clause?\n",
    "The try block is used to check some code for errors\n",
    "except block will execute whenever the program encounters some error in the preceding try block"
   ]
  },
  {
   "cell_type": "code",
   "execution_count": 2,
   "id": "ec853db5",
   "metadata": {},
   "outputs": [],
   "source": []
  },
  {
   "cell_type": "code",
   "execution_count": 3,
   "id": "9f04513d",
   "metadata": {},
   "outputs": [
    {
     "data": {
      "text/plain": [
       "5"
      ]
     },
     "execution_count": 3,
     "metadata": {},
     "output_type": "execute_result"
    }
   ],
   "source": []
  },
  {
   "cell_type": "code",
   "execution_count": null,
   "id": "cf25b414",
   "metadata": {},
   "outputs": [],
   "source": []
  }
 ],
 "metadata": {
  "kernelspec": {
   "display_name": "Python 3",
   "language": "python",
   "name": "python3"
  },
  "language_info": {
   "codemirror_mode": {
    "name": "ipython",
    "version": 3
   },
   "file_extension": ".py",
   "mimetype": "text/x-python",
   "name": "python",
   "nbconvert_exporter": "python",
   "pygments_lexer": "ipython3",
   "version": "3.8.8"
  }
 },
 "nbformat": 4,
 "nbformat_minor": 5
}
