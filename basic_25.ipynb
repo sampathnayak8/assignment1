{
 "cells": [
  {
   "cell_type": "markdown",
   "id": "b42997d1",
   "metadata": {},
   "source": [
    "1) . What is the difference between enclosing a list comprehension in square brackets and\n",
    "parentheses?"
   ]
  },
  {
   "cell_type": "markdown",
   "id": "bc6cf5ec",
   "metadata": {},
   "source": [
    "    Square brackets are lists while parentheses are tuples."
   ]
  },
  {
   "cell_type": "markdown",
   "id": "0ddf2aac",
   "metadata": {},
   "source": [
    "2) What is the relationship between generators and iterators?\n",
    "\n",
    "    Iterators are used mostly to iterate or convert other objects to an iterator using iter() function.\n",
    "    \n",
    "    Generators are mostly used in loops to generate an iterator by returning all the values in the loop without affecting the iteration of the loop"
   ]
  },
  {
   "cell_type": "markdown",
   "id": "2a838950",
   "metadata": {},
   "source": [
    "3) What are the signs that a function is a generator function?\n",
    "\n",
    "    in place of return if you use Yield then it act as generator"
   ]
  },
  {
   "cell_type": "markdown",
   "id": "1a9c3744",
   "metadata": {},
   "source": [
    "4) What is the purpose of a yield statement?\n",
    "\n",
    "    yield function is used for generator function"
   ]
  },
  {
   "cell_type": "code",
   "execution_count": null,
   "id": "cea68acb",
   "metadata": {},
   "outputs": [],
   "source": []
  }
 ],
 "metadata": {
  "kernelspec": {
   "display_name": "Python 3",
   "language": "python",
   "name": "python3"
  },
  "language_info": {
   "codemirror_mode": {
    "name": "ipython",
    "version": 3
   },
   "file_extension": ".py",
   "mimetype": "text/x-python",
   "name": "python",
   "nbconvert_exporter": "python",
   "pygments_lexer": "ipython3",
   "version": "3.8.8"
  }
 },
 "nbformat": 4,
 "nbformat_minor": 5
}
