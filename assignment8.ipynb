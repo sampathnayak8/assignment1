{
 "cells": [
  {
   "cell_type": "code",
   "execution_count": 60,
   "id": "ed1f3278",
   "metadata": {},
   "outputs": [
    {
     "name": "stdout",
     "output_type": "stream",
     "text": [
      "Enter the Row size for matrix - 2\n",
      "Enter the Col size for matrix - 2\n",
      "Enter the entries rowwise:\n",
      "1\n",
      "2\n",
      "2\n",
      "6\n",
      "4\n",
      "5\n",
      "2\n",
      "6\n",
      "The sum of the two matrices is \n",
      "5 7 \n",
      "4 12 \n"
     ]
    }
   ],
   "source": [
    "#1. Write a Python Program to Add Two Matrices?\n",
    "\n",
    "row = int(input(\"Enter the Row size for matrix - \"))\n",
    "col = int(input(\"Enter the Col size for matrix - \"))\n",
    "\n",
    "matrix_A = []\n",
    "matrix_B = []\n",
    "\n",
    "\n",
    "print(\"Enter the entries rowwise:\")\n",
    "\n",
    "for i in range(row):          \n",
    "    a =[]\n",
    "    for j in range(col):      \n",
    "         a.append(int(input()))\n",
    "    matrix_A.append(a)\n",
    "    \n",
    "for i in range(row):          \n",
    "    b =[]\n",
    "    for j in range(col):      \n",
    "         b.append(int(input()))\n",
    "    matrix_B.append(b)\n",
    "\n",
    "\n",
    "\n",
    "print(\"The sum of the two matrices is \")\n",
    "for i in range(row):\n",
    "    for j in range(col):\n",
    "        \n",
    "        print((matrix_A[i][j] +matrix_B[i][j]) , end = \" \")\n",
    "    print()    \n"
   ]
  },
  {
   "cell_type": "code",
   "execution_count": 62,
   "id": "5c6970a5",
   "metadata": {},
   "outputs": [
    {
     "name": "stdout",
     "output_type": "stream",
     "text": [
      "[114, 160, 60, 27]\n",
      "[74, 97, 73, 14]\n",
      "[119, 157, 112, 23]\n"
     ]
    }
   ],
   "source": [
    "#2. Write a Python Program to Multiply Two Matrices?\n",
    "A = [[12, 7, 3],\n",
    "    [4, 5, 6],\n",
    "    [7, 8, 9]]\n",
    " \n",
    "# take a 3x4 matrix   \n",
    "B = [[5, 8, 1, 2],\n",
    "    [6, 7, 3, 0],\n",
    "    [4, 5, 9, 1]]\n",
    "     \n",
    "result = [[0, 0, 0, 0],\n",
    "        [0, 0, 0, 0],\n",
    "        [0, 0, 0, 0]]\n",
    " \n",
    "# iterating by row of A\n",
    "for i in range(len(A)):\n",
    " \n",
    "    # iterating by column by B\n",
    "    for j in range(len(B[0])):\n",
    " \n",
    "        # iterating by rows of B\n",
    "        for k in range(len(B)):\n",
    "            result[i][j] += A[i][k] * B[k][j]\n",
    " \n",
    "for r in result:\n",
    "    print(r)\n",
    "\n"
   ]
  },
  {
   "cell_type": "code",
   "execution_count": 63,
   "id": "9c9fe8cd",
   "metadata": {},
   "outputs": [
    {
     "name": "stdout",
     "output_type": "stream",
     "text": [
      "[12, 4, 3]\n",
      "[7, 5, 8]\n"
     ]
    }
   ],
   "source": [
    "#Write a Python Program to Transpose a Matrix?\n",
    "\n",
    "X = [[12,7],\n",
    "    [4 ,5],\n",
    "    [3 ,8]]\n",
    "\n",
    "result = [[0,0,0],\n",
    "         [0,0,0]]\n",
    "\n",
    "# iterate through rows\n",
    "for i in range(len(X)):\n",
    "   # iterate through columns\n",
    "   for j in range(len(X[0])):\n",
    "       result[j][i] = X[i][j]\n",
    "\n",
    "for r in result:\n",
    "   print(r)"
   ]
  },
  {
   "cell_type": "code",
   "execution_count": 85,
   "id": "e7be4813",
   "metadata": {},
   "outputs": [
    {
     "name": "stdout",
     "output_type": "stream",
     "text": [
      "Enter a string: sas adaa fsa a sdsdd\n",
      "a\n",
      "adaa\n",
      "fsa\n",
      "sas\n",
      "sdsdd\n"
     ]
    }
   ],
   "source": [
    "#Write a Python Program to Sort Words in Alphabetic Order?\n",
    "\n",
    "my_str = input(\"Enter a string: \")  \n",
    "\n",
    "words = my_str.split()  \n",
    "  \n",
    "words.sort()  \n",
    " \n",
    "for i in words:  \n",
    "   print(i)  "
   ]
  },
  {
   "cell_type": "code",
   "execution_count": 87,
   "id": "328309e1",
   "metadata": {},
   "outputs": [
    {
     "name": "stdout",
     "output_type": "stream",
     "text": [
      "Enter a string: saa/sd.fsf/dd's;./da/sd\n",
      "saasdfsfddsdasd\n"
     ]
    }
   ],
   "source": [
    "# 5. Write a Python Program to Remove Punctuation From a String?\n",
    "punctuations = '''!()-[]{};:'\"\\,<>./?@#$%^&*_~'''\n",
    "my_str = input(\"Enter a string: \") \n",
    "no_punct = \"\"\n",
    "for char in my_str:\n",
    "   if char not in punctuations:\n",
    "       no_punct = no_punct + char\n",
    "\n",
    "\n",
    "print(no_punct)"
   ]
  },
  {
   "cell_type": "code",
   "execution_count": null,
   "id": "d9f0bcb2",
   "metadata": {},
   "outputs": [],
   "source": []
  }
 ],
 "metadata": {
  "kernelspec": {
   "display_name": "Python 3",
   "language": "python",
   "name": "python3"
  },
  "language_info": {
   "codemirror_mode": {
    "name": "ipython",
    "version": 3
   },
   "file_extension": ".py",
   "mimetype": "text/x-python",
   "name": "python",
   "nbconvert_exporter": "python",
   "pygments_lexer": "ipython3",
   "version": "3.8.8"
  }
 },
 "nbformat": 4,
 "nbformat_minor": 5
}
