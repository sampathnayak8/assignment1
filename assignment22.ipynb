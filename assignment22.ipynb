{
 "cells": [
  {
   "cell_type": "markdown",
   "id": "156bcf7c",
   "metadata": {},
   "source": [
    "Question1\n",
    "\n",
    "Create a function that takes three parameters where:\n",
    " x is the start of the range (inclusive).\n",
    " y is the end of the range (inclusive).\n",
    " n is the divisor to be checked against."
   ]
  },
  {
   "cell_type": "code",
   "execution_count": 65,
   "id": "8a2e6d66",
   "metadata": {},
   "outputs": [
    {
     "data": {
      "text/plain": [
       "[8]"
      ]
     },
     "execution_count": 65,
     "metadata": {},
     "output_type": "execute_result"
    }
   ],
   "source": [
    "def list_operation(x,y,n):\n",
    "    lst = []\n",
    "    for i in range(x,y+1):\n",
    "        if i % n == 0:\n",
    "            lst.append(i)\n",
    "            \n",
    "    return lst\n",
    "\n",
    "#driver code\n",
    "list_operation(7, 9, 2)"
   ]
  },
  {
   "cell_type": "markdown",
   "id": "09289747",
   "metadata": {},
   "source": [
    "Question2\n",
    "\n",
    "Create a function that takes in two lists and returns True if the second list follows the first list\n",
    "by one element, and False otherwise. In other words, determine if the second list is the first\n",
    "list shifted to the right by 1."
   ]
  },
  {
   "cell_type": "code",
   "execution_count": 1,
   "id": "aa8aa252",
   "metadata": {},
   "outputs": [
    {
     "name": "stdout",
     "output_type": "stream",
     "text": [
      "True\n"
     ]
    }
   ],
   "source": [
    "lst1 = []\n",
    "lst2 = []\n",
    "\n",
    "def simon_says(lst1,lst2):\n",
    "    cnt = 0\n",
    "    for i in lst1:\n",
    "        if i in lst2:\n",
    "            cnt = cnt + 1\n",
    "            print(True)\n",
    "            break\n",
    "    if cnt == 0:\n",
    "        print(False)\n",
    "    return\n",
    "    \n",
    "simon_says([1, 2], [5, 1])"
   ]
  },
  {
   "cell_type": "markdown",
   "id": "4a9b5e9e",
   "metadata": {},
   "source": [
    "Question3\n",
    "\n",
    "A group of friends have decided to start a secret society. The name will be the first letter of\n",
    "each of their names, sorted in alphabetical order.\n",
    "Create a function that takes in a list of names and returns the name of the secret society."
   ]
  },
  {
   "cell_type": "code",
   "execution_count": 14,
   "id": "263f9dfd",
   "metadata": {},
   "outputs": [
    {
     "data": {
      "text/plain": [
       "'CHLN'"
      ]
     },
     "execution_count": 14,
     "metadata": {},
     "output_type": "execute_result"
    }
   ],
   "source": [
    "#question 3\n",
    "lst = []\n",
    "def society_name(lst):\n",
    "    lst_society = []\n",
    "    string = \"\"\n",
    "    for i in lst:\n",
    "        lst_society.append(i[0])\n",
    "        lst_society.sort()\n",
    "    for i in lst_society:\n",
    "        string = string + i\n",
    "\n",
    "    return string\n",
    "        \n",
    "society_name([\"Harry\", \"Newt\", \"Luna\", \"Cho\"])       "
   ]
  },
  {
   "cell_type": "markdown",
   "id": "18ab26cd",
   "metadata": {},
   "source": [
    "Question4\n",
    "\n",
    "An isogram is a word that has no duplicate letters. Create a function that takes a string and\n",
    "returns either True or False depending on whether or not it&#39;s an &quot;isogram&quot;."
   ]
  },
  {
   "cell_type": "code",
   "execution_count": 68,
   "id": "10bd92ef",
   "metadata": {},
   "outputs": [
    {
     "data": {
      "text/plain": [
       "False"
      ]
     },
     "execution_count": 68,
     "metadata": {},
     "output_type": "execute_result"
    }
   ],
   "source": [
    "#Question 4 \n",
    "\n",
    "def is_isogram(word):\n",
    "    \n",
    "    clean_word = word.lower()\n",
    " \n",
    "\n",
    "    letter_list = []\n",
    " \n",
    "    for letter in clean_word:\n",
    " \n",
    "        if letter.isalpha():\n",
    "            if letter in letter_list:\n",
    "                return False\n",
    "            letter_list.append(letter)\n",
    " \n",
    "    return True\n",
    "    \n",
    "is_isogram(\"sampath\")\n"
   ]
  },
  {
   "cell_type": "markdown",
   "id": "10cfc5d0",
   "metadata": {},
   "source": [
    "Question5\n",
    "\n",
    "Create a function that takes a string and returns True or False, depending on whether the\n",
    "characters are in order or not."
   ]
  },
  {
   "cell_type": "code",
   "execution_count": 78,
   "id": "cf229c1c",
   "metadata": {},
   "outputs": [
    {
     "data": {
      "text/plain": [
       "False"
      ]
     },
     "execution_count": 78,
     "metadata": {},
     "output_type": "execute_result"
    }
   ],
   "source": [
    "def is_in_order(x):\n",
    "\n",
    "    i = len(x) - 1\n",
    "\n",
    "    if len(x) <= 1:\n",
    "        return True\n",
    "    \n",
    "    else:\n",
    "        \n",
    "        if x[i - 1] <= x[i]:\n",
    "            \n",
    "            x = x[:i]\n",
    "        \n",
    "            return is_in_order(x)\n",
    "        else:\n",
    "            return False\n",
    "        \n",
    "        \n",
    "is_in_order(\"edabit\")"
   ]
  }
 ],
 "metadata": {
  "kernelspec": {
   "display_name": "Python 3",
   "language": "python",
   "name": "python3"
  },
  "language_info": {
   "codemirror_mode": {
    "name": "ipython",
    "version": 3
   },
   "file_extension": ".py",
   "mimetype": "text/x-python",
   "name": "python",
   "nbconvert_exporter": "python",
   "pygments_lexer": "ipython3",
   "version": "3.8.8"
  }
 },
 "nbformat": 4,
 "nbformat_minor": 5
}
