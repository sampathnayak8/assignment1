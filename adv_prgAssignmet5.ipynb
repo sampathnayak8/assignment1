{
 "cells": [
  {
   "cell_type": "markdown",
   "id": "11c28e14",
   "metadata": {},
   "source": [
    "1. Create a function that takes a number n (integer greater than zero) as an\n",
    "argument, and returns 2 if n is odd and 8 if n is even."
   ]
  },
  {
   "cell_type": "code",
   "execution_count": 4,
   "id": "cd335c43",
   "metadata": {},
   "outputs": [
    {
     "name": "stdout",
     "output_type": "stream",
     "text": [
      "8\n"
     ]
    }
   ],
   "source": [
    "def f(n):\n",
    "    if n > 0:\n",
    "        if n%2 == 0:\n",
    "            print(\"8\")\n",
    "        else:\n",
    "            print(\"2\")\n",
    "\n",
    "    return\n",
    "\n",
    "\n",
    "f(2)\n",
    "        "
   ]
  },
  {
   "cell_type": "markdown",
   "id": "fa937fba",
   "metadata": {},
   "source": [
    "2. Create a function that returns the majority vote in a list. A majority vote is\n",
    "an element that occurs &gt; N/2 times in a list (where N is the length of the list)."
   ]
  },
  {
   "cell_type": "code",
   "execution_count": 8,
   "id": "48433637",
   "metadata": {},
   "outputs": [
    {
     "name": "stdout",
     "output_type": "stream",
     "text": [
      "None\n"
     ]
    }
   ],
   "source": [
    "l = []\n",
    "def majority_vote(l):\n",
    " \n",
    "    maxCount = 0\n",
    "    index = -1  \n",
    "    n = len(l)\n",
    "    for i in range(n):\n",
    " \n",
    "        count = 0\n",
    "        for j in range(n):\n",
    " \n",
    "            if(l[i] == l[j]):\n",
    "                count += 1\n",
    " \n",
    "        \n",
    "        if(count > maxCount):\n",
    " \n",
    "            maxCount = count\n",
    "            index = i\n",
    " \n",
    "    \n",
    "    if (maxCount > n//2):\n",
    "        print(l[index])\n",
    " \n",
    "    else:\n",
    "        print(\"None\")\n",
    " \n",
    "        \n",
    "   \n",
    "        \n",
    "#Driver code\n",
    "\n",
    "majority_vote([\"A\", \"B\", \"B\", \"A\", \"C\", \"C\"])\n",
    "    "
   ]
  },
  {
   "cell_type": "markdown",
   "id": "642796f5",
   "metadata": {},
   "source": [
    "3. Create a function that takes a string txt and censors any word from a given\n",
    "list lst. The text removed must be replaced by the given character char."
   ]
  },
  {
   "cell_type": "code",
   "execution_count": 72,
   "id": "f5ecbbb6",
   "metadata": {},
   "outputs": [
    {
     "data": {
      "text/plain": [
       "'The *** jumped **** the moon. '"
      ]
     },
     "execution_count": 72,
     "metadata": {},
     "output_type": "execute_result"
    }
   ],
   "source": [
    "lis = []\n",
    "def censor_string(string,lis,char):\n",
    "    \n",
    "    s =string.split()\n",
    "    for i in s:\n",
    "        for j in lis:\n",
    "            if i == j:\n",
    "                index = s.index(i)\n",
    "                length = len(s[index])\n",
    "                s[index] = char\n",
    "                for k in range(1,length):\n",
    "                    s[index] =  s[index] + char\n",
    "                    \n",
    "    s1 = ''\n",
    "    for n in s:\n",
    "        s1 = s1 + n\n",
    "        s1 = s1 + ' '\n",
    "                    \n",
    "    return s1\n",
    "\n",
    "censor_string(\"The cow jumped over the moon.\", [\"cow\", \"over\"], \"*\")"
   ]
  },
  {
   "cell_type": "markdown",
   "id": "552dabcf",
   "metadata": {},
   "source": [
    "4. In mathematics a Polydivisible Number (or magic number) is a number in a\n",
    "given number base with digits abcde... that has the following properties:"
   ]
  },
  {
   "cell_type": "code",
   "execution_count": 88,
   "id": "5a5a4199",
   "metadata": {},
   "outputs": [
    {
     "data": {
      "text/plain": [
       "True"
      ]
     },
     "execution_count": 88,
     "metadata": {},
     "output_type": "execute_result"
    }
   ],
   "source": [
    "def is_polydivisible(x):\n",
    "    x = str(x)\n",
    "    for i in range(len(x)):\n",
    "        if int(x[:i+1]) % (i+1) != 0:\n",
    "            return False\n",
    "    return True\n",
    "\n",
    "is_polydivisible(1232)   "
   ]
  },
  {
   "cell_type": "code",
   "execution_count": 159,
   "id": "0bf270a4",
   "metadata": {},
   "outputs": [
    {
     "name": "stdout",
     "output_type": "stream",
     "text": [
      "17\n"
     ]
    }
   ],
   "source": [
    "ls = []\n",
    "def sum_primes(ls):\n",
    "    sm = 0\n",
    "    for num in ls: \n",
    "        if num > 1:\n",
    "\n",
    "\n",
    "            for i in range(2, int(num/2)+1):\n",
    "\n",
    "                \n",
    "                if (num % i) == 0:\n",
    "\n",
    "                    break\n",
    "            else:\n",
    "                sm =sm + num\n",
    "                \n",
    "    if sm > 0:\n",
    "        print(sm)\n",
    "    else:\n",
    "        print('None')\n",
    "    return \n",
    "\n",
    "sum_primes([1, 2, 3, 4, 5, 6, 7, 8, 9, 10])"
   ]
  },
  {
   "cell_type": "code",
   "execution_count": null,
   "id": "46081c84",
   "metadata": {},
   "outputs": [],
   "source": []
  }
 ],
 "metadata": {
  "kernelspec": {
   "display_name": "Python 3",
   "language": "python",
   "name": "python3"
  },
  "language_info": {
   "codemirror_mode": {
    "name": "ipython",
    "version": 3
   },
   "file_extension": ".py",
   "mimetype": "text/x-python",
   "name": "python",
   "nbconvert_exporter": "python",
   "pygments_lexer": "ipython3",
   "version": "3.8.8"
  }
 },
 "nbformat": 4,
 "nbformat_minor": 5
}
