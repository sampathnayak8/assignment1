{
 "cells": [
  {
   "cell_type": "markdown",
   "id": "7a3a6f7c",
   "metadata": {},
   "source": [
    "1. In what modes should the PdfFileReader() and PdfFileWriter() File objects will be opened?\n",
    "\n",
    "    PdfFileReader() needs to be opened in read-binary mode by passing 'rb'\n",
    "    \n",
    "    PdfFileWriter() needs to be opened in write-binary mode with 'wb'.\n",
    "\n"
   ]
  },
  {
   "cell_type": "markdown",
   "id": "e9755df5",
   "metadata": {},
   "source": [
    "2. From a PdfFileReader object, how do you get a Page object for page 5?\n",
    "\n",
    "    by calling the getPage() method  on a PdfFileReader object and passing it the page number of the page you're interested \n"
   ]
  },
  {
   "cell_type": "markdown",
   "id": "ff3682f6",
   "metadata": {},
   "source": [
    "3. What PdfFileReader variable stores the number of pages in the PDF document?\n",
    "\n",
    "    numPages attribute of a PdfFileReader object"
   ]
  },
  {
   "cell_type": "markdown",
   "id": "f91bc9c6",
   "metadata": {},
   "source": [
    "4. If a PdfFileReader object’s PDF is encrypted with the password swordfish, what must you do\n",
    "before you can obtain Page objects from it?\n",
    "\n",
    "    To read an encrypted PDF, call the decrypt() function and pass the password as a string . After you call decrypt() with the correct password"
   ]
  },
  {
   "cell_type": "markdown",
   "id": "43bafc3e",
   "metadata": {},
   "source": [
    "5. What methods do you use to rotate a page\n",
    "\n",
    "    rotateClockwise() and rotateCounterClockwise() methods\n",
    "\n",
    "    \n",
    "\n",
    "\n",
    "    "
   ]
  },
  {
   "cell_type": "markdown",
   "id": "038c61d3",
   "metadata": {},
   "source": [
    "6. What is the difference between a Run object and a Paragraph object?\n",
    "\n",
    "    A document contains multiple paragraphs. A paragraph begins on a new line and contains multiple runs. Runs are contiguous groups of characters within a paragraph.\n",
    "\n",
    "    \n",
    " "
   ]
  },
  {
   "cell_type": "markdown",
   "id": "03ac8140",
   "metadata": {},
   "source": [
    "7. How do you obtain a list of Paragraph objects for a Document object that’s stored in a variable\n",
    "named doc?\n",
    "\n",
    "    Use doc.paragraphs\n",
    "\n"
   ]
  },
  {
   "cell_type": "markdown",
   "id": "10f312c9",
   "metadata": {},
   "source": [
    "8. What type of object has bold, underline, italic, strike, and outline variables?\n",
    "    \n",
    "    A Run object has these variables (not a paragraph)\n",
    "    "
   ]
  },
  {
   "cell_type": "markdown",
   "id": "974ea9ef",
   "metadata": {},
   "source": [
    "9. What is the difference between False, True, and None for the bold variable?\n",
    "\n",
    "    True always makes the Run object bolded and False makes it always not bolded, no matter what the style's bold setting is. None will make the Run object just use the style's bold setting."
   ]
  },
  {
   "cell_type": "markdown",
   "id": "0baafeb1",
   "metadata": {},
   "source": [
    "10. How do you create a Document object for a new Word document?\n",
    "\n",
    "    Call the docx.Document() function."
   ]
  },
  {
   "cell_type": "markdown",
   "id": "2a0adb3d",
   "metadata": {},
   "source": [
    "11. How do you add a paragraph with the text &#39;Hello, there!&#39; to a Document object stored in a\n",
    "variable named doc?\n",
    "\n",
    "    doc.add_paragraph('Hello there!')"
   ]
  },
  {
   "cell_type": "markdown",
   "id": "fdac959f",
   "metadata": {},
   "source": [
    "12. What integers represent the levels of headings available in Word documents?\n",
    "\n",
    "        \n",
    "        \n",
    "      The integers 0,1,2,3, and 4\n",
    "    \n",
    "    "
   ]
  }
 ],
 "metadata": {
  "kernelspec": {
   "display_name": "Python 3",
   "language": "python",
   "name": "python3"
  },
  "language_info": {
   "codemirror_mode": {
    "name": "ipython",
    "version": 3
   },
   "file_extension": ".py",
   "mimetype": "text/x-python",
   "name": "python",
   "nbconvert_exporter": "python",
   "pygments_lexer": "ipython3",
   "version": "3.8.8"
  }
 },
 "nbformat": 4,
 "nbformat_minor": 5
}
