{
 "cells": [
  {
   "cell_type": "code",
   "execution_count": null,
   "id": "35241905",
   "metadata": {},
   "outputs": [],
   "source": []
  },
  {
   "cell_type": "code",
   "execution_count": null,
   "id": "ec84a8a8",
   "metadata": {},
   "outputs": [],
   "source": []
  },
  {
   "cell_type": "markdown",
   "id": "2d01e13b",
   "metadata": {},
   "source": [
    "2. Write a function that takes the coordinates of three points in the form of a\n",
    "2d array and returns the perimeter of the triangle. The given points are the\n",
    "vertices of a triangle on a two-dimensional plane."
   ]
  },
  {
   "cell_type": "code",
   "execution_count": 48,
   "id": "7d5682ae",
   "metadata": {},
   "outputs": [
    {
     "name": "stdout",
     "output_type": "stream",
     "text": [
      "The perimeter of triangle  : 68.28\n"
     ]
    }
   ],
   "source": [
    "import math\n",
    "def perimeter(lis):\n",
    "    A = lis[0]\n",
    "    B = lis[1]\n",
    "    C = lis[2]\n",
    "    x1,x2,x3 = A[0],B[0],C[0]\n",
    "    y1,y2,y3 = A[1],B[1],C[1]\n",
    "    AB = math.sqrt((math.pow((x2-x1),2))+(math.pow((y2-y1),2)))\n",
    "    BC = math.sqrt((math.pow((x3-x2),2))+(math.pow((y3-y2),2)))\n",
    "    AC = math.sqrt((math.pow((x3-x1),2))+(math.pow((y3-y1),2)))\n",
    "    per = AB+BC+AC \n",
    "    print (\"The perimeter of triangle  : \",end=\"\")\n",
    "    print ('%.2f'%per)\n",
    "    return \n",
    "    \n",
    "perimeter( [ [-10, -10], [10, 10 ], [-10, 10] ] )"
   ]
  },
  {
   "cell_type": "markdown",
   "id": "61d7eccb",
   "metadata": {},
   "source": [
    "4. A financial institution provides professional services to banks and claims\n",
    "charges from the customers based on the number of man-days provided.\n",
    "Internally, it has set a scheme to motivate and reward staff to meet and\n",
    "exceed targeted billable utilization and revenues by paying a bonus for each\n",
    "day claimed from customers in excess of a threshold target."
   ]
  },
  {
   "cell_type": "code",
   "execution_count": 84,
   "id": "bf7db6e0",
   "metadata": {},
   "outputs": [
    {
     "data": {
      "text/plain": [
       "8200"
      ]
     },
     "execution_count": 84,
     "metadata": {},
     "output_type": "execute_result"
    }
   ],
   "source": [
    "def bonus(a):\n",
    "    if a< 0:\n",
    "        print(\"days cannot be negetive\")\n",
    "    else:\n",
    "        \n",
    "        bonus = 0\n",
    "        for i in range(0,a+1):\n",
    "\n",
    "            if i<33:\n",
    "                bonus =bonus +0\n",
    "            if i>=33 and i<41:\n",
    "                bonus =bonus + 325\n",
    "\n",
    "            if i >=41 and i<=48:\n",
    "                bonus = bonus + 550\n",
    "            if i > 48:\n",
    "                bonus = bonus + 600\n",
    "\n",
    "        return bonus\n",
    "            \n",
    "bonus(50)   "
   ]
  },
  {
   "cell_type": "markdown",
   "id": "59532bc4",
   "metadata": {},
   "source": [
    "5. A number is said to be Disarium if the sum of its digits raised to their\n",
    "respective positions is the number itself.\n",
    "Create a function that determines whether a number is a Disarium or not."
   ]
  },
  {
   "cell_type": "code",
   "execution_count": 113,
   "id": "9becefe8",
   "metadata": {},
   "outputs": [
    {
     "data": {
      "text/plain": [
       "True"
      ]
     },
     "execution_count": 113,
     "metadata": {},
     "output_type": "execute_result"
    }
   ],
   "source": [
    "import math\n",
    "def is_disarium(n):\n",
    "    i2 = 0\n",
    "    j = 1\n",
    "    stn = str(n)\n",
    "    while j <= len(stn):\n",
    "        for i in stn:\n",
    "            i1 = int(i)\n",
    "            i2 = i2 + math.pow(i1,j)\n",
    "            j = j + 1\n",
    "    if i2 == n:\n",
    "        a =True\n",
    "    else:\n",
    "        a =False\n",
    "    \n",
    "    return a\n",
    "    \n",
    "        \n",
    "is_disarium(8)    "
   ]
  },
  {
   "cell_type": "code",
   "execution_count": null,
   "id": "607b5edd",
   "metadata": {},
   "outputs": [],
   "source": []
  }
 ],
 "metadata": {
  "kernelspec": {
   "display_name": "Python 3",
   "language": "python",
   "name": "python3"
  },
  "language_info": {
   "codemirror_mode": {
    "name": "ipython",
    "version": 3
   },
   "file_extension": ".py",
   "mimetype": "text/x-python",
   "name": "python",
   "nbconvert_exporter": "python",
   "pygments_lexer": "ipython3",
   "version": "3.8.8"
  }
 },
 "nbformat": 4,
 "nbformat_minor": 5
}
