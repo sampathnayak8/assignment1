{
 "cells": [
  {
   "cell_type": "code",
   "execution_count": 1,
   "id": "0805e67f",
   "metadata": {},
   "outputs": [
    {
     "name": "stdout",
     "output_type": "stream",
     "text": [
      "Please enter a range - 10\n",
      "0,"
     ]
    }
   ],
   "source": [
    "#question 1\n",
    "\n",
    "def gen(a):\n",
    "    for i in range(0,a):\n",
    "        if i % 5 ==0 and i % 7 == 0:\n",
    "            yield i\n",
    "\n",
    "a = int(input(\"Please enter a range - \"))\n",
    "\n",
    "for i in gen(a):\n",
    "    print(i, end = \",\")"
   ]
  },
  {
   "cell_type": "code",
   "execution_count": 2,
   "id": "3dc96bdc",
   "metadata": {},
   "outputs": [
    {
     "name": "stdout",
     "output_type": "stream",
     "text": [
      "Enter the range for even numbers 10\n",
      "0,2,4,6,8,10,"
     ]
    }
   ],
   "source": [
    "#question 2\n",
    "\n",
    "def even(b):\n",
    "    for i in range(0,b+1):\n",
    "        if i % 2 == 0:\n",
    "            yield i\n",
    "            \n",
    "b = int(input(\"Enter the range for even numbers \"))\n",
    "\n",
    "for i in even(b):\n",
    "    print(i, end = ',')\n",
    "    "
   ]
  },
  {
   "cell_type": "code",
   "execution_count": 3,
   "id": "bafe37b8",
   "metadata": {},
   "outputs": [
    {
     "name": "stdout",
     "output_type": "stream",
     "text": [
      "Enter the range for fibonacci 10\n",
      "[0, 1, 1, 2, 3, 5, 8, 13, 21, 34, 55]\n"
     ]
    }
   ],
   "source": [
    "#question 3\n",
    "n=int(input(\"Enter the range for fibonacci \"))\n",
    "mylist=[0,1]  \n",
    "[mylist.append(mylist[-2]+mylist[-1]) for n in range(n-1)]\n",
    "print(mylist)  "
   ]
  },
  {
   "cell_type": "code",
   "execution_count": 30,
   "id": "7a3a6c36",
   "metadata": {},
   "outputs": [
    {
     "name": "stdout",
     "output_type": "stream",
     "text": [
      "Enter the Email adress sampathnayak@gmail.com\n",
      "The username is sampathnayak\n"
     ]
    }
   ],
   "source": [
    "#question 4\n",
    "\n",
    "def username(s):\n",
    "    st = ''\n",
    "    a = ''        \n",
    "    for i in s:\n",
    "         if i == '@':\n",
    "            a = st\n",
    "         else:\n",
    "            st =st + i  \n",
    "\n",
    "    return \"The username is \" + a\n",
    "\n",
    "s =input(\"Enter the Email adress \")\n",
    "\n",
    "print(username(s))\n",
    "    "
   ]
  },
  {
   "cell_type": "code",
   "execution_count": 36,
   "id": "2e94d62b",
   "metadata": {},
   "outputs": [
    {
     "name": "stdout",
     "output_type": "stream",
     "text": [
      "The area of a square with a side length of 2.000000 is 4.000000\n"
     ]
    }
   ],
   "source": [
    "#question 5\n",
    "\n",
    "class Shape:\n",
    "    area = 0\n",
    "    def __init__(self,b):\n",
    "        self.b = b\n",
    "\n",
    "class Square(Shape):\n",
    "\n",
    "    def __init__(self, length):\n",
    "        self.length = length\n",
    "\n",
    "    def area(self):\n",
    "        a = (self.length * self.length)\n",
    "        print('The area of a square with a side length of %f is %f' % (self.length, a))\n",
    "\n",
    "\n",
    "s = Square(2)\n",
    "s.area()"
   ]
  },
  {
   "cell_type": "code",
   "execution_count": null,
   "id": "70185106",
   "metadata": {},
   "outputs": [],
   "source": []
  },
  {
   "cell_type": "code",
   "execution_count": null,
   "id": "63608d56",
   "metadata": {},
   "outputs": [],
   "source": []
  },
  {
   "cell_type": "code",
   "execution_count": null,
   "id": "678614d2",
   "metadata": {},
   "outputs": [],
   "source": []
  }
 ],
 "metadata": {
  "kernelspec": {
   "display_name": "Python 3",
   "language": "python",
   "name": "python3"
  },
  "language_info": {
   "codemirror_mode": {
    "name": "ipython",
    "version": 3
   },
   "file_extension": ".py",
   "mimetype": "text/x-python",
   "name": "python",
   "nbconvert_exporter": "python",
   "pygments_lexer": "ipython3",
   "version": "3.8.8"
  }
 },
 "nbformat": 4,
 "nbformat_minor": 5
}
