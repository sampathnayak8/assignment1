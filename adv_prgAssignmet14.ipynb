{
 "cells": [
  {
   "cell_type": "code",
   "execution_count": 72,
   "id": "4a31aa87",
   "metadata": {},
   "outputs": [
    {
     "data": {
      "text/plain": [
       "[3.0, 1, 3.0]"
      ]
     },
     "execution_count": 72,
     "metadata": {},
     "output_type": "execute_result"
    }
   ],
   "source": [
    "l = []\n",
    "def show_the_love(l):\n",
    "    l1 = l\n",
    "    \n",
    "    for i in range(0,len(l)):\n",
    "        if i == l.index(min(l)):\n",
    "            l[i] = min(l)\n",
    "        else:\n",
    "            a = l[i] - (l[i]/4)\n",
    "            l[i] = a\n",
    "    \n",
    "    \n",
    "    return l\n",
    "show_the_love([4, 1, 4])"
   ]
  },
  {
   "cell_type": "code",
   "execution_count": 92,
   "id": "9176d4fe",
   "metadata": {},
   "outputs": [
    {
     "data": {
      "text/plain": [
       "['hr', 'o', 'sap']"
      ]
     },
     "execution_count": 92,
     "metadata": {},
     "output_type": "execute_result"
    }
   ],
   "source": [
    "def letters(s1,s2):\n",
    "    u_s1 = ''\n",
    "    s_s1 = ''\n",
    "    u_s2 = ''\n",
    "    l = []\n",
    "    for i in s1:\n",
    "        if i not in s2:\n",
    "            u_s1 = u_s1 + i\n",
    "        else:\n",
    "            s_s1 = s_s1 + i\n",
    "    for i in s2:\n",
    "        if i not in s1:\n",
    "            u_s2 = u_s2 + i\n",
    "    l.append(u_s1)\n",
    "    l.append(s_s1)\n",
    "    l.append(u_s2)\n",
    "    l.sort()\n",
    "    \n",
    "    return l\n",
    "\n",
    "letters(\"sharp\", \"soap\")"
   ]
  },
  {
   "cell_type": "code",
   "execution_count": null,
   "id": "2d3082e2",
   "metadata": {},
   "outputs": [],
   "source": []
  }
 ],
 "metadata": {
  "kernelspec": {
   "display_name": "Python 3",
   "language": "python",
   "name": "python3"
  },
  "language_info": {
   "codemirror_mode": {
    "name": "ipython",
    "version": 3
   },
   "file_extension": ".py",
   "mimetype": "text/x-python",
   "name": "python",
   "nbconvert_exporter": "python",
   "pygments_lexer": "ipython3",
   "version": "3.8.8"
  }
 },
 "nbformat": 4,
 "nbformat_minor": 5
}
