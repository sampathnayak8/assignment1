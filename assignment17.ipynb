{
 "cells": [
  {
   "cell_type": "markdown",
   "id": "bf84a43e",
   "metadata": {},
   "source": [
    "Question1. Create a function that takes three arguments a, b, c and returns the sum of the\n",
    "numbers that are evenly divided by c from the range a, b inclusive."
   ]
  },
  {
   "cell_type": "code",
   "execution_count": 54,
   "id": "55d74b09",
   "metadata": {},
   "outputs": [
    {
     "name": "stdout",
     "output_type": "stream",
     "text": [
      "Enter the values for a 1\n",
      "Enter the values for b 10\n",
      "Enter the values for c 3\n"
     ]
    },
    {
     "data": {
      "text/plain": [
       "18"
      ]
     },
     "execution_count": 54,
     "metadata": {},
     "output_type": "execute_result"
    }
   ],
   "source": [
    "#Question 1\n",
    "\n",
    "def evenly_divisible(a,b,c):\n",
    "    summ = 0\n",
    "    for i in range(a,b+1):\n",
    "        if i % c == 0:\n",
    "            summ =summ + i\n",
    "    return summ\n",
    "a = int(input(\"Enter the values for a \"))\n",
    "b = int(input(\"Enter the values for b \"))\n",
    "c = int(input(\"Enter the values for c \"))\n",
    "\n",
    "evenly_divisible(a,b,c)\n",
    "            "
   ]
  },
  {
   "cell_type": "markdown",
   "id": "a0eaece4",
   "metadata": {},
   "source": [
    "Question2. Create a function that returns True if a given inequality expression is correct and\n",
    "False otherwise.\n",
    "\n"
   ]
  },
  {
   "cell_type": "code",
   "execution_count": 62,
   "id": "1d5dfc24",
   "metadata": {},
   "outputs": [
    {
     "name": "stdout",
     "output_type": "stream",
     "text": [
      "Enter the statement 13 > 44 >1\n"
     ]
    },
    {
     "data": {
      "text/plain": [
       "False"
      ]
     },
     "execution_count": 62,
     "metadata": {},
     "output_type": "execute_result"
    }
   ],
   "source": [
    "\n",
    "def correct_signs(s):\n",
    "    regex=eval(s)\n",
    "    if regex:\n",
    "        return True\n",
    "    else:\n",
    "        return False \n",
    "s = input(\"Enter the statement \")\n",
    "\n",
    "correct_signs(s)\n",
    "\n",
    "\n"
   ]
  },
  {
   "cell_type": "markdown",
   "id": "fbc8f630",
   "metadata": {},
   "source": [
    "\n",
    "Question3. Create a function that replaces all the vowels in a string with a specified character."
   ]
  },
  {
   "cell_type": "code",
   "execution_count": 108,
   "id": "b05a2ea5",
   "metadata": {},
   "outputs": [
    {
     "data": {
      "text/plain": [
       "'s&mp&th n&y&k'"
      ]
     },
     "execution_count": 108,
     "metadata": {},
     "output_type": "execute_result"
    }
   ],
   "source": [
    "#question 3\n",
    "def replace_vowels(st,char):\n",
    "    count = 0\n",
    "    v = \"a,e,i,o,u\"\n",
    "    st =st.lower()\n",
    "    for i in st:\n",
    "        \n",
    "        if i in v: \n",
    "            st = st.replace(st[count],char)\n",
    "        \n",
    "        count = count +1 \n",
    "            \n",
    "    return st\n",
    "\n",
    "replace_vowels(\"sampath nayak\",\"&\")"
   ]
  },
  {
   "cell_type": "markdown",
   "id": "eaa59320",
   "metadata": {},
   "source": [
    "Question4. Write a function that calculates the factorial of a number recursively."
   ]
  },
  {
   "cell_type": "code",
   "execution_count": 111,
   "id": "5a51e2b0",
   "metadata": {},
   "outputs": [
    {
     "data": {
      "text/plain": [
       "120"
      ]
     },
     "execution_count": 111,
     "metadata": {},
     "output_type": "execute_result"
    }
   ],
   "source": [
    "def factorial(n): \n",
    "    if (n==1 or n==0):\n",
    "          \n",
    "        return 1\n",
    "      \n",
    "    else:\n",
    "          \n",
    "        return (n * factorial(n - 1)) \n",
    "  \n",
    "\n",
    "factorial(5)"
   ]
  },
  {
   "cell_type": "markdown",
   "id": "fcaff2ef",
   "metadata": {},
   "source": [
    "Hamming distance is the number of characters that differ between two strings."
   ]
  },
  {
   "cell_type": "code",
   "execution_count": 119,
   "id": "cde60eb7",
   "metadata": {},
   "outputs": [
    {
     "data": {
      "text/plain": [
       "5"
      ]
     },
     "execution_count": 119,
     "metadata": {},
     "output_type": "execute_result"
    }
   ],
   "source": [
    "#question 5\n",
    "\n",
    "def hamming_distance(string1,string2):\n",
    "    count = 0\n",
    "    for i in range(len(string1)):\n",
    "        if string1[i] != string2[i]:\n",
    "            count = count + 1\n",
    "    return count\n",
    "\n",
    "hamming_distance(\"abcde\",\"bcdef\")\n",
    "        \n",
    "\n"
   ]
  },
  {
   "cell_type": "code",
   "execution_count": null,
   "id": "0c10adb9",
   "metadata": {},
   "outputs": [],
   "source": []
  }
 ],
 "metadata": {
  "kernelspec": {
   "display_name": "Python 3",
   "language": "python",
   "name": "python3"
  },
  "language_info": {
   "codemirror_mode": {
    "name": "ipython",
    "version": 3
   },
   "file_extension": ".py",
   "mimetype": "text/x-python",
   "name": "python",
   "nbconvert_exporter": "python",
   "pygments_lexer": "ipython3",
   "version": "3.8.8"
  }
 },
 "nbformat": 4,
 "nbformat_minor": 5
}
