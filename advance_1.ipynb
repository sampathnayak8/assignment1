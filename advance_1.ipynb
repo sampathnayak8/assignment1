{
 "cells": [
  {
   "cell_type": "markdown",
   "id": "9184ca3c",
   "metadata": {},
   "source": [
    "Q1. What is the purpose of Python&#39;s OOP?\n",
    "\n",
    "Object-oriented programming aims to implement real-world entities like inheritance, hiding, polymorphism etc in programming. The main aim of OOP is to bind together the data and the functions that operate on them so that no other part of the code can access this data except that function"
   ]
  },
  {
   "cell_type": "markdown",
   "id": "cd97a1d9",
   "metadata": {},
   "source": [
    "Q2. Where does an inheritance search look for an attribute?\n",
    "\n",
    "definition tree"
   ]
  },
  {
   "cell_type": "markdown",
   "id": "4ded11df",
   "metadata": {},
   "source": [
    "Q3. How do you distinguish between a class object and an instance object?\n",
    "\n",
    "Class  − A variable that is shared by all instances of a class. Class variables are defined within a class but outside any of the class's methods. Class variables are not used as frequently as instance variables are\n",
    "\n",
    "Instance  − A variable that is defined inside a method and belongs only to the current instance of a class"
   ]
  },
  {
   "cell_type": "markdown",
   "id": "6adf95bf",
   "metadata": {},
   "source": [
    "Q4. What makes the first argument in a class’s method function special?\n",
    "\n"
   ]
  },
  {
   "cell_type": "markdown",
   "id": "b2acb458",
   "metadata": {},
   "source": [
    "Q5. What is the purpose of the __init__ method?\n",
    "\n",
    "\n",
    "used to initialize the object's state"
   ]
  },
  {
   "cell_type": "markdown",
   "id": "89369dcd",
   "metadata": {},
   "source": [
    "Q6. What is the process for creating a class instance?\n",
    "\n",
    "a. defining class name\n",
    "b. defining init function and assigning varibles\n",
    "c. calling the class"
   ]
  },
  {
   "cell_type": "markdown",
   "id": "7708e675",
   "metadata": {},
   "source": [
    "Q7. What is the process for creating a class?\n",
    "\n",
    "Like function definitions begin with the def keyword in Python, class definitions begin with a class keyword.\n",
    "\n",
    "The first string inside the class is called docstring and has a brief description of the class. Although not mandatory, this is highly recommended."
   ]
  },
  {
   "cell_type": "markdown",
   "id": "db948b49",
   "metadata": {},
   "source": [
    "Q8. How would you define the superclasses of a class?\n",
    "\n",
    "The class from which a class inherits is called the parent or superclass"
   ]
  },
  {
   "cell_type": "markdown",
   "id": "79b1115f",
   "metadata": {},
   "source": []
  }
 ],
 "metadata": {
  "kernelspec": {
   "display_name": "Python 3",
   "language": "python",
   "name": "python3"
  },
  "language_info": {
   "codemirror_mode": {
    "name": "ipython",
    "version": 3
   },
   "file_extension": ".py",
   "mimetype": "text/x-python",
   "name": "python",
   "nbconvert_exporter": "python",
   "pygments_lexer": "ipython3",
   "version": "3.8.8"
  }
 },
 "nbformat": 4,
 "nbformat_minor": 5
}
