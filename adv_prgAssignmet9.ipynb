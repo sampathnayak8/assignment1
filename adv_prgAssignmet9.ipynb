{
 "cells": [
  {
   "cell_type": "markdown",
   "id": "ef3c869a",
   "metadata": {},
   "source": [
    "1. YouTube offers different playback speed options for users. This allows\n",
    "users to increase or decrease the speed of the video content. Given the\n",
    "actual duration and playback speed of the video, calculate the playback\n",
    "duration of the video.\n"
   ]
  },
  {
   "cell_type": "code",
   "execution_count": 176,
   "id": "5e73957a",
   "metadata": {},
   "outputs": [
    {
     "data": {
      "text/plain": [
       "'0:15:00'"
      ]
     },
     "execution_count": 176,
     "metadata": {},
     "output_type": "execute_result"
    }
   ],
   "source": [
    "def playback_duration(string, a):\n",
    "    hr = int(string[0:2])\n",
    "    minute = int(string[3:5])\n",
    "    seconds = int(string[6:8])\n",
    "    if a == 1:\n",
    "        return \"%d:%02d:%02d\" % (hr, minute, seconds)\n",
    "    if a > 0:\n",
    "        hr = hr *60\n",
    "        Total_min = hr + minute\n",
    "        playback = Total_min // a\n",
    "        \n",
    "        if playback >= 60:\n",
    "            new_hr = playback // 60\n",
    "            new_min = (playback / 60 - new_hr)*60\n",
    "            \n",
    "        else:\n",
    "            new_hr = 0\n",
    "            new_min = playback\n",
    "        \n",
    "        \n",
    "        total_sec = seconds \n",
    "        \n",
    "     \n",
    "        if total_sec >= 60:\n",
    "            new_min = new_min + total_sec//60\n",
    "            new_sec = (total_sec/60 - total_sec//60)*60\n",
    "        else:\n",
    "            new_sec  = total_sec\n",
    "        \n",
    "        return \"%d:%02d:%02d\" % (new_hr, new_min,new_sec)\n",
    "    else:\n",
    "        print(\"Enter Valid Playaback speed\")\n",
    "    \n",
    "    \n",
    "playback_duration(\"00:30:00\", 2)"
   ]
  },
  {
   "cell_type": "markdown",
   "id": "51b01ed9",
   "metadata": {},
   "source": [
    "2. We needs your help to construct a building which will be a pile of n cubes.\n",
    "The cube at the bottom will have a volume of n^3, the cube above will have\n",
    "volume of (n-1)^3 and so on until the top which will have a volume of 1^3."
   ]
  },
  {
   "cell_type": "code",
   "execution_count": 191,
   "id": "b1728a14",
   "metadata": {},
   "outputs": [
    {
     "data": {
      "text/plain": [
       "45"
      ]
     },
     "execution_count": 191,
     "metadata": {},
     "output_type": "execute_result"
    }
   ],
   "source": [
    "def pile_of_cubes(m):\n",
    "    x = m**0.5\n",
    "    if (x%1==0):\n",
    "        c = 1\n",
    "        while (x != c and x > 0):\n",
    "            x = x - c\n",
    "            c = c + 1\n",
    "\n",
    "        if (x == c):\n",
    "            return c\n",
    "        else:\n",
    "            print('None')\n",
    "    return \n",
    "\n",
    "pile_of_cubes(1071225)"
   ]
  },
  {
   "cell_type": "markdown",
   "id": "09f3a2c5",
   "metadata": {},
   "source": [
    "3. A fulcrum of a list is an integer such that all elements to the left of it and all\n",
    "elements to the right of it sum to the same value. Write a function that finds\n",
    "the fulcrum of a list."
   ]
  },
  {
   "cell_type": "code",
   "execution_count": 195,
   "id": "f944488a",
   "metadata": {},
   "outputs": [
    {
     "data": {
      "text/plain": [
       "1"
      ]
     },
     "execution_count": 195,
     "metadata": {},
     "output_type": "execute_result"
    }
   ],
   "source": [
    "arr  = []\n",
    "def find_fulcrum(arr) :\n",
    "    n = len(arr)\n",
    "     \n",
    "    # Forming prefix sum array from 0\n",
    "    prefixSum = [0] * n\n",
    "    prefixSum[0] = arr[0]\n",
    "    for i in range(1, n) :\n",
    "        prefixSum[i] = prefixSum[i - 1] + arr[i]\n",
    " \n",
    "    # Forming suffix sum array from n-1\n",
    "    suffixSum = [0] * n\n",
    "    suffixSum[n - 1] = arr[n - 1]\n",
    "    for i in range(n - 2, -1, -1) :\n",
    "        suffixSum[i] = suffixSum[i + 1] + arr[i]\n",
    " \n",
    "    # Find the point where prefix\n",
    "    # and suffix sums are same.\n",
    "    for i in range(1, n - 1, 1) :\n",
    "        if prefixSum[i] == suffixSum[i] :\n",
    "            return arr[i]\n",
    "         \n",
    "    return -1\n",
    "\n",
    "find_fulcrum([9, 1, 9])"
   ]
  },
  {
   "cell_type": "code",
   "execution_count": null,
   "id": "c240346f",
   "metadata": {},
   "outputs": [],
   "source": []
  },
  {
   "cell_type": "code",
   "execution_count": null,
   "id": "38aa0f56",
   "metadata": {},
   "outputs": [],
   "source": []
  },
  {
   "cell_type": "code",
   "execution_count": null,
   "id": "671985a1",
   "metadata": {},
   "outputs": [],
   "source": []
  }
 ],
 "metadata": {
  "kernelspec": {
   "display_name": "Python 3",
   "language": "python",
   "name": "python3"
  },
  "language_info": {
   "codemirror_mode": {
    "name": "ipython",
    "version": 3
   },
   "file_extension": ".py",
   "mimetype": "text/x-python",
   "name": "python",
   "nbconvert_exporter": "python",
   "pygments_lexer": "ipython3",
   "version": "3.8.8"
  }
 },
 "nbformat": 4,
 "nbformat_minor": 5
}
