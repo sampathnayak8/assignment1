{
 "cells": [
  {
   "cell_type": "markdown",
   "id": "143f2af6",
   "metadata": {},
   "source": [
    "Question 1\n",
    "\n",
    "Create a function that takes a number as an argument and returns True or False depending\n",
    "on whether the number is symmetrical or not. A number is symmetrical when it is the same as\n",
    "its reverse."
   ]
  },
  {
   "cell_type": "code",
   "execution_count": 8,
   "id": "7ae31fba",
   "metadata": {},
   "outputs": [
    {
     "data": {
      "text/plain": [
       "True"
      ]
     },
     "execution_count": 8,
     "metadata": {},
     "output_type": "execute_result"
    }
   ],
   "source": [
    "def oneDigit(num):\n",
    "     \n",
    "    \n",
    "    return ((num >= 0) and\n",
    "            (num < 10))\n",
    " \n",
    "\n",
    "def isPalUtil(num, dupNum):\n",
    "     \n",
    "    \n",
    "    if oneDigit(num):\n",
    "        return (num == (dupNum[0]) % 10)\n",
    " \n",
    "   \n",
    "    if not isPalUtil(num //10, dupNum):\n",
    "        return False\n",
    " \n",
    "    \n",
    "    dupNum[0] = dupNum[0] //10\n",
    " \n",
    "    \n",
    "    return (num % 10 == (dupNum[0]) % 10)\n",
    " \n",
    "\n",
    "def is_symmetrical(num):\n",
    "    \n",
    "    if (num < 0):\n",
    "        num = (-num)\n",
    " \n",
    "    \n",
    "    dupNum = [num] \n",
    " \n",
    "    return isPalUtil(num, dupNum)\n",
    "      \n",
    "is_symmetrical(44444444)"
   ]
  },
  {
   "cell_type": "markdown",
   "id": "f6feca82",
   "metadata": {},
   "source": [
    "Question 2\n",
    "\n",
    "Given a string of numbers separated by a comma and space, return the product of the\n",
    "numbers."
   ]
  },
  {
   "cell_type": "code",
   "execution_count": 80,
   "id": "da2050a0",
   "metadata": {},
   "outputs": [
    {
     "data": {
      "text/plain": [
       "0"
      ]
     },
     "execution_count": 80,
     "metadata": {},
     "output_type": "execute_result"
    }
   ],
   "source": [
    "#Question 2\n",
    "\n",
    "def multiply_nums(a):\n",
    "    c = 1\n",
    "    for i in a:\n",
    "        \n",
    "        if i.isdigit() == True:\n",
    "            i1 = int(i)\n",
    "            c = c * i1\n",
    "    return c\n",
    "\n",
    "#driver code\n",
    "\n",
    "multiply_nums(\"54, 75, 453, 0\")"
   ]
  },
  {
   "cell_type": "markdown",
   "id": "c2832811",
   "metadata": {},
   "source": [
    "Question 3\n",
    "\n",
    "Create a function that squares every digit of a number."
   ]
  },
  {
   "cell_type": "code",
   "execution_count": 90,
   "id": "fb09c4ac",
   "metadata": {},
   "outputs": [
    {
     "data": {
      "text/plain": [
       "416649"
      ]
     },
     "execution_count": 90,
     "metadata": {},
     "output_type": "execute_result"
    }
   ],
   "source": [
    "def square_digits(num):\n",
    "    d = \"\"\n",
    "    num_str = str(num)\n",
    "    for i in num_str:\n",
    "        d = d + str(int(i)*int(i))\n",
    "    return int(d)\n",
    "        \n",
    "#Driver code\n",
    "\n",
    "square_digits(2483)"
   ]
  },
  {
   "cell_type": "markdown",
   "id": "b3d09e97",
   "metadata": {},
   "source": [
    "Question 4\n",
    "\n",
    "Create a function that sorts a list and removes all duplicate items from it."
   ]
  },
  {
   "cell_type": "code",
   "execution_count": 138,
   "id": "e81c5d44",
   "metadata": {},
   "outputs": [
    {
     "data": {
      "text/plain": [
       "[1, 2, 3]"
      ]
     },
     "execution_count": 138,
     "metadata": {},
     "output_type": "execute_result"
    }
   ],
   "source": [
    "my_list = []\n",
    "def setify(my_list):\n",
    "    my_final_list = set(my_list)\n",
    "    return list(my_final_list)\n",
    "    \n",
    "    \n",
    "#driver code\n",
    "\n",
    "setify([3, 3, 3, 2, 1])"
   ]
  },
  {
   "cell_type": "markdown",
   "id": "7dbccabb",
   "metadata": {},
   "source": [
    "Question 5\n",
    "\n",
    "Create a function that returns the mean of all digits."
   ]
  },
  {
   "cell_type": "code",
   "execution_count": 154,
   "id": "dcb4639a",
   "metadata": {},
   "outputs": [
    {
     "data": {
      "text/plain": [
       "3"
      ]
     },
     "execution_count": 154,
     "metadata": {},
     "output_type": "execute_result"
    }
   ],
   "source": [
    "def mean(n):\n",
    "    temp = 0\n",
    "    n1 = str(n)\n",
    "    for i in n1:\n",
    "        i1 = int(i)\n",
    "        temp = temp + i1\n",
    "    mn = int(temp/ len(n1))\n",
    "    \n",
    "    \n",
    "    return mn\n",
    "#driver code\n",
    "\n",
    "mean(42)"
   ]
  }
 ],
 "metadata": {
  "kernelspec": {
   "display_name": "Python 3",
   "language": "python",
   "name": "python3"
  },
  "language_info": {
   "codemirror_mode": {
    "name": "ipython",
    "version": 3
   },
   "file_extension": ".py",
   "mimetype": "text/x-python",
   "name": "python",
   "nbconvert_exporter": "python",
   "pygments_lexer": "ipython3",
   "version": "3.8.8"
  }
 },
 "nbformat": 4,
 "nbformat_minor": 5
}
