{
 "cells": [
  {
   "cell_type": "code",
   "execution_count": 1,
   "id": "85293d70",
   "metadata": {},
   "outputs": [
    {
     "name": "stdout",
     "output_type": "stream",
     "text": [
      "Enter multiple values\n",
      "100,150,180\n",
      "18,22,24,"
     ]
    }
   ],
   "source": [
    "#Write a program that calculates and prints the value according to the given formula:\n",
    "import math\n",
    "d = list(map(int, input(\"Enter multiple values\\n\").split(',')))\n",
    "C = 50\n",
    "H = 30\n",
    "for i in d:\n",
    "    D = int(i)\n",
    "    Q = int(math.pow(((2*C*D)/H),0.5))\n",
    "    print(Q, end = \",\")\n"
   ]
  },
  {
   "cell_type": "code",
   "execution_count": 2,
   "id": "a405c880",
   "metadata": {},
   "outputs": [
    {
     "name": "stdout",
     "output_type": "stream",
     "text": [
      "Enter two values\n",
      "3,5\n",
      "[[0, 0, 0, 0, 0], [0, 1, 2, 3, 4], [0, 2, 4, 6, 8]]\n"
     ]
    }
   ],
   "source": [
    "\n",
    "a, b = map(int, input(\"Enter two values\\n\").split(','))\n",
    "\n",
    "\n",
    "multi_list = [[0 for col in range(b)] for row in range(a)]\n",
    "\n",
    "for row in range(a):\n",
    "    for col in range(b):\n",
    "        multi_list[row][col]= row*col\n",
    "\n",
    "print(multi_list)\n"
   ]
  },
  {
   "cell_type": "code",
   "execution_count": 12,
   "id": "45bae3e0",
   "metadata": {},
   "outputs": [
    {
     "name": "stdout",
     "output_type": "stream",
     "text": [
      "Enter multiple values\n",
      "without,hello,bag,world\n",
      "bag,hello,without,world,"
     ]
    }
   ],
   "source": [
    "#Write a program that accepts a comma separated sequence of words as input and prints the\n",
    "#words in a comma-separated sequence after sorting them alphabetically.\n",
    "\n",
    "c = list(map(str, input(\"Enter multiple values\\n\").split(',')))\n",
    "c.sort()\n",
    "for ele in c:\n",
    "    print(ele,end =\",\")\n"
   ]
  },
  {
   "cell_type": "code",
   "execution_count": 10,
   "id": "b4d5d7dd",
   "metadata": {},
   "outputs": [
    {
     "name": "stdout",
     "output_type": "stream",
     "text": [
      "Type in: hello world and practice makes perfect and hello world again\n",
      "again and hello makes perfect practice world\n"
     ]
    }
   ],
   "source": [
    "#Write a program that accepts a sequence of whitespace separated words as input and prints\n",
    "#the words after removing all duplicate words and sorting them alphanumerically.\n",
    "phrase = input(\"Type in: \")\n",
    "phrase_splited = phrase.split(' ')\n",
    "\n",
    "word_list = []\n",
    "for i in phrase_splited:\n",
    "    if i not in word_list:\n",
    "        word_list.append(i)\n",
    "    else:\n",
    "        continue\n",
    "word_list.sort()\n",
    "print((' ').join(word_list))"
   ]
  },
  {
   "cell_type": "code",
   "execution_count": 15,
   "id": "d416e8d5",
   "metadata": {},
   "outputs": [
    {
     "name": "stdout",
     "output_type": "stream",
     "text": [
      "Enter the sentence - hello world! 123\n",
      "Letters 10\n",
      "Digits 3\n"
     ]
    }
   ],
   "source": [
    "#Write a program that accepts a sentence and calculate the number of letters and digits.\n",
    "inp = input(\"Enter the sentence - \")\n",
    "\n",
    "d=l=0\n",
    "for c in inp:\n",
    "    if c.isdigit():\n",
    "        d=d+1\n",
    "    elif c.isalpha():\n",
    "        l=l+1\n",
    "    else:\n",
    "        pass\n",
    "print(\"Letters\", l)\n",
    "print(\"Digits\", d)"
   ]
  },
  {
   "cell_type": "code",
   "execution_count": 21,
   "id": "7878d7a0",
   "metadata": {},
   "outputs": [
    {
     "name": "stdout",
     "output_type": "stream",
     "text": [
      "Type in: ABd1234@1\n",
      "ABd1234@1\n"
     ]
    }
   ],
   "source": [
    "import re\n",
    "\n",
    "passwords = input(\"Type in: \")\n",
    "passwords = passwords.split(\",\")\n",
    "\n",
    "accepted_pass = []\n",
    "for i in passwords:\n",
    "    \n",
    "    if len(i) < 6 or len(i) > 12:\n",
    "        continue\n",
    "\n",
    "    elif not re.search(\"([a-z])+\", i):\n",
    "        continue\n",
    "\n",
    "    elif not re.search(\"([A-Z])+\", i):\n",
    "        continue\n",
    "\n",
    "    elif not re.search(\"([0-9])+\", i):\n",
    "        continue\n",
    "\n",
    "    elif not re.search(\"([!@$%^&])+\", i):\n",
    "        continue\n",
    "\n",
    "    else:\n",
    "        accepted_pass.append(i)\n",
    "\n",
    "print((\" \").join(accepted_pass))\n"
   ]
  },
  {
   "cell_type": "code",
   "execution_count": null,
   "id": "0d1d6dd2",
   "metadata": {},
   "outputs": [],
   "source": []
  }
 ],
 "metadata": {
  "kernelspec": {
   "display_name": "Python 3",
   "language": "python",
   "name": "python3"
  },
  "language_info": {
   "codemirror_mode": {
    "name": "ipython",
    "version": 3
   },
   "file_extension": ".py",
   "mimetype": "text/x-python",
   "name": "python",
   "nbconvert_exporter": "python",
   "pygments_lexer": "ipython3",
   "version": "3.8.8"
  }
 },
 "nbformat": 4,
 "nbformat_minor": 5
}
