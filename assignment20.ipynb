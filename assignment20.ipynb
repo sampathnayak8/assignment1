{
 "cells": [
  {
   "cell_type": "markdown",
   "id": "a7be1c41",
   "metadata": {},
   "source": [
    "Question1\n",
    "Create a function that takes a list of strings and integers, and filters out the list so that it\n",
    "returns a list of integers only."
   ]
  },
  {
   "cell_type": "code",
   "execution_count": 6,
   "id": "1b2696ab",
   "metadata": {},
   "outputs": [
    {
     "data": {
      "text/plain": [
       "[0, 1, 2, 3, 10]"
      ]
     },
     "execution_count": 6,
     "metadata": {},
     "output_type": "execute_result"
    }
   ],
   "source": [
    "lst = []\n",
    "lst_new = []\n",
    "def filter_list(lst):\n",
    "    for i in lst:\n",
    "        if type(i) ==int:\n",
    "            lst_new.append(i)\n",
    "    return lst_new\n",
    "\n",
    "filter_list([0,1,2,3,\"A\",'b','d',10])"
   ]
  },
  {
   "cell_type": "markdown",
   "id": "edb7edaf",
   "metadata": {},
   "source": [
    "Question2\n",
    "Given a list of numbers, create a function which returns the list but with each element&#39;s\n",
    "index in the list added to itself. This means you add 0 to the number at index 0, add 1 to the\n",
    "number at index 1, etc..."
   ]
  },
  {
   "cell_type": "code",
   "execution_count": 37,
   "id": "9d73d452",
   "metadata": {},
   "outputs": [
    {
     "data": {
      "text/plain": [
       "[1, 3, 5, 7, 9]"
      ]
     },
     "execution_count": 37,
     "metadata": {},
     "output_type": "execute_result"
    }
   ],
   "source": [
    "lst1 = []\n",
    "\n",
    "def add_indexes(lst1):\n",
    "    lst1_new = []\n",
    "\n",
    "    for i in range(len(lst1)):\n",
    "        \n",
    "        lst1_new.append((lst1[i]+i))\n",
    "        \n",
    "    return lst1_new\n",
    "add_indexes([1, 2, 3, 4, 5])   "
   ]
  },
  {
   "cell_type": "markdown",
   "id": "9f8d06db",
   "metadata": {},
   "source": [
    "Question3\n",
    "Create a function that takes the height and radius of a cone as arguments and returns the\n",
    "volume of the cone rounded to the nearest hundredth. See the resources tab for the formula."
   ]
  },
  {
   "cell_type": "code",
   "execution_count": 59,
   "id": "e2e1d485",
   "metadata": {},
   "outputs": [
    {
     "name": "stdout",
     "output_type": "stream",
     "text": [
      "565.49\n"
     ]
    }
   ],
   "source": [
    "import math\n",
    "def cone_volume(h,r):\n",
    "    v = math.pi*pow(r,2)*h/3\n",
    "    print(\"%.2f\" % v)\n",
    "    return \n",
    "\n",
    "cone_volume(15,6)"
   ]
  },
  {
   "cell_type": "markdown",
   "id": "7e84b12e",
   "metadata": {},
   "source": [
    "Question4\n",
    "This Triangular Number Sequence is generated from a pattern of dots that form a triangle.\n",
    "The first 5 numbers of the sequence, or dots, are:"
   ]
  },
  {
   "cell_type": "code",
   "execution_count": 65,
   "id": "9a70cfa1",
   "metadata": {},
   "outputs": [
    {
     "data": {
      "text/plain": [
       "21.0"
      ]
     },
     "execution_count": 65,
     "metadata": {},
     "output_type": "execute_result"
    }
   ],
   "source": [
    "def triangle(n):\n",
    "    xn = n*(n+1)/2\n",
    "    return xn\n",
    "\n",
    "triangle(6)"
   ]
  },
  {
   "cell_type": "markdown",
   "id": "4ecc1d0c",
   "metadata": {},
   "source": [
    "Question5\n",
    "Create a function that takes a list of numbers between 1 and 10 (excluding one number) and\n",
    "returns the missing number."
   ]
  },
  {
   "cell_type": "code",
   "execution_count": 15,
   "id": "bbc362da",
   "metadata": {},
   "outputs": [
    {
     "name": "stdout",
     "output_type": "stream",
     "text": [
      "4\n",
      "5\n"
     ]
    }
   ],
   "source": [
    "n_lst = []\n",
    "def missing_num(n_lst):\n",
    "    for i in range(1,11):\n",
    "        \n",
    "        if i not in n_lst:\n",
    "            print(i)\n",
    "            \n",
    "    return\n",
    "missing_num([1, 2, 3, 6, 7, 8, 9, 10])  "
   ]
  },
  {
   "cell_type": "code",
   "execution_count": null,
   "id": "5a4a096f",
   "metadata": {},
   "outputs": [],
   "source": []
  }
 ],
 "metadata": {
  "kernelspec": {
   "display_name": "Python 3",
   "language": "python",
   "name": "python3"
  },
  "language_info": {
   "codemirror_mode": {
    "name": "ipython",
    "version": 3
   },
   "file_extension": ".py",
   "mimetype": "text/x-python",
   "name": "python",
   "nbconvert_exporter": "python",
   "pygments_lexer": "ipython3",
   "version": "3.8.8"
  }
 },
 "nbformat": 4,
 "nbformat_minor": 5
}
