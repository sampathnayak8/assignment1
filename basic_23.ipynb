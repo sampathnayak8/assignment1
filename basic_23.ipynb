{
 "cells": [
  {
   "cell_type": "markdown",
   "id": "111bb9b5",
   "metadata": {},
   "source": [
    "1. What is the result of the code, and why?\n",
    "&gt;&gt;&gt; def func(a, b=6, c=8):\n",
    "print(a, b, c)\n",
    "&gt;&gt;&gt; func(1, 2)"
   ]
  },
  {
   "cell_type": "code",
   "execution_count": 96,
   "id": "9d5e0b69",
   "metadata": {},
   "outputs": [
    {
     "name": "stdout",
     "output_type": "stream",
     "text": [
      "1 2 8\n"
     ]
    }
   ],
   "source": [
    "def func(a, b=6, c=8):\n",
    "    print(a,b,c)\n",
    "    \n",
    "func(1,2)\n",
    "\n",
    "#result is 1 2 8\n",
    "# a and b is assigned value  in Driver function, c is assigned initially"
   ]
  },
  {
   "cell_type": "markdown",
   "id": "9b94812e",
   "metadata": {},
   "source": [
    "2. What is the result of this code, and why?\n",
    "&gt;&gt;&gt; def func(a, b, c=5):\n",
    "print(a, b, c)\n",
    "&gt;&gt;&gt; func(1, c=3, b=2)\n",
    "\n",
    "result is  1 2 3 all values are assigned in driver function"
   ]
  },
  {
   "cell_type": "markdown",
   "id": "8e53f8b6",
   "metadata": {},
   "source": [
    "3. How about this code: what is its result, and why?\n",
    "&gt;&gt;&gt; def func(a, *pargs):\n",
    "print(a, pargs)\n",
    "&gt;&gt;&gt; func(1, 2, 3)"
   ]
  },
  {
   "cell_type": "code",
   "execution_count": 100,
   "id": "89f7d23c",
   "metadata": {},
   "outputs": [
    {
     "name": "stdout",
     "output_type": "stream",
     "text": [
      "1 (2, 3, 4, 5, 5, 6, 8)\n"
     ]
    }
   ],
   "source": [
    "def func(a, *pargs): \n",
    "    print(a, pargs) \n",
    "    \n",
    "func(1, 2, 3,4,5,5,6,8)"
   ]
  },
  {
   "cell_type": "markdown",
   "id": "9beaa337",
   "metadata": {},
   "source": [
    "4. What does this code print, and why?\n",
    "&gt;&gt;&gt; def func(a, **kargs):\n",
    "print(a, kargs)\n",
    "&gt;&gt;&gt; func(a=1, c=3, b=2)"
   ]
  },
  {
   "cell_type": "markdown",
   "id": "6fd40b9e",
   "metadata": {},
   "source": [
    "code prints 1, (2,3) a = 1 will be printed differently and kargs are printed seperately"
   ]
  },
  {
   "cell_type": "code",
   "execution_count": null,
   "id": "28574897",
   "metadata": {},
   "outputs": [],
   "source": []
  }
 ],
 "metadata": {
  "kernelspec": {
   "display_name": "Python 3",
   "language": "python",
   "name": "python3"
  },
  "language_info": {
   "codemirror_mode": {
    "name": "ipython",
    "version": 3
   },
   "file_extension": ".py",
   "mimetype": "text/x-python",
   "name": "python",
   "nbconvert_exporter": "python",
   "pygments_lexer": "ipython3",
   "version": "3.8.8"
  }
 },
 "nbformat": 4,
 "nbformat_minor": 5
}
