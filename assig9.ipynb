{
 "cells": [
  {
   "cell_type": "code",
   "execution_count": null,
   "id": "8fff4c98",
   "metadata": {},
   "outputs": [],
   "source": [
    "1.To what does a relative path refer?\n",
    "\n",
    "A relative path refers to a location that is relative to a current directory"
   ]
  },
  {
   "cell_type": "code",
   "execution_count": null,
   "id": "0c75c08a",
   "metadata": {},
   "outputs": [],
   "source": [
    "2. What does an absolute path start with your operating system?\n",
    "\n",
    "absolute path is a complete path from start of actual file system from / directory"
   ]
  },
  {
   "cell_type": "code",
   "execution_count": null,
   "id": "7395a3f5",
   "metadata": {},
   "outputs": [],
   "source": [
    "3. What do the functions os.getcwd() and os.chdir() do?\n",
    "\n",
    "os.getcwd() gives the location of current work directory\n",
    "os.chdir() change the current work directory to different assigned one"
   ]
  },
  {
   "cell_type": "code",
   "execution_count": null,
   "id": "22e6e998",
   "metadata": {},
   "outputs": [],
   "source": [
    "4.What are the . and .. folders?\n",
    "\n",
    "The . folder is the current folder, and .. is the parent folder."
   ]
  },
  {
   "cell_type": "code",
   "execution_count": null,
   "id": "9fb9f917",
   "metadata": {},
   "outputs": [],
   "source": [
    "6. What are the three “mode” arguments that can be passed to the open() function?\n",
    "\n",
    "C:\\bacon\\eggs is the dir name, while spam.txt is the base name."
   ]
  },
  {
   "cell_type": "code",
   "execution_count": null,
   "id": "7c765ea6",
   "metadata": {},
   "outputs": [],
   "source": [
    "7. What happens if an existing file is opened in write mode?\n",
    "\n",
    "An existing file opened in write mode is erased and completely overwritten."
   ]
  },
  {
   "cell_type": "code",
   "execution_count": null,
   "id": "e7beef32",
   "metadata": {},
   "outputs": [],
   "source": [
    "8. How do you tell the difference between read() and readlines()?\n",
    "\n",
    "The read() method returns the file's entire contents as a single string value. The readlines() method returns a list of strings,\n",
    "where each string is a line from the file's contents."
   ]
  },
  {
   "cell_type": "code",
   "execution_count": null,
   "id": "1f731828",
   "metadata": {},
   "outputs": [],
   "source": [
    "9. What data structure does a shelf value resemble?\n",
    "\n",
    "A shelf value resembles a dictionary value; it has keys and values, along with keys() \n",
    "and values() methods that work similarly to the dictionary methods of the same names."
   ]
  },
  {
   "cell_type": "code",
   "execution_count": null,
   "id": "cefa7394",
   "metadata": {},
   "outputs": [],
   "source": []
  }
 ],
 "metadata": {
  "kernelspec": {
   "display_name": "Python 3",
   "language": "python",
   "name": "python3"
  },
  "language_info": {
   "codemirror_mode": {
    "name": "ipython",
    "version": 3
   },
   "file_extension": ".py",
   "mimetype": "text/x-python",
   "name": "python",
   "nbconvert_exporter": "python",
   "pygments_lexer": "ipython3",
   "version": "3.8.8"
  }
 },
 "nbformat": 4,
 "nbformat_minor": 5
}
