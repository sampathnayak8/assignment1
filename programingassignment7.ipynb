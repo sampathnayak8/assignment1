{
 "cells": [
  {
   "cell_type": "code",
   "execution_count": 21,
   "id": "80770257",
   "metadata": {},
   "outputs": [
    {
     "name": "stdout",
     "output_type": "stream",
     "text": [
      " the sum of array [1, 2, 3, 4, 5, 6, 7, 8, 9, 10] is  55\n"
     ]
    }
   ],
   "source": [
    "#1. Write a Python Program to find sum of array?\n",
    "\n",
    "l =[1,2,3,4,5,6,7,8,9,10]              #this is pre defined list\n",
    "su = 0\n",
    "for i in l:\n",
    "    su = su + i\n",
    "    \n",
    "print(\" the sum of array {} is  {}\". format(l,su))\n"
   ]
  },
  {
   "cell_type": "code",
   "execution_count": 38,
   "id": "97a38fbb",
   "metadata": {},
   "outputs": [
    {
     "name": "stdout",
     "output_type": "stream",
     "text": [
      "Highest value of the array [5, 188, 10, -20, 150, 15] is 188\n"
     ]
    }
   ],
   "source": [
    "#Write a Python Program to find largest element in an array?\n",
    "\n",
    "def large(ll,b):\n",
    "    high = ll[0]\n",
    "    for i in range(1,b):\n",
    "        if ll[i] > high:\n",
    "            high = ll[i]\n",
    "    return high\n",
    "\n",
    "ll =[5,188,10,-20,150,15]\n",
    "b = len(ll)\n",
    "\n",
    "print(\"Highest value of the array {} is {}\".format(ll,large(ll,b)))    "
   ]
  },
  {
   "cell_type": "code",
   "execution_count": 66,
   "id": "ad044ba1",
   "metadata": {},
   "outputs": [
    {
     "name": "stdout",
     "output_type": "stream",
     "text": [
      "Array after left rotation is:  [3, 4, 5, 6, 7, 1, 2]\n"
     ]
    }
   ],
   "source": [
    "#3. Write a Python Program for array rotation?\n",
    "\n",
    "\n",
    "def rotateArray(arr, n, d):\n",
    "    temp = []\n",
    "    i = 0\n",
    "    while (i < d):\n",
    "        temp.append(arr[i])\n",
    "        i = i + 1\n",
    "    i = 0\n",
    "    while (d < n):\n",
    "        arr[i] = arr[d]\n",
    "        i = i + 1\n",
    "        d = d + 1\n",
    "    arr[:] = arr[: i] + temp\n",
    "    return arr\n",
    " \n",
    " \n",
    "\n",
    "arr = [1, 2, 3, 4, 5, 6, 7]\n",
    "print(\"Array after left rotation is: \", end=' ')\n",
    "print(rotateArray(arr, len(arr), 2))\n",
    "\n"
   ]
  },
  {
   "cell_type": "code",
   "execution_count": 50,
   "id": "8ed26cf8",
   "metadata": {},
   "outputs": [
    {
     "name": "stdout",
     "output_type": "stream",
     "text": [
      "[20, 25, 20, 30, 'sampath', 'nayak', 'a']\n"
     ]
    }
   ],
   "source": [
    "#4. Write a Python Program to Split the array and add the first part to the end?\n",
    "\n",
    "ar =['a',20,25, 20, 30, \"sampath\", \"nayak\"]\n",
    "ar.append(ar[0])\n",
    "ar.pop(0)\n",
    "print(ar)"
   ]
  },
  {
   "cell_type": "code",
   "execution_count": 65,
   "id": "84121200",
   "metadata": {},
   "outputs": [
    {
     "name": "stdout",
     "output_type": "stream",
     "text": [
      "True\n"
     ]
    }
   ],
   "source": [
    "#5. Write a Python Program to check if given array is Monotonic?\n",
    "def isMonotonic(A):\n",
    "  \n",
    "    return (all(A[i] <= A[i + 1] for i in range(len(A) - 1)) or\n",
    "            all(A[i] >= A[i + 1] for i in range(len(A) - 1)))\n",
    "  \n",
    "\n",
    "A = [1,2,3,4,5,6]\n",
    "  \n",
    "\n",
    "print(isMonotonic(A))\n",
    "  \n",
    "\n",
    "\n"
   ]
  },
  {
   "cell_type": "code",
   "execution_count": null,
   "id": "03fd6151",
   "metadata": {},
   "outputs": [],
   "source": []
  },
  {
   "cell_type": "code",
   "execution_count": null,
   "id": "c23a747a",
   "metadata": {},
   "outputs": [],
   "source": []
  }
 ],
 "metadata": {
  "kernelspec": {
   "display_name": "Python 3",
   "language": "python",
   "name": "python3"
  },
  "language_info": {
   "codemirror_mode": {
    "name": "ipython",
    "version": 3
   },
   "file_extension": ".py",
   "mimetype": "text/x-python",
   "name": "python",
   "nbconvert_exporter": "python",
   "pygments_lexer": "ipython3",
   "version": "3.8.8"
  }
 },
 "nbformat": 4,
 "nbformat_minor": 5
}
