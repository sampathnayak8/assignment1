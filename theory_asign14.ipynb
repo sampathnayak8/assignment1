{
 "cells": [
  {
   "cell_type": "markdown",
   "id": "bccb3e5e",
   "metadata": {},
   "source": [
    "1. What does RGBA stand for?\n",
    "\n",
    "    Red-Green-Blue-Alpha"
   ]
  },
  {
   "cell_type": "markdown",
   "id": "59d63dd9",
   "metadata": {},
   "source": [
    "2. From the Pillow module, how do you get the RGBA value of any images?\n",
    "\n",
    "img = Image.open(‘image.png’)\n",
    "\n",
    "rgba = img.convert(“RGBA”)\n",
    "\n",
    "datas = rgba.getdata()\n",
    "\n",
    "    "
   ]
  },
  {
   "cell_type": "markdown",
   "id": "f968a470",
   "metadata": {},
   "source": [
    "3. What is a box tuple, and how does it work?\n",
    "    \n",
    "    The box. tuple submodule provides read-only access for the tuple userdata type. It allows, for a single tuple: selective retrieval of the field contents, retrieval of information about size, iteration over all the fields, and conversion to a Lua table"
   ]
  },
  {
   "cell_type": "markdown",
   "id": "1b55b14c",
   "metadata": {},
   "source": [
    "4. Use your image and load in notebook then, How can you find out the width and height of an\n",
    "Image object?\n",
    "\n",
    "    "
   ]
  },
  {
   "cell_type": "code",
   "execution_count": 7,
   "id": "7ba7de4d",
   "metadata": {},
   "outputs": [
    {
     "name": "stdout",
     "output_type": "stream",
     "text": [
      "1080x720\n"
     ]
    }
   ],
   "source": [
    "import PIL\n",
    "from PIL import Image\n",
    "  \n",
    "# loading the image\n",
    "#img = PIL.Image.open(\"F:\\PHOTO EDIT\\immenual water park\\new\\SKZ_0526.jpg\")\n",
    "\n",
    "img = Image.open(r\"F:\\PHOTO EDIT\\immenual water park\\new\\SKZ_0526.jpg\")\n",
    "\n",
    "img.show()\n",
    "  \n",
    "# fetching the dimensions\n",
    "wid, hgt = img.size\n",
    "  \n",
    "# displaying the dimensions\n",
    "print(str(wid) + \"x\" + str(hgt))"
   ]
  },
  {
   "cell_type": "markdown",
   "id": "bf8b890e",
   "metadata": {},
   "source": [
    "5. What method would you call to get Image object for a 100×100 image, excluding the lower-left\n",
    "quarter of it?\n",
    "\n",
    "    \n",
    "\n",
    "    "
   ]
  },
  {
   "cell_type": "markdown",
   "id": "2a382e25",
   "metadata": {},
   "source": [
    "6. After making changes to an Image object, how could you save it as an image file?\n",
    "       \n",
    "       image.save()"
   ]
  },
  {
   "cell_type": "markdown",
   "id": "91dcdda4",
   "metadata": {},
   "source": [
    "7. What module contains Pillow’s shape-drawing code?\n",
    "\n",
    "    a drawing module called ImageDraw"
   ]
  },
  {
   "cell_type": "markdown",
   "id": "fbbaf9ab",
   "metadata": {},
   "source": [
    "8. Image objects do not have drawing methods. What kind of object does? How do you get this kind\n",
    "of object?\n",
    "\n",
    "    "
   ]
  },
  {
   "cell_type": "markdown",
   "id": "6aaff258",
   "metadata": {},
   "source": []
  },
  {
   "cell_type": "markdown",
   "id": "0b5d9f7a",
   "metadata": {},
   "source": []
  },
  {
   "cell_type": "markdown",
   "id": "8f7ee345",
   "metadata": {},
   "source": []
  }
 ],
 "metadata": {
  "kernelspec": {
   "display_name": "Python 3",
   "language": "python",
   "name": "python3"
  },
  "language_info": {
   "codemirror_mode": {
    "name": "ipython",
    "version": 3
   },
   "file_extension": ".py",
   "mimetype": "text/x-python",
   "name": "python",
   "nbconvert_exporter": "python",
   "pygments_lexer": "ipython3",
   "version": "3.8.8"
  }
 },
 "nbformat": 4,
 "nbformat_minor": 5
}
