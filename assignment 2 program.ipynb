{
 "cells": [
  {
   "cell_type": "code",
   "execution_count": 3,
   "id": "431f66d9",
   "metadata": {},
   "outputs": [
    {
     "name": "stdout",
     "output_type": "stream",
     "text": [
      "Enter the kilometer value to convert it to Miles - 100\n",
      "100.0 km is 62.137100000000004 Miles\n"
     ]
    }
   ],
   "source": [
    "#Write a Python program to convert kilometers to miles?\n",
    "\n",
    "a = float(input(\"Enter the kilometer value to convert it to Miles - \"))\n",
    "b = 0.621371*a\n",
    "print(\"{} km is {} Miles\".format(a,b))"
   ]
  },
  {
   "cell_type": "code",
   "execution_count": 4,
   "id": "5350520b",
   "metadata": {},
   "outputs": [
    {
     "name": "stdout",
     "output_type": "stream",
     "text": [
      "Enter the  value to convert it to Fahrenheit - 52.5\n",
      "52.5 celsius is 126.5 Fahrenheit\n"
     ]
    }
   ],
   "source": [
    "#Write a Python program to convert Celsius to Fahrenheit?\n",
    "a1 = float(input(\"Enter the  value to convert it to Fahrenheit - \"))\n",
    "b1 = ((9/5)*a1 + 32)\n",
    "print(\"{} celsius is {} Fahrenheit\".format(a1,b1))"
   ]
  },
  {
   "cell_type": "code",
   "execution_count": 10,
   "id": "221f1c43",
   "metadata": {},
   "outputs": [
    {
     "name": "stdout",
     "output_type": "stream",
     "text": [
      "Enter year -  1996\n",
      "Enter month in number -  09\n",
      "   September 1996\n",
      "Mo Tu We Th Fr Sa Su\n",
      "                   1\n",
      " 2  3  4  5  6  7  8\n",
      " 9 10 11 12 13 14 15\n",
      "16 17 18 19 20 21 22\n",
      "23 24 25 26 27 28 29\n",
      "30\n",
      "\n"
     ]
    }
   ],
   "source": [
    "#Write a Python program to display calendar?\n",
    "\n",
    "import calendar\n",
    "\n",
    "\n",
    "y = int(input(\"Enter year -  \"))\n",
    "m = int(input(\"Enter month in number -  \"))\n",
    "\n",
    "print(calendar.month(y, m))"
   ]
  },
  {
   "cell_type": "code",
   "execution_count": 15,
   "id": "a9081572",
   "metadata": {},
   "outputs": [
    {
     "name": "stdout",
     "output_type": "stream",
     "text": [
      "format of quadratic eqn ax2 +bx+ c = 0\n",
      "Enter the value for a -  10\n",
      "Enter the value for b -  1\n",
      "Enter the value for c -  2\n",
      "The solutions (-0.05-0.44440972086577946j) and (-0.05+0.44440972086577946j)\n"
     ]
    }
   ],
   "source": [
    "#Write a Python program to solve quadratic equation?\n",
    "\n",
    "import cmath\n",
    "print(\"format of quadratic eqn ax2 +bx+ c = 0\")\n",
    "a2 = int(input(\"Enter the value for a -  \"))\n",
    "b2 = int(input(\"Enter the value for b -  \"))\n",
    "c2 = int(input(\"Enter the value for c -  \"))\n",
    "\n",
    "d = (b2**2) - (4*a2*c2)\n",
    "\n",
    "\n",
    "d1 = (-b2-cmath.sqrt(d))/(2*a2)\n",
    "d2 = (-b2+cmath.sqrt(d))/(2*a2)\n",
    "\n",
    "\n",
    "print('The solutions {} and {}'.format(d1,d2))"
   ]
  },
  {
   "cell_type": "code",
   "execution_count": 27,
   "id": "02ad46bd",
   "metadata": {},
   "outputs": [
    {
     "name": "stdout",
     "output_type": "stream",
     "text": [
      "enter the  first value for swapping - sampath\n",
      "enter the  second value for swapping - nayak\n",
      "after swapping : \n",
      "Value of first -  nayak  and second -  sampath\n"
     ]
    }
   ],
   "source": [
    "#Write a Python program to swap two variables without temp variable?\n",
    "\n",
    "x= input(\"enter the  first value for swapping - \")\n",
    "y= input(\"enter the  second value for swapping - \")\n",
    " \n",
    "\n",
    "x, y = y, x\n",
    " \n",
    "print (\"after swapping : \")\n",
    "print(\"Value of first - \", x, \" and second - \", y)"
   ]
  },
  {
   "cell_type": "code",
   "execution_count": null,
   "id": "30b135a1",
   "metadata": {},
   "outputs": [],
   "source": []
  }
 ],
 "metadata": {
  "kernelspec": {
   "display_name": "Python 3",
   "language": "python",
   "name": "python3"
  },
  "language_info": {
   "codemirror_mode": {
    "name": "ipython",
    "version": 3
   },
   "file_extension": ".py",
   "mimetype": "text/x-python",
   "name": "python",
   "nbconvert_exporter": "python",
   "pygments_lexer": "ipython3",
   "version": "3.8.8"
  }
 },
 "nbformat": 4,
 "nbformat_minor": 5
}
