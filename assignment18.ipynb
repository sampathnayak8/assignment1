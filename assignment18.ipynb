{
 "cells": [
  {
   "cell_type": "markdown",
   "id": "a8bd40c2",
   "metadata": {},
   "source": [
    "Question 1\n",
    "Create a function that takes a list of non-negative integers and strings and return a new list\n",
    "without the strings."
   ]
  },
  {
   "cell_type": "code",
   "execution_count": 153,
   "id": "0332d8f5",
   "metadata": {},
   "outputs": [
    {
     "data": {
      "text/plain": [
       "[1, 2, 3]"
      ]
     },
     "execution_count": 153,
     "metadata": {},
     "output_type": "execute_result"
    }
   ],
   "source": [
    "#question 1\n",
    "sr =[]\n",
    "def filter_list(sr):\n",
    "    sr_new = []\n",
    "    for i in sr:\n",
    "        if type(i) == int:\n",
    "            sr_new.append(i)\n",
    "    return sr_new\n",
    "\n",
    "filter_list([1,2,3,\"s\",\"d\"])   "
   ]
  },
  {
   "cell_type": "markdown",
   "id": "8d514cfe",
   "metadata": {},
   "source": [
    "Question 2\n",
    "The &quot;Reverser&quot; takes a string as input and returns that string in reverse order, with the\n",
    "opposite case."
   ]
  },
  {
   "cell_type": "code",
   "execution_count": 194,
   "id": "77551e4a",
   "metadata": {},
   "outputs": [
    {
     "data": {
      "text/plain": [
       "'DLROw OLLEh'"
      ]
     },
     "execution_count": 194,
     "metadata": {},
     "output_type": "execute_result"
    }
   ],
   "source": [
    "def reverse(st_r):\n",
    "    str1 = \"\"\n",
    "    for i in st_r:\n",
    "        if i.islower():\n",
    "            str1  = str1 + i.capitalize()\n",
    "            \n",
    "        else:\n",
    "            str1 = str1 + i.lower()\n",
    "        str2 = str1[::-1]\n",
    "        \n",
    "        \n",
    "    return str2\n",
    "reverse(\"Hello World\")       "
   ]
  },
  {
   "cell_type": "markdown",
   "id": "09ef2d32",
   "metadata": {},
   "source": [
    "Question 3\n",
    "You can assign variables from lists like this:"
   ]
  },
  {
   "cell_type": "code",
   "execution_count": 197,
   "id": "8a3df25e",
   "metadata": {},
   "outputs": [
    {
     "name": "stdout",
     "output_type": "stream",
     "text": [
      "1\n"
     ]
    }
   ],
   "source": [
    "lst = [1, 2, 3, 4, 5, 6]\n",
    "first = lst[0]\n",
    "middle = lst[1:-1]\n",
    "last = lst[-1]\n",
    "print(first)"
   ]
  },
  {
   "cell_type": "markdown",
   "id": "94cdb4b6",
   "metadata": {},
   "source": [
    "Question 4\n",
    "Write a function that calculates the factorial of a number recursively."
   ]
  },
  {
   "cell_type": "code",
   "execution_count": 200,
   "id": "0e4533b3",
   "metadata": {},
   "outputs": [
    {
     "data": {
      "text/plain": [
       "120"
      ]
     },
     "execution_count": 200,
     "metadata": {},
     "output_type": "execute_result"
    }
   ],
   "source": [
    "\n",
    "def factorial(n): \n",
    "    if (n==1 or n==0):\n",
    "          \n",
    "        return 1\n",
    "      \n",
    "    else:\n",
    "          \n",
    "        return (n * factorial(n - 1)) \n",
    "  \n",
    "\n",
    "factorial(5)"
   ]
  },
  {
   "cell_type": "markdown",
   "id": "36cc1d4e",
   "metadata": {},
   "source": [
    "Question 5\n",
    "Write a function that moves all elements of one type to the end of the list."
   ]
  },
  {
   "cell_type": "code",
   "execution_count": null,
   "id": "fd783978",
   "metadata": {},
   "outputs": [],
   "source": []
  }
 ],
 "metadata": {
  "kernelspec": {
   "display_name": "Python 3",
   "language": "python",
   "name": "python3"
  },
  "language_info": {
   "codemirror_mode": {
    "name": "ipython",
    "version": 3
   },
   "file_extension": ".py",
   "mimetype": "text/x-python",
   "name": "python",
   "nbconvert_exporter": "python",
   "pygments_lexer": "ipython3",
   "version": "3.8.8"
  }
 },
 "nbformat": 4,
 "nbformat_minor": 5
}
