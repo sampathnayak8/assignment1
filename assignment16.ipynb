{
 "cells": [
  {
   "cell_type": "code",
   "execution_count": 15,
   "id": "24f7763a",
   "metadata": {},
   "outputs": [
    {
     "name": "stdout",
     "output_type": "stream",
     "text": [
      "enter the string = sampath\n",
      "sa...sa...sampath?\n"
     ]
    }
   ],
   "source": [
    "#Question 1\n",
    "\n",
    "def stutter(a):\n",
    "    \n",
    "    if len(a) <= 2:\n",
    "        print(\"Please enter a word whose length is greater than 2 words\")\n",
    "    else:\n",
    "        for i in range(0,len(a)):\n",
    "            print(a[i], end=\"\")\n",
    "            \n",
    "            if i >= 1:\n",
    "                print(\"...\",end = \"\")\n",
    "                break\n",
    "        for i in range(0,len(a)):\n",
    "            print(a[i], end=\"\")\n",
    "            \n",
    "            if i >= 1:\n",
    "                print(\"...\",end = \"\")\n",
    "                break\n",
    "        print(a + \"?\")\n",
    "                    \n",
    "                    \n",
    "    return\n",
    "\n",
    "a = input(\"enter the string = \")\n",
    "            \n",
    "stutter(a)           \n",
    "    \n",
    "        "
   ]
  },
  {
   "cell_type": "markdown",
   "id": "d8b05745",
   "metadata": {},
   "source": [
    "Question 2.Create a function that takes an angle in radians and returns the corresponding\n",
    "angle in degrees rounded to one decimal place."
   ]
  },
  {
   "cell_type": "code",
   "execution_count": 35,
   "id": "9a2ee840",
   "metadata": {},
   "outputs": [
    {
     "name": "stdout",
     "output_type": "stream",
     "text": [
      "Enter the Radian values - 1\n",
      "1.0 radian is 57.30 Degrees\n"
     ]
    }
   ],
   "source": [
    "#question 2\n",
    "\n",
    "import math\n",
    "\n",
    "def  radians_to_degrees(rad):\n",
    "    deg = rad * (180/math.pi)\n",
    "    \n",
    "    print(rad,\"radian is \", end = \"\")\n",
    "    print ('%.2f'%deg+ \" Degrees\")\n",
    "    return \n",
    "\n",
    "rad = float(input(\"Enter the Radian values - \"))\n",
    "\n",
    "radians_to_degrees(rad)\n",
    "\n",
    "    \n",
    "    "
   ]
  },
  {
   "cell_type": "markdown",
   "id": "3bd26b9d",
   "metadata": {},
   "source": [
    "Question 3. In this challenge, establish if a given integer num is a Curzon number. If 1 plus\n",
    "2 elevated to num is exactly divisible by 1 plus 2 multiplied by num, then num is a Curzon\n",
    "number.\n",
    "Given a non-negative integer num, implement a function that returns True if num is a Curzon\n",
    "number, or False otherwise."
   ]
  },
  {
   "cell_type": "code",
   "execution_count": 42,
   "id": "ec565fea",
   "metadata": {},
   "outputs": [
    {
     "name": "stdout",
     "output_type": "stream",
     "text": [
      "Please enter a Number 5\n",
      "True\n"
     ]
    }
   ],
   "source": [
    "#Question 3\n",
    "import math\n",
    "def is_curzon(num):\n",
    "    \n",
    "    N1 = math.pow(2,num) + 1\n",
    "    N2 = (2*num) + 1\n",
    "    if N1%N2 == 0:\n",
    "        print(True)\n",
    "    else:\n",
    "        print(False)\n",
    "\n",
    "num = int(input(\"Please enter a Number \"))\n",
    "\n",
    "is_curzon(num)\n",
    "    "
   ]
  },
  {
   "cell_type": "markdown",
   "id": "e41794ba",
   "metadata": {},
   "source": [
    "Question 4.Given the side length x find the area of a hexagon.\n"
   ]
  },
  {
   "cell_type": "code",
   "execution_count": 46,
   "id": "63b2cbca",
   "metadata": {},
   "outputs": [
    {
     "name": "stdout",
     "output_type": "stream",
     "text": [
      "Enter the side of hexagon - 1\n",
      "The area of Hexagon is 2.60\n"
     ]
    }
   ],
   "source": [
    "#Question 4\n",
    "import math\n",
    "def area_of_hexagon(x):\n",
    "    area = ((3*math.pow(3,0.5))*pow(x,2)/2)\n",
    "    print(\"The area of Hexagon is \", end=\"\")\n",
    "    print ('%.2f'%area)\n",
    "    return \n",
    "x = float(input(\"Enter the side of hexagon - \"))\n",
    "\n",
    "area_of_hexagon(x)"
   ]
  },
  {
   "cell_type": "markdown",
   "id": "3763f58a",
   "metadata": {},
   "source": [
    "Question 5. Create a function that returns a base-2 (binary) representation of a base-10\n",
    "(decimal) string number. To convert is simple: ((2) means base-2 and (10) means base-10)\n",
    "010101001(2) = 1 + 8 + 32 + 128.\n",
    "Going from right to left, the value of the most right bit is 1, now from that every bit to the left\n",
    "will be x2 the value, value of an 8 bit binary numbers are (256, 128, 64, 32, 16, 8, 4, 2, 1)."
   ]
  },
  {
   "cell_type": "code",
   "execution_count": null,
   "id": "6a8f3f54",
   "metadata": {},
   "outputs": [],
   "source": [
    "#question_5\n"
   ]
  },
  {
   "cell_type": "code",
   "execution_count": null,
   "id": "fc96a7cd",
   "metadata": {},
   "outputs": [],
   "source": []
  }
 ],
 "metadata": {
  "kernelspec": {
   "display_name": "Python 3",
   "language": "python",
   "name": "python3"
  },
  "language_info": {
   "codemirror_mode": {
    "name": "ipython",
    "version": 3
   },
   "file_extension": ".py",
   "mimetype": "text/x-python",
   "name": "python",
   "nbconvert_exporter": "python",
   "pygments_lexer": "ipython3",
   "version": "3.8.8"
  }
 },
 "nbformat": 4,
 "nbformat_minor": 5
}
