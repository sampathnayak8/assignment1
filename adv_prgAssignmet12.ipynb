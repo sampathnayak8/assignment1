{
 "cells": [
  {
   "cell_type": "markdown",
   "id": "4c750461",
   "metadata": {},
   "source": [
    "For this challenge, forget how to add two numbers together. The best\n",
    "explanation on what to do for this function is this meme:"
   ]
  },
  {
   "cell_type": "code",
   "execution_count": 3,
   "id": "76c148bb",
   "metadata": {},
   "outputs": [
    {
     "data": {
      "text/plain": [
       "'911'"
      ]
     },
     "execution_count": 3,
     "metadata": {},
     "output_type": "execute_result"
    }
   ],
   "source": [
    "def meme_sum(n1,n2):\n",
    "    string = ''\n",
    "    if len(str(n1)) > len(str(n2)):\n",
    "        n1s = str(n1)\n",
    "        n2s = str(n2)\n",
    "        diff = len(str(n1)) - len(str(n2))\n",
    "        for i in range(diff):\n",
    "            string = string + str(n1[0])\n",
    "            \n",
    "        \n",
    "    if len(str(n1)) < len(str(n2)):\n",
    "        n1s = str(n1)\n",
    "        n2s = str(n2)\n",
    "        diff = len(str(n2)) - len(str(n1))\n",
    "        for j in range(diff):\n",
    "            n1s ='0'+n1s\n",
    "            \n",
    "        for i in range(0,len(n1s)):\n",
    "            \n",
    "            a = int(n1s[i]) + int(n2s[i])\n",
    "            string = string + str(a)\n",
    "    \n",
    "    else:\n",
    "        n1s = str(n1)\n",
    "        n2s = str(n2)\n",
    "        for i in range(0,len(n1s)):\n",
    "            a = int(n1s[i]) + int(n2s[i])\n",
    "            string = string + str(a)\n",
    "        \n",
    "        \n",
    "    return string  \n",
    "    \n",
    "meme_sum(12,89)    "
   ]
  },
  {
   "cell_type": "code",
   "execution_count": 4,
   "id": "4618c8dd",
   "metadata": {},
   "outputs": [
    {
     "name": "stdout",
     "output_type": "stream",
     "text": [
      "103\n"
     ]
    }
   ],
   "source": [
    "def next_prime(n):\n",
    "    count = 0\n",
    "    count1 = 0\n",
    "    if n == 1:\n",
    "        prime = False\n",
    "    else:\n",
    "        \n",
    "        \n",
    "        for i in range (2,n):\n",
    "\n",
    "\n",
    "            if n%i == 0:\n",
    "                count = count + 1\n",
    "        if count == 0:\n",
    "            prime = True\n",
    "        else:\n",
    "            prime = False\n",
    "    if prime == True:\n",
    "        print(n)\n",
    "        \n",
    "    else:\n",
    "        \n",
    "        j = n+1\n",
    "        while j > n:\n",
    "            \n",
    "            next_prime(j)\n",
    "            break\n",
    "\n",
    "#Driver code\n",
    "\n",
    "next_prime(103)"
   ]
  },
  {
   "cell_type": "code",
   "execution_count": 5,
   "id": "f39a324d",
   "metadata": {},
   "outputs": [
    {
     "data": {
      "text/plain": [
       "15.0"
      ]
     },
     "execution_count": 5,
     "metadata": {},
     "output_type": "execute_result"
    }
   ],
   "source": [
    "def ave_spd(time,s1,s2):\n",
    "    dist = s1*(time/60)\n",
    "    \n",
    "    down_hill_speed = dist/s2\n",
    "    \n",
    "    total_distance = 2*dist\n",
    "    \n",
    "    total_time = (time/60) + down_hill_speed \n",
    "    \n",
    "    return total_distance / total_time\n",
    "\n",
    "#driver code\n",
    "ave_spd(30, 10, 30)"
   ]
  },
  {
   "cell_type": "code",
   "execution_count": 88,
   "id": "cdce18f2",
   "metadata": {},
   "outputs": [
    {
     "name": "stdout",
     "output_type": "stream",
     "text": [
      "3\n"
     ]
    }
   ],
   "source": [
    "import math\n",
    "def kempner(num):\n",
    "    count = 0\n",
    "    for i in range(2,num):\n",
    "        if num% i == 0:\n",
    "            count  = 0\n",
    "            break\n",
    "        else:\n",
    "            count = count + 1\n",
    "    if count > 0:\n",
    "        print(num)\n",
    "    else:\n",
    "        for j in range(1,num+1):\n",
    "            if math.factorial(j) % num == 0:\n",
    "                print(j)\n",
    "                break  \n",
    "kempner(6)"
   ]
  },
  {
   "cell_type": "code",
   "execution_count": null,
   "id": "1781a695",
   "metadata": {},
   "outputs": [],
   "source": []
  }
 ],
 "metadata": {
  "kernelspec": {
   "display_name": "Python 3",
   "language": "python",
   "name": "python3"
  },
  "language_info": {
   "codemirror_mode": {
    "name": "ipython",
    "version": 3
   },
   "file_extension": ".py",
   "mimetype": "text/x-python",
   "name": "python",
   "nbconvert_exporter": "python",
   "pygments_lexer": "ipython3",
   "version": "3.8.8"
  }
 },
 "nbformat": 4,
 "nbformat_minor": 5
}
