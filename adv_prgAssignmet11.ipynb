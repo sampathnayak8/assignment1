{
 "cells": [
  {
   "cell_type": "markdown",
   "id": "35b6a58f",
   "metadata": {},
   "source": [
    "Create a function that takes a list and returns a new list containing only\n",
    "prime numbers."
   ]
  },
  {
   "cell_type": "code",
   "execution_count": 26,
   "id": "f37c52c1",
   "metadata": {},
   "outputs": [
    {
     "data": {
      "text/plain": [
       "[10007, 1009]"
      ]
     },
     "execution_count": 26,
     "metadata": {},
     "output_type": "execute_result"
    }
   ],
   "source": [
    "l = []\n",
    "def filter_primes(l):\n",
    "    prime = []\n",
    "    for i in l:\n",
    "        count = 0\n",
    "        for j in range(2,i):\n",
    "\n",
    "            if i%j == 0:\n",
    "                count = count + 1\n",
    "        if count == 0:\n",
    "            prime.append(i)\n",
    "    return prime   \n",
    "filter_primes([10007, 1009, 1007, 27, 147, 77, 1001, 70])"
   ]
  },
  {
   "cell_type": "markdown",
   "id": "561f3e03",
   "metadata": {},
   "source": [
    "2. Once a water balloon pops, is soaks the area around it. The ground gets\n",
    "drier the further away you travel from the balloon."
   ]
  },
  {
   "cell_type": "code",
   "execution_count": 43,
   "id": "c1620b6a",
   "metadata": {},
   "outputs": [
    {
     "data": {
      "text/plain": [
       "[0, 1, 2, 3, 4, 3, 2, 1, 0]"
      ]
     },
     "execution_count": 43,
     "metadata": {},
     "output_type": "execute_result"
    }
   ],
   "source": [
    "l = []\n",
    "def pop(l):\n",
    "    new= []\n",
    "    if len(l) == 1:\n",
    "        new.append(0)\n",
    "    else:\n",
    "        \n",
    "        for i in l:\n",
    "            if i == 0:\n",
    "                pass\n",
    "            else:\n",
    "                index = l[i]\n",
    "                number = i\n",
    "        for j in range(0,number):\n",
    "            new.append(j)\n",
    "        for k in range(number,0-1,-1):\n",
    "            new.append(k)\n",
    "    return new\n",
    "pop([0, 0, 0, 0, 4, 0, 0, 0, 0])            "
   ]
  },
  {
   "cell_type": "code",
   "execution_count": 61,
   "id": "9a4b04b9",
   "metadata": {},
   "outputs": [
    {
     "data": {
      "text/plain": [
       "'Loves me, Loves me Not, Loves me, Loves me Not, Loves me, LOVES ME NOT'"
      ]
     },
     "execution_count": 61,
     "metadata": {},
     "output_type": "execute_result"
    }
   ],
   "source": [
    "def loves_me(number):\n",
    "    s1 = 'Loves me, '\n",
    "    s2 = 'Loves me Not, '\n",
    "    s1_last = 'LOVES ME'\n",
    "    s2_last = 'LOVES ME NOT'\n",
    "    s= ''\n",
    "    for i in range(1,number+1):\n",
    "        if i == number:\n",
    "            \n",
    "            if i%2 != 0:\n",
    "                s = s + s1_last\n",
    "                \n",
    "            else:\n",
    "                s = s +s2_last\n",
    "            \n",
    "        else:\n",
    "            if i%2 != 0:\n",
    "                s= s + s1\n",
    "            else:\n",
    "                s = s +s2\n",
    "    return s\n",
    "loves_me(6)            "
   ]
  },
  {
   "cell_type": "markdown",
   "id": "6cda0750",
   "metadata": {},
   "source": [
    "Write a function that sorts each string in a list by the letter in alphabetic\n",
    "ascending order (a-z)."
   ]
  },
  {
   "cell_type": "code",
   "execution_count": 96,
   "id": "243ac358",
   "metadata": {},
   "outputs": [],
   "source": [
    "l = []\n",
    "def sort_by_letter(l):\n",
    "    alpha = []\n",
    "    index = []\n",
    "    for i in l:\n",
    "        for j in i:\n",
    "            if j.isalpha() == True:\n",
    "                alpha.append(j)\n",
    "                \n",
    "    for k in         \n",
    "    alpha.sort()   \n",
    "        \n",
    "    return alpha\n",
    "                "
   ]
  },
  {
   "cell_type": "code",
   "execution_count": 126,
   "id": "1b1bad5b",
   "metadata": {},
   "outputs": [
    {
     "data": {
      "text/plain": [
       "'C'"
      ]
     },
     "execution_count": 126,
     "metadata": {},
     "output_type": "execute_result"
    }
   ],
   "source": [
    "l = []\n",
    "def cup_swapping(l):\n",
    "    position = \"B\"\n",
    "    for i in l:\n",
    "        if position in i:\n",
    "            for j in i:\n",
    "                if j != position:\n",
    "                    position = j\n",
    "                    break         \n",
    "    return position\n",
    "cup_swapping([\"AB\", \"CA\", \"AB\"]) "
   ]
  },
  {
   "cell_type": "code",
   "execution_count": null,
   "id": "36e77c9a",
   "metadata": {},
   "outputs": [],
   "source": []
  }
 ],
 "metadata": {
  "kernelspec": {
   "display_name": "Python 3",
   "language": "python",
   "name": "python3"
  },
  "language_info": {
   "codemirror_mode": {
    "name": "ipython",
    "version": 3
   },
   "file_extension": ".py",
   "mimetype": "text/x-python",
   "name": "python",
   "nbconvert_exporter": "python",
   "pygments_lexer": "ipython3",
   "version": "3.8.8"
  }
 },
 "nbformat": 4,
 "nbformat_minor": 5
}
