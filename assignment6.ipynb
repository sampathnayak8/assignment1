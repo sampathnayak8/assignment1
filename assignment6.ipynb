{
 "cells": [
  {
   "cell_type": "code",
   "execution_count": null,
   "id": "b50d45f3",
   "metadata": {},
   "outputs": [],
   "source": [
    "1. What are escape characters, and how do you use them?\n",
    "\n",
    "To insert characters that are illegal in a string, use an escape character.An escape character is a backslash \\ followed by the character you want to insert.\n",
    "txt = \"We are the so-called \\\"Vikings\\\" from the north.\"\n",
    "output is( 'We are the so-called \"Vikings\" from the north.' )\n"
   ]
  },
  {
   "cell_type": "code",
   "execution_count": null,
   "id": "38b2baa8",
   "metadata": {},
   "outputs": [],
   "source": [
    "2. What do the escape characters n and t stand for?\n",
    "\\n = newline\n",
    "\\t = tab space"
   ]
  },
  {
   "cell_type": "code",
   "execution_count": null,
   "id": "dff6ad4f",
   "metadata": {},
   "outputs": [],
   "source": [
    "3. What is the way to include backslash characters in a string?\n",
    "print(\"sampath \\\"\\n\\\" nayak\")\n",
    "\n",
    "output : sampath \"\n",
    "\" nayak"
   ]
  },
  {
   "cell_type": "code",
   "execution_count": null,
   "id": "a56825e4",
   "metadata": {},
   "outputs": [],
   "source": [
    "4. The string \"Howl's Moving Castle\" is a correct value. Why isn't the single quote character in the\n",
    "word Howl's not escaped a problem?\n",
    "\n",
    "we used double qoutes in the beginning and end. so id single qoute comes under double qoute it wont escape"
   ]
  },
  {
   "cell_type": "code",
   "execution_count": null,
   "id": "f53e46e5",
   "metadata": {},
   "outputs": [],
   "source": [
    "5. How do you write a string of newlines if you don't want to use the n character?\n",
    "\n",
    "by using multiline strings we can eliminate the usage of \\n"
   ]
  },
  {
   "cell_type": "code",
   "execution_count": null,
   "id": "0ed44b0a",
   "metadata": {},
   "outputs": [],
   "source": [
    "6. What are the values of the given expressions?\n",
    "'Hello, world!'[1]\n",
    "'Hello, world!'[0:5]\n",
    "'Hello, world!'[:5]\n",
    "'Hello, world!'[3:]"
   ]
  },
  {
   "cell_type": "code",
   "execution_count": 28,
   "id": "5a0b4960",
   "metadata": {},
   "outputs": [
    {
     "data": {
      "text/plain": [
       "'lo, world!'"
      ]
     },
     "execution_count": 28,
     "metadata": {},
     "output_type": "execute_result"
    }
   ],
   "source": [
    "'Hello, world!'[1]\n",
    "'Hello, world!'[0:5]\n",
    "'Hello, world!'[:5]\n",
    "'Hello, world!'[3:]"
   ]
  },
  {
   "cell_type": "code",
   "execution_count": null,
   "id": "b3543328",
   "metadata": {},
   "outputs": [],
   "source": [
    "7. What are the values of the following expressions?\n",
    "'Hello'.upper() - HELLO\n",
    "'Hello'.upper().isupper()  - True\n",
    "'Hello'.upper().lower()    - hello"
   ]
  },
  {
   "cell_type": "code",
   "execution_count": null,
   "id": "015aa9e8",
   "metadata": {},
   "outputs": [],
   "source": [
    "8. What are the values of the following expressions?\n",
    "'Remember, remember, the fifth of July.'.split() - ['Remember,', 'remember,', 'the', 'fifth', 'of', 'July.']\n",
    "'-'.join('There can only one.'.split())          - 'There-can-only-one.'"
   ]
  },
  {
   "cell_type": "code",
   "execution_count": null,
   "id": "6536b33f",
   "metadata": {},
   "outputs": [],
   "source": [
    "9. What are the methods for right-justifying, left-justifying, and centering a string?\n",
    "\n"
   ]
  },
  {
   "cell_type": "code",
   "execution_count": 49,
   "id": "2a8f357c",
   "metadata": {},
   "outputs": [
    {
     "name": "stdout",
     "output_type": "stream",
     "text": [
      "                  my name is sampath nayak                  \n"
     ]
    }
   ],
   "source": [
    "cstr = \"my name is sampath nayak\"\n",
    "\n",
    "print(cstr.center(60))"
   ]
  },
  {
   "cell_type": "code",
   "execution_count": 63,
   "id": "7d46ba44",
   "metadata": {},
   "outputs": [
    {
     "name": "stdout",
     "output_type": "stream",
     "text": [
      "________________my name is sampath nayak\n"
     ]
    }
   ],
   "source": [
    "cstr = \"my name is sampath nayak\"\n",
    "print(cstr.rjust(40,'_'))"
   ]
  },
  {
   "cell_type": "code",
   "execution_count": 64,
   "id": "0a1750aa",
   "metadata": {},
   "outputs": [
    {
     "name": "stdout",
     "output_type": "stream",
     "text": [
      "my name is sampath nayak________________\n"
     ]
    }
   ],
   "source": [
    "cstr = \"my name is sampath nayak\"\n",
    "print(cstr.ljust(40,'_'))"
   ]
  },
  {
   "cell_type": "code",
   "execution_count": null,
   "id": "896bdf22",
   "metadata": {},
   "outputs": [],
   "source": [
    "10. What is the best way to remove whitespace characters from the start or end?\n",
    "\n",
    "lstrip() removes all white spaces in begining\n",
    "rstrip() removes all white spaces in end"
   ]
  },
  {
   "cell_type": "code",
   "execution_count": 85,
   "id": "d20f4dfb",
   "metadata": {},
   "outputs": [
    {
     "name": "stdout",
     "output_type": "stream",
     "text": [
      "my name is sampath      \n"
     ]
    }
   ],
   "source": [
    "char1 =\"    my name is sampath      \"\n",
    "\n",
    "print(char1.lstrip())"
   ]
  },
  {
   "cell_type": "code",
   "execution_count": 86,
   "id": "e9570fcb",
   "metadata": {},
   "outputs": [
    {
     "name": "stdout",
     "output_type": "stream",
     "text": [
      "    my name is sampath\n"
     ]
    }
   ],
   "source": [
    "\n",
    "print(char1.rstrip())"
   ]
  },
  {
   "cell_type": "code",
   "execution_count": null,
   "id": "27823197",
   "metadata": {},
   "outputs": [],
   "source": []
  },
  {
   "cell_type": "code",
   "execution_count": null,
   "id": "d6ba697f",
   "metadata": {},
   "outputs": [],
   "source": []
  }
 ],
 "metadata": {
  "kernelspec": {
   "display_name": "Python 3",
   "language": "python",
   "name": "python3"
  },
  "language_info": {
   "codemirror_mode": {
    "name": "ipython",
    "version": 3
   },
   "file_extension": ".py",
   "mimetype": "text/x-python",
   "name": "python",
   "nbconvert_exporter": "python",
   "pygments_lexer": "ipython3",
   "version": "3.8.8"
  }
 },
 "nbformat": 4,
 "nbformat_minor": 5
}
