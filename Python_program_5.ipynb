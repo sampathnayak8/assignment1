{
 "cells": [
  {
   "cell_type": "code",
   "execution_count": 74,
   "id": "edda4983",
   "metadata": {},
   "outputs": [
    {
     "name": "stdout",
     "output_type": "stream",
     "text": [
      "Enter the numbers to calculate its LCM\n",
      "First Number - 5\n",
      "Second Number - 10\n",
      "lcm of 5 and 10 is 10.0 \n"
     ]
    }
   ],
   "source": [
    "# Q1 Write a Python Program to Find LCM?\n",
    "\n",
    "print(\"Enter the numbers to calculate its LCM\")\n",
    "\n",
    "a = int(input(\"First Number - \"))\n",
    "b = int(input(\"Second Number - \"))\n",
    "if a>0 and b>0 :\n",
    "    if a<b:\n",
    "        for i in range(a,0,-1):\n",
    "            \n",
    "            if a%i == 0 and b%i ==0:\n",
    "                \n",
    "                c = a/i\n",
    "                d = b/i\n",
    "                lcm = c*d*i\n",
    "                print(\"lcm of {} and {} is {} \".format(a,b,lcm))\n",
    "                break\n",
    "            elif i ==1:\n",
    "                \n",
    "                lcm = a*b\n",
    "                print(\"lcm of {} and {} is {} \".format(a,b,lcm))\n",
    "    \n",
    "    else:\n",
    "        for i in range(b,0,-1):\n",
    "            \n",
    "            if a%i == 0 and b%i ==0:\n",
    "                \n",
    "                c = a/i\n",
    "                d = b/i\n",
    "                lcm = c*d*i\n",
    "                print(\"lcm of {} and {} is {} \".format(a,b,lcm))\n",
    "                break  \n",
    "                \n",
    "            elif i ==1 :\n",
    "                lcm =a*b\n",
    "                print(\"lcm of {} and {} is {} \".format(a,b,lcm))   \n",
    "    \n",
    "else:\n",
    "    print(\"enter positive integer\")\n",
    "    \n",
    "\n",
    "        "
   ]
  },
  {
   "cell_type": "code",
   "execution_count": 84,
   "id": "250607c7",
   "metadata": {},
   "outputs": [
    {
     "name": "stdout",
     "output_type": "stream",
     "text": [
      "Enter the numbers to calculate its HCF\n",
      "First Number - 24\n",
      "Second Number - 12\n",
      "hcf of 24 and 12 is 12 \n"
     ]
    }
   ],
   "source": [
    "# q2 Write a Python Program to Find HCF?\n",
    "print(\"Enter the numbers to calculate its HCF\")\n",
    "\n",
    "a1 = int(input(\"First Number - \"))\n",
    "b1 = int(input(\"Second Number - \"))\n",
    "if a1>0 and b1>0 :\n",
    "    if a1<b1:\n",
    "        for i in range(a1,0,-1):\n",
    "            \n",
    "            if a1%i == 0 and b1%i ==0:\n",
    "                \n",
    "                \n",
    "                print(\"hcf of {} and {} is {} \".format(a1,b1,i))\n",
    "                break\n",
    "            \n",
    "    \n",
    "    else:\n",
    "        for i in range(b1,0,-1):\n",
    "            \n",
    "            if a1%i == 0 and b1%i ==0:\n",
    "                \n",
    "                \n",
    "                print(\"hcf of {} and {} is {} \".format(a1,b1,i))\n",
    "                break  \n",
    "                \n",
    "            \n",
    "    \n",
    "else:\n",
    "    print(\"enter positive integer\")"
   ]
  },
  {
   "cell_type": "code",
   "execution_count": 114,
   "id": "4937186e",
   "metadata": {},
   "outputs": [
    {
     "name": "stdout",
     "output_type": "stream",
     "text": [
      "Enter a number to find its binary octal and hexadecimal values - 5\n",
      "The decimal value of 5 is:\n",
      "0b101 in binary.\n",
      "0o5 in octal.\n",
      "0x5 in hexadecimal.\n"
     ]
    }
   ],
   "source": [
    "# Q3 Write a Python Program to Convert Decimal to Binary, Octal and Hexadecimal?\n",
    "dc = int(input(\"Enter a number to find its binary octal and hexadecimal values - \"))\n",
    "\n",
    "\n",
    "print(\"The decimal value of\", dc, \"is:\")\n",
    "print(bin(dc), \"in binary.\")\n",
    "print(oct(dc), \"in octal.\")\n",
    "print(hex(dc), \"in hexadecimal.\")\n"
   ]
  },
  {
   "cell_type": "code",
   "execution_count": 105,
   "id": "92417703",
   "metadata": {},
   "outputs": [
    {
     "data": {
      "text/plain": [
       "0"
      ]
     },
     "execution_count": 105,
     "metadata": {},
     "output_type": "execute_result"
    }
   ],
   "source": [
    "fc = dc%2\n",
    "fc"
   ]
  },
  {
   "cell_type": "code",
   "execution_count": 120,
   "id": "3555b780",
   "metadata": {},
   "outputs": [
    {
     "name": "stdout",
     "output_type": "stream",
     "text": [
      "enter the value - a\n",
      "The ASCII value of 'a' is 97\n"
     ]
    }
   ],
   "source": [
    "#Write a Python Program To Find ASCII value of a character?\n",
    "# Program to find the ASCII value of the given character\n",
    "\n",
    "ch = input(\"enter the value - \")\n",
    "print(\"The ASCII value of '\" + ch + \"' is\", ord(ch))"
   ]
  },
  {
   "cell_type": "code",
   "execution_count": 148,
   "id": "b03afbfa",
   "metadata": {},
   "outputs": [
    {
     "name": "stdout",
     "output_type": "stream",
     "text": [
      "Select operation.\n",
      "1.Add\n",
      "2.Subtract\n",
      "3.Multiply\n",
      "4.Divide\n",
      "Enter your choice (1/2/3/4): - 2\n",
      "Enter first number for Substraction - 10.2\n",
      "Enter first number for Substraction - 20.5\n",
      "10.2 - 20.5 = -10.3\n"
     ]
    }
   ],
   "source": [
    "print(\"Select operation.\")\n",
    "print(\"1.Add\")\n",
    "print(\"2.Subtract\")\n",
    "print(\"3.Multiply\")\n",
    "print(\"4.Divide\")\n",
    "\n",
    "ch = int(input(\"Enter your choice (1/2/3/4): - \"))\n",
    "if ch in (1, 2, 3, 4):\n",
    "    \n",
    "    \n",
    "    if ch == 1:\n",
    "        ad1  =int(input(\"Enter first number for addition - \"))\n",
    "        ad2  =int(input(\"Enter first number for addition - \"))\n",
    "        ad3 =ad1 +ad2\n",
    "        print(\"{} + {} = {}\".format(ad1,ad2,ad3))\n",
    "    \n",
    "    if ch == 2:\n",
    "        sb1  =float(input(\"Enter first number for Substraction - \"))\n",
    "        sb2  =float(input(\"Enter first number for Substraction - \"))\n",
    "        sb3 =sb1 - sb2\n",
    "        print(\"{} - {} = {}\".format(sb1,sb2,sb3))\n",
    "    if ch == 3:\n",
    "        ml1  =float(input(\"Enter first number for Multiplication - \"))\n",
    "        ml2  =float(input(\"Enter first number for Multiplication - \"))\n",
    "        ml3 =ml1 *ml2\n",
    "        print(\"{} * {} = {}\".format(ml1,ml2,ml3))\n",
    "    if ch == 4:\n",
    "        dv1  =float(input(\"Enter first number for Multiplication - \"))\n",
    "        dv2  =float(input(\"Enter first number for Multiplication - \"))\n",
    "        dv3 =dv1 /dv2\n",
    "        print(\"{} / {} = {}\".format(dv1,dv2,dv3))\n",
    "\n",
    "else: \n",
    "    print(\"Invalid Choice\")"
   ]
  },
  {
   "cell_type": "code",
   "execution_count": null,
   "id": "cb36b384",
   "metadata": {},
   "outputs": [],
   "source": []
  },
  {
   "cell_type": "code",
   "execution_count": null,
   "id": "a64c35a9",
   "metadata": {},
   "outputs": [],
   "source": []
  }
 ],
 "metadata": {
  "kernelspec": {
   "display_name": "Python 3",
   "language": "python",
   "name": "python3"
  },
  "language_info": {
   "codemirror_mode": {
    "name": "ipython",
    "version": 3
   },
   "file_extension": ".py",
   "mimetype": "text/x-python",
   "name": "python",
   "nbconvert_exporter": "python",
   "pygments_lexer": "ipython3",
   "version": "3.8.8"
  }
 },
 "nbformat": 4,
 "nbformat_minor": 5
}
