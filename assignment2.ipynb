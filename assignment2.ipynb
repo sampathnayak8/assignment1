{
 "cells": [
  {
   "cell_type": "markdown",
   "id": "8966cfd6",
   "metadata": {},
   "source": [
    "1.What are the two values of the Boolean data type? How do you write them?\n",
    "\n",
    "TRUE , FALSE are the two values of boolean data types. \n",
    "True * False = 0 (output)\n",
    "True * True = 1 (output)\n",
    "we know that True =1 and False = 0\n",
    "\n",
    "2. What are the three different types of Boolean operators?\n",
    "a. AND \n",
    "b. OR\n",
    "c. NOT\n",
    "\n",
    "3. Make a list of each Boolean operator's truth tables (i.e. every possible combination of Boolean values for the operator and what it evaluate )\n",
    "\n",
    "                (NOT)   (AND)   (OR)\n",
    "false\tfalse\ttrue\tfalse\tfalse\n",
    "false\ttrue\ttrue\tfalse\ttrue\n",
    "true\tfalse\tfalse\tfalse\ttrue\n",
    "true\ttrue\tfalse\ttrue\ttrue\n",
    "\n",
    "4. What are the values of the following expressions?\n",
    "\n",
    "true\n",
    "\n",
    "5. What are the six comparison operators?\n",
    "==, >, >=, <, <=, !=\n",
    "\n",
    "6. How do you tell the difference between the equal to and assignment operators?Describe a condition and when you would use one\n",
    "eqaul to (==) is a operator which checks whether the assigned value is true or not\n",
    "ex: a=10 \n",
    "if a== 10:\n",
    "    print(\"valid\"\n",
    "    \n",
    "in the above example we can see equal to operator and assignment operator. a=10 is assigning operator which assigns 10 to varialble a. in second line a == 10 checks the condition if a is equals to 10 then on it allows to print valid\n",
    "\n",
    "7. Identify the three blocks in this code:\n",
    " \n",
    " block 1 : if spam == 10:\n",
    "\n",
    "block 2 : if spam > 5:\n",
    "\n",
    "block 3 :\n",
    "else (if spam <=5)\n",
    "\n",
    "8. Write code that prints Hello if 1 is stored in spam, prints Howdy if 2 is stored in spam, and prints Greetings! if anything else is stored in spam.\n",
    "\n",
    "spam = int(input(print(\"enter the value for spam\")))\n",
    "if spam == 1:\n",
    "    print(\"hello\")\n",
    "if spam == 2:\n",
    "    print(\"Howdy\")\n",
    "else :\n",
    "    print(\"Greetings!\")\n",
    "    \n",
    "9.If your programme is stuck in an endless loop, what keys you’ll press?\n",
    "\n",
    " Control + c\n",
    " \n",
    "10. How can you tell the difference between break and continue?\n",
    "\n",
    "break : it exits the loop\n",
    "continue : it takes the loop for the begining stage\n",
    "\n",
    "11. In a for loop, what is the difference between range(10), range(0, 10), and range(0, 10, 1)?\n",
    "it is same. outputwise it will give same result\n",
    "\n",
    "12. Write a short program that prints the numbers 1 to 10 using a for loop. Then write an equivalent program that prints the numbers 1 to 10 using a while loop.\n",
    "\n",
    "for loop:\n",
    "\n",
    "for i in range(1,11,):\n",
    "    print(i)\n",
    "    \n",
    "while loop:\n",
    "\n",
    "i = 1\n",
    "while(i<11):\n",
    "    print(i)\n",
    "    i += 1\n",
    "    \n",
    "13. If you had a function named bacon() inside a module named spam, how would you call it after importing spam?\n",
    "\n",
    "spam.bacon()"
   ]
  },
  {
   "cell_type": "code",
   "execution_count": 5,
   "id": "2b0af486",
   "metadata": {},
   "outputs": [
    {
     "name": "stdout",
     "output_type": "stream",
     "text": [
      "valid\n"
     ]
    }
   ],
   "source": [
    "a=10 \n",
    "if a== 10:\n",
    "    print(\"valid\")"
   ]
  },
  {
   "cell_type": "code",
   "execution_count": 9,
   "id": "fc83472f",
   "metadata": {},
   "outputs": [
    {
     "name": "stdout",
     "output_type": "stream",
     "text": [
      "enter the value for spam\n",
      "None1\n",
      "hello\n",
      "Greetings!\n"
     ]
    }
   ],
   "source": [
    "spam = int(input(print(\"enter the value for spam\")))\n",
    "if spam == 1:\n",
    "    print(\"hello\")\n",
    "if spam == 2:\n",
    "    print(\"Howdy\")\n",
    "else :\n",
    "    print(\"Greetings!\")\n",
    "\n"
   ]
  },
  {
   "cell_type": "code",
   "execution_count": null,
   "id": "97af9914",
   "metadata": {},
   "outputs": [],
   "source": [
    "\n"
   ]
  },
  {
   "cell_type": "code",
   "execution_count": null,
   "id": "406f516a",
   "metadata": {},
   "outputs": [],
   "source": []
  },
  {
   "cell_type": "code",
   "execution_count": null,
   "id": "e683878e",
   "metadata": {},
   "outputs": [],
   "source": []
  }
 ],
 "metadata": {
  "kernelspec": {
   "display_name": "Python 3",
   "language": "python",
   "name": "python3"
  },
  "language_info": {
   "codemirror_mode": {
    "name": "ipython",
    "version": 3
   },
   "file_extension": ".py",
   "mimetype": "text/x-python",
   "name": "python",
   "nbconvert_exporter": "python",
   "pygments_lexer": "ipython3",
   "version": "3.8.8"
  }
 },
 "nbformat": 4,
 "nbformat_minor": 5
}
