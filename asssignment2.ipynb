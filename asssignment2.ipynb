{
 "cells": [
  {
   "cell_type": "code",
   "execution_count": 12,
   "id": "171d49e0",
   "metadata": {},
   "outputs": [
    {
     "name": "stdout",
     "output_type": "stream",
     "text": [
      "8\n"
     ]
    },
    {
     "data": {
      "text/plain": [
       "141.0"
      ]
     },
     "execution_count": 12,
     "metadata": {},
     "output_type": "execute_result"
    }
   ],
   "source": [
    "#1. Write a function that takes a positive integer num and calculates how manydots exist in a pentagonal shape around the center dot on the Nth iteration.\n",
    "\n",
    "def PentagonalNumber(num): \n",
    "    num = num - 1\n",
    "    number = ((5*(num**2)) + (5*num) + 2) / 2 \n",
    "    return number\n",
    "    \n",
    "# keep this function call here  \n",
    "num= int(input())\n",
    "PentagonalNumber(num)"
   ]
  },
  {
   "cell_type": "code",
   "execution_count": 12,
   "id": "ab4c2990",
   "metadata": {},
   "outputs": [
    {
     "name": "stdout",
     "output_type": "stream",
     "text": [
      "Enter a string for encryption banana\n"
     ]
    },
    {
     "data": {
      "text/plain": [
       "'0n0n0b'"
      ]
     },
     "execution_count": 12,
     "metadata": {},
     "output_type": "execute_result"
    }
   ],
   "source": [
    "#2 \n",
    "vowels ='a','e','i','o','u'\n",
    "\n",
    "def encrypt(a):\n",
    "    b= a[::-1]\n",
    "    for i in b:\n",
    "        if i in  vowels:\n",
    "            if i == 'a':\n",
    "                b = b.replace('a','0')\n",
    "            if i == 'e':\n",
    "                b = b.replace('e','1')\n",
    "            if i == 'i':\n",
    "                b = b.replace('i','1')\n",
    "            if i == 'o':\n",
    "                b = b.replace('i','2')\n",
    "            if i == 'u':\n",
    "                b = b.replace('i','3')\n",
    "                \n",
    "    return b\n",
    "\n",
    "a = input(\"Enter a string for encryption \")\n",
    "a =a.lower()\n",
    "encrypt(a)\n",
    "    \n",
    "        "
   ]
  },
  {
   "cell_type": "code",
   "execution_count": 36,
   "id": "062bc668",
   "metadata": {},
   "outputs": [
    {
     "name": "stdout",
     "output_type": "stream",
     "text": [
      "enter the Month in numbers 10\n",
      "enter the Year 2017\n",
      "True\n"
     ]
    }
   ],
   "source": [
    "#3\n",
    "import datetime\n",
    "def friday(mm,yr):\n",
    "    \n",
    "    x = datetime.datetime(yr,mm,13)\n",
    "    \n",
    "    if x.strftime(\"%A\") == 'Friday':\n",
    "        print(\"True\")\n",
    "    else:\n",
    "        print(\"False\")\n",
    "    return\n",
    "   \n",
    "mm = int(input(\"enter the Month in numbers \"))\n",
    "yr = int(input(\"enter the Year \"))\n",
    "friday(mm,yr)"
   ]
  },
  {
   "cell_type": "code",
   "execution_count": 37,
   "id": "8f8ada24",
   "metadata": {},
   "outputs": [],
   "source": []
  },
  {
   "cell_type": "code",
   "execution_count": null,
   "id": "6642819a",
   "metadata": {},
   "outputs": [],
   "source": []
  }
 ],
 "metadata": {
  "kernelspec": {
   "display_name": "Python 3",
   "language": "python",
   "name": "python3"
  },
  "language_info": {
   "codemirror_mode": {
    "name": "ipython",
    "version": 3
   },
   "file_extension": ".py",
   "mimetype": "text/x-python",
   "name": "python",
   "nbconvert_exporter": "python",
   "pygments_lexer": "ipython3",
   "version": "3.8.8"
  }
 },
 "nbformat": 4,
 "nbformat_minor": 5
}
