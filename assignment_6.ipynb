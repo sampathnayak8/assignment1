{
 "cells": [
  {
   "cell_type": "code",
   "execution_count": 12,
   "id": "3374c98f",
   "metadata": {},
   "outputs": [
    {
     "name": "stdout",
     "output_type": "stream",
     "text": [
      "Enter the number of terms to get fibo series ;- 1\n",
      "fibo sequence of 1 is - \n",
      "0\n"
     ]
    }
   ],
   "source": [
    "#Write a Python Program to Display Fibonacci Sequence Using Recursion?\n",
    "def fibo(f):\n",
    "    if f<=1:\n",
    "        return f\n",
    "    else:\n",
    "        return(fibo(f-1) + fibo(f-2))\n",
    "        \n",
    "fi = int(input(\"Enter the number of terms to get fibo series ;- \"))\n",
    "if (fi<=0):\n",
    "    print(\"enter the positive integer\")\n",
    "else:\n",
    "    print(\"fibo sequence of {} is - \".format(fi))\n",
    "    for i in range(fi):\n",
    "        print(fibo(i))\n",
    "            \n",
    "    "
   ]
  },
  {
   "cell_type": "code",
   "execution_count": 22,
   "id": "0bd62735",
   "metadata": {},
   "outputs": [
    {
     "name": "stdout",
     "output_type": "stream",
     "text": [
      "enter the number to get its factorial - 10\n",
      "The factorial of 10 is 3628800\n"
     ]
    }
   ],
   "source": [
    "#Write a Python Program to Find Factorial of Number Using Recursion?\n",
    "\n",
    "\n",
    "\n",
    "def recur_factorial(n):\n",
    "   if n == 1:\n",
    "       return n\n",
    "   else:\n",
    "       return n*recur_factorial(n-1)\n",
    "\n",
    "num = int(input(\"enter the number to get its factorial - \"))\n",
    "\n",
    "\n",
    "if num < 0:\n",
    "   print(\"Sorry, factorial does not exist for negative numbers\")\n",
    "elif num == 0:\n",
    "   print(\"The factorial of 0 is 1\")\n",
    "else:\n",
    "   print(\"The factorial of\", num, \"is\", recur_factorial(num))\n",
    "    \n"
   ]
  },
  {
   "cell_type": "code",
   "execution_count": 27,
   "id": "1697d2fb",
   "metadata": {},
   "outputs": [
    {
     "name": "stdout",
     "output_type": "stream",
     "text": [
      "Please enter your height in centi meters - 10000\n",
      "enter your weight in kg - 20\n",
      "BMI value for 10000.0 Height and 20.0 weight is 0.002\n"
     ]
    }
   ],
   "source": [
    "#Write a Python Program to calculate your Body Mass Index?\n",
    "height =float(input(\"Please enter your height in centi meters - \"))\n",
    "hm = height/100 #converts centi meter to meter\n",
    "weight = float(input(\"enter your weight in kg - \"))\n",
    "BMI = weight/(hm*hm)\n",
    "\n",
    "print(\"BMI value for {} Height and {} weight is {}\".format(height,weight,BMI))\n",
    "if BMI >= 25:\n",
    "    print(\"This is considered as Overweight\")\n",
    "    \n",
    "if BMI > 18.5 and BMI <24.5 :\n",
    "    print(\"This is considered as Normal\")\n",
    "    "
   ]
  },
  {
   "cell_type": "code",
   "execution_count": 39,
   "id": "8fa221e1",
   "metadata": {},
   "outputs": [
    {
     "name": "stdout",
     "output_type": "stream",
     "text": [
      "enter the number to calculate log - -25\n",
      "log -25.0 is undefined\n"
     ]
    }
   ],
   "source": [
    "#Write a Python Program to calculate the natural logarithm of any number?\n",
    "import math\n",
    "log = float(input(\"enter the number to calculate log - \"))\n",
    "if log>0:\n",
    "    \n",
    "    lg1 = math.log(log)\n",
    "    print(\"Log{} is {}\".format(log,lg1))\n",
    "else:\n",
    "    print(\"log {} is undefined\".format(log))\n",
    "\n"
   ]
  },
  {
   "cell_type": "code",
   "execution_count": 71,
   "id": "e7d6523c",
   "metadata": {},
   "outputs": [
    {
     "name": "stdout",
     "output_type": "stream",
     "text": [
      "enter number for cube sum of first n natural numbers}10\n",
      "3025\n"
     ]
    }
   ],
   "source": [
    "#Write a Python Program for cube sum of first n natural numbers?\n",
    "def sumOfSeries(n):\n",
    "    sum = 0\n",
    "    for i in range(1, n+1):\n",
    "        sum +=i*i*i\n",
    "          \n",
    "    return sum\n",
    "  \n",
    "   \n",
    "\n",
    "n = int(input(\"enter number for cube sum of first n natural numbers}\"))\n",
    "print(sumOfSeries(n))\n"
   ]
  },
  {
   "cell_type": "code",
   "execution_count": null,
   "id": "6f07fce4",
   "metadata": {},
   "outputs": [],
   "source": []
  }
 ],
 "metadata": {
  "kernelspec": {
   "display_name": "Python 3",
   "language": "python",
   "name": "python3"
  },
  "language_info": {
   "codemirror_mode": {
    "name": "ipython",
    "version": 3
   },
   "file_extension": ".py",
   "mimetype": "text/x-python",
   "name": "python",
   "nbconvert_exporter": "python",
   "pygments_lexer": "ipython3",
   "version": "3.8.8"
  }
 },
 "nbformat": 4,
 "nbformat_minor": 5
}
