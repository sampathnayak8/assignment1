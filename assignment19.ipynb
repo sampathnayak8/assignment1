{
 "cells": [
  {
   "cell_type": "markdown",
   "id": "4dc3c68a",
   "metadata": {},
   "source": [
    "Question1\n",
    "Create a function that takes a string and returns a string in which each character is repeated\n",
    "once."
   ]
  },
  {
   "cell_type": "code",
   "execution_count": 3,
   "id": "e3ff5138",
   "metadata": {},
   "outputs": [
    {
     "data": {
      "text/plain": [
       "'ssttrriinngg'"
      ]
     },
     "execution_count": 3,
     "metadata": {},
     "output_type": "execute_result"
    }
   ],
   "source": [
    "def double_char(string):\n",
    "    new = \"\"\n",
    "    for i in string:\n",
    "        new = new + i*2\n",
    "    return new\n",
    "\n",
    "double_char(\"string\")        "
   ]
  },
  {
   "cell_type": "code",
   "execution_count": 25,
   "id": "54b2a25f",
   "metadata": {},
   "outputs": [
    {
     "name": "stdout",
     "output_type": "stream",
     "text": [
      "False\n"
     ]
    }
   ],
   "source": [
    "def reverse(bln):\n",
    "    if type(bln) != bool:\n",
    "        print(\"Boolean expected\")\n",
    "    else:\n",
    "        if bln * True == 1:\n",
    "            print(False)\n",
    "        else:\n",
    "            print(True)\n",
    "            \n",
    "reverse(True)"
   ]
  },
  {
   "cell_type": "markdown",
   "id": "5c8ad076",
   "metadata": {},
   "source": [
    "Question3\n",
    "Create a function that returns the thickness (in meters) of a piece of paper after folding it n\n",
    "number of times. The paper starts off with a thickness of 0.5mm."
   ]
  },
  {
   "cell_type": "code",
   "execution_count": 69,
   "id": "0f28d966",
   "metadata": {},
   "outputs": [
    {
     "name": "stdout",
     "output_type": "stream",
     "text": [
      "0.001 m\n"
     ]
    }
   ],
   "source": [
    "import math\n",
    "def num_layers(a):\n",
    "    thick_mm = 0.5\n",
    "    for i in range(1,a+1):\n",
    "        \n",
    "        thick_mm = thick_mm + thick_mm\n",
    "        \n",
    "    thick = thick_mm/1000\n",
    "    print(thick,\"m\")\n",
    "    return \n",
    "num_layers(1)"
   ]
  },
  {
   "cell_type": "markdown",
   "id": "0c912419",
   "metadata": {},
   "source": [
    "Queestion 4 Create a function that takes a single string as argument and returns an ordered list containing\n",
    "the indices of all capital letters in the string."
   ]
  },
  {
   "cell_type": "code",
   "execution_count": 15,
   "id": "16c8eaee",
   "metadata": {},
   "outputs": [
    {
     "data": {
      "text/plain": [
       "[1, 3, 4, 6]"
      ]
     },
     "execution_count": 15,
     "metadata": {},
     "output_type": "execute_result"
    }
   ],
   "source": [
    "def index_of_caps(string):\n",
    "    l = []\n",
    "    cnt = 0\n",
    "    for i in string:\n",
    "        if i.isupper() is True:\n",
    "            l.append(cnt)\n",
    "            \n",
    "        cnt = cnt + 1\n",
    "    return l\n",
    "index_of_caps(\"eQuINoX\")"
   ]
  },
  {
   "cell_type": "markdown",
   "id": "73fe8041",
   "metadata": {},
   "source": [
    "Question5\n",
    "Using list comprehensions, create a function that finds all even numbers from 1 to the given\n",
    "number."
   ]
  },
  {
   "cell_type": "code",
   "execution_count": 20,
   "id": "658d588d",
   "metadata": {},
   "outputs": [
    {
     "data": {
      "text/plain": [
       "[2, 4]"
      ]
     },
     "execution_count": 20,
     "metadata": {},
     "output_type": "execute_result"
    }
   ],
   "source": [
    "def find_even_nums(nm):\n",
    "    even_lst = []\n",
    "    for i in range(1,nm+1):\n",
    "        if i %2 == 0:\n",
    "            even_lst.append(i)\n",
    "    return even_lst\n",
    "\n",
    "find_even_nums(4)"
   ]
  },
  {
   "cell_type": "code",
   "execution_count": null,
   "id": "b2d2e059",
   "metadata": {},
   "outputs": [],
   "source": []
  }
 ],
 "metadata": {
  "kernelspec": {
   "display_name": "Python 3",
   "language": "python",
   "name": "python3"
  },
  "language_info": {
   "codemirror_mode": {
    "name": "ipython",
    "version": 3
   },
   "file_extension": ".py",
   "mimetype": "text/x-python",
   "name": "python",
   "nbconvert_exporter": "python",
   "pygments_lexer": "ipython3",
   "version": "3.8.8"
  }
 },
 "nbformat": 4,
 "nbformat_minor": 5
}
