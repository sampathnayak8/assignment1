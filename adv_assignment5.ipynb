{
 "cells": [
  {
   "cell_type": "markdown",
   "id": "df857a72",
   "metadata": {},
   "source": [
    "Q1. What is the meaning of multiple inheritance?\n",
    "\n",
    "    When a class is derived from more than one base class it is called multiple Inheritance"
   ]
  },
  {
   "cell_type": "markdown",
   "id": "7c6d1652",
   "metadata": {},
   "source": [
    "Q2. What is the concept of delegation?\n",
    "\n",
    "    delegation refers to evaluating a member of one object in the context of another original object "
   ]
  },
  {
   "cell_type": "markdown",
   "id": "7e0e2694",
   "metadata": {},
   "source": [
    "Q3. What is the concept of composition?\n",
    "\n",
    "    It describes a class that references one or more objects of other classes in instance variables. This allows you to model a has-a association between objects.\n",
    "\n",
    "    "
   ]
  },
  {
   "cell_type": "markdown",
   "id": "818ef322",
   "metadata": {},
   "source": [
    "Q4. What are bound methods and how do we use them?\n",
    "\n",
    "        A bound method is the one which is dependent on the instance of the class as the first argument. It passes the instance as the first argument which is used to access the variables and functions. In Python 3 and newer versions of python, all functions in the class are by default bound methods"
   ]
  },
  {
   "cell_type": "markdown",
   "id": "dd30bb77",
   "metadata": {},
   "source": [
    "Q5. What is the purpose of pseudoprivate attributes?\n",
    "\n",
    "\n",
    "    Pseudoprivate attributes are also useful in larger frameworks or tools, both to avoid introducing new method names that might accidentally hide definitions elsewhere in the class tree and to reduce the chance of internal methods being replaced by names defined lower in the tree\n",
    "    "
   ]
  }
 ],
 "metadata": {
  "kernelspec": {
   "display_name": "Python 3",
   "language": "python",
   "name": "python3"
  },
  "language_info": {
   "codemirror_mode": {
    "name": "ipython",
    "version": 3
   },
   "file_extension": ".py",
   "mimetype": "text/x-python",
   "name": "python",
   "nbconvert_exporter": "python",
   "pygments_lexer": "ipython3",
   "version": "3.8.8"
  }
 },
 "nbformat": 4,
 "nbformat_minor": 5
}
