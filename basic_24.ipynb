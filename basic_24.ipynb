{
 "cells": [
  {
   "cell_type": "markdown",
   "id": "4c45fa7c",
   "metadata": {},
   "source": [
    "1. What is the relationship between def statements and lambda expressions ?\n",
    "\n",
    "    def used to define a function where lambda is used to represent ananimous function"
   ]
  },
  {
   "cell_type": "markdown",
   "id": "bbe25be7",
   "metadata": {},
   "source": [
    "2. What is the benefit of lambda?\n",
    "\n",
    "    Anonymous functions are useful for the same reason anonymous expressions are useful. It's convenient to be able to write f(1+1) instead of x = 1+1; f(x) , and it's convenient to be able to write map(lambda x: x**2, list"
   ]
  },
  {
   "cell_type": "markdown",
   "id": "1571187c",
   "metadata": {},
   "source": [
    "3. Compare and contrast map, filter, and reduce.\n",
    "\n",
    "    The map(), filter() and reduce() functions bring a bit of functional programming to Python. All three of these are convenience functions that can be replaced with List Comprehensions or loops, but provide a more elegant and short-hand approach to some problems.\n",
    "\n",
    "    "
   ]
  },
  {
   "cell_type": "markdown",
   "id": "01e25f48",
   "metadata": {},
   "source": [
    "4. What are function annotations, and how are they used?\n",
    "\n",
    "    Function annotations, both for parameters and return values, are completely optional. Function annotations are nothing more than a way of associating arbitrary Python expressions with various parts of a function at compile-time"
   ]
  },
  {
   "cell_type": "markdown",
   "id": "dd5fe16b",
   "metadata": {},
   "source": [
    "5. What are recursive functions, and how are they used?\n",
    "\n",
    "    A recursive function is a function in code that refers to itself for execution. Recursive functions can be simple or elaborate. They allow for more efficient code writing, for instance, in the listing or compiling of sets of numbers, strings or other variables through a single reiterated process"
   ]
  },
  {
   "cell_type": "markdown",
   "id": "73fe1a8a",
   "metadata": {},
   "source": [
    "6. What are some general design guidelines for coding functions?\n",
    "\n",
    "    Limited use of globals\n",
    "    Standard headers for different modules:\n",
    "    Naming conventions for local variables, global variables, constants and functions"
   ]
  },
  {
   "cell_type": "code",
   "execution_count": null,
   "id": "fcfb267e",
   "metadata": {},
   "outputs": [],
   "source": []
  }
 ],
 "metadata": {
  "kernelspec": {
   "display_name": "Python 3",
   "language": "python",
   "name": "python3"
  },
  "language_info": {
   "codemirror_mode": {
    "name": "ipython",
    "version": 3
   },
   "file_extension": ".py",
   "mimetype": "text/x-python",
   "name": "python",
   "nbconvert_exporter": "python",
   "pygments_lexer": "ipython3",
   "version": "3.8.8"
  }
 },
 "nbformat": 4,
 "nbformat_minor": 5
}
