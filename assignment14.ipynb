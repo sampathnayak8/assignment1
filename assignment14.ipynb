{
 "cells": [
  {
   "cell_type": "code",
   "execution_count": 10,
   "id": "7aae59ef",
   "metadata": {},
   "outputs": [
    {
     "name": "stdout",
     "output_type": "stream",
     "text": [
      "Enter the nth range - 49\n",
      "7\n",
      "14\n",
      "21\n",
      "28\n",
      "35\n",
      "42\n",
      "49\n"
     ]
    }
   ],
   "source": [
    "#Define a class with a generator which can iterate the numbers, which are divisible by\n",
    "\n",
    "class iterate():\n",
    "    def __init__(self,nrange):\n",
    "        self.nrange =nrange\n",
    "        \n",
    "    def cal(nrange):\n",
    "        for i in range(1,nrange+1):\n",
    "            if i%7 == 0:\n",
    "                print(i)\n",
    "\n",
    "nrange = int(input(\"Enter the nth range - \"))\n",
    "iterate.cal(nrange)"
   ]
  },
  {
   "cell_type": "code",
   "execution_count": 2,
   "id": "bdf6ab0e",
   "metadata": {},
   "outputs": [],
   "source": [
    "#Question 2\n",
    "\n",
    "\n"
   ]
  },
  {
   "cell_type": "code",
   "execution_count": 2,
   "id": "b9f2e846",
   "metadata": {},
   "outputs": [
    {
     "name": "stdout",
     "output_type": "stream",
     "text": [
      "Male\n",
      "Female\n"
     ]
    }
   ],
   "source": [
    "#Question 3\n",
    "\n",
    "class Person(object):\n",
    "    def getGender( self ):\n",
    "        return \"Unknown\"\n",
    "\n",
    "class Male( Person ):\n",
    "    def getGender( self ):\n",
    "        return \"Male\"\n",
    "\n",
    "class Female( Person ):\n",
    "    def getGender( self ):\n",
    "        return \"Female\"\n",
    "\n",
    "aMale = Male()\n",
    "aFemale= Female()\n",
    "print(aMale.getGender())\n",
    "print(aFemale.getGender())"
   ]
  },
  {
   "cell_type": "code",
   "execution_count": 6,
   "id": "f3d73069",
   "metadata": {},
   "outputs": [
    {
     "name": "stdout",
     "output_type": "stream",
     "text": [
      "I PLAY Hockey\n",
      "I PLAY Football\n",
      "I LOVE Hockey\n",
      "I LOVE Football\n",
      "YOU PLAY Hockey\n",
      "YOU PLAY Football\n",
      "YOU LOVE Hockey\n",
      "YOU LOVE Football\n"
     ]
    }
   ],
   "source": [
    "#question 4\n",
    "\n",
    "sub = ['I','YOU']\n",
    "verb= ['PLAY','LOVE']\n",
    "objects = ['Hockey','Football']\n",
    "new = []\n",
    "\n",
    "def words(sub,verb,objects):\n",
    "    for i in sub:\n",
    "        for j in verb:\n",
    "            for k in objects:\n",
    "                print(i,j,k)\n",
    "    return\n",
    "\n",
    "words(sub,verb,objects)\n"
   ]
  },
  {
   "cell_type": "code",
   "execution_count": null,
   "id": "65323cd7",
   "metadata": {},
   "outputs": [],
   "source": [
    "#question 5\n"
   ]
  },
  {
   "cell_type": "code",
   "execution_count": 2,
   "id": "ae278df2",
   "metadata": {},
   "outputs": [
    {
     "name": "stdout",
     "output_type": "stream",
     "text": [
      "First occurrence of 4 is present at 2\n"
     ]
    }
   ],
   "source": [
    "#question  6\n",
    "\n",
    "from bisect import bisect_left\n",
    "  \n",
    "def BinarySearch(a, x):\n",
    "    i = bisect_left(a, x)\n",
    "    if i != len(a) and a[i] == x:\n",
    "        return i\n",
    "    else:\n",
    "        return -1\n",
    "  \n",
    "a  = [1, 2, 4, 4, 8]\n",
    "x = int(4)\n",
    "res = BinarySearch(a, x)\n",
    "if res == -1:\n",
    "    print(x, \"is absent\")\n",
    "else:\n",
    "    print(\"First occurrence of\", x, \"is present at\", res)\n",
    "    \n"
   ]
  },
  {
   "cell_type": "code",
   "execution_count": null,
   "id": "ed2a8df3",
   "metadata": {},
   "outputs": [],
   "source": []
  }
 ],
 "metadata": {
  "kernelspec": {
   "display_name": "Python 3",
   "language": "python",
   "name": "python3"
  },
  "language_info": {
   "codemirror_mode": {
    "name": "ipython",
    "version": 3
   },
   "file_extension": ".py",
   "mimetype": "text/x-python",
   "name": "python",
   "nbconvert_exporter": "python",
   "pygments_lexer": "ipython3",
   "version": "3.8.8"
  }
 },
 "nbformat": 4,
 "nbformat_minor": 5
}
