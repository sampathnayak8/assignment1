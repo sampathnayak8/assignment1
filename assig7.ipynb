{
 "cells": [
  {
   "cell_type": "code",
   "execution_count": null,
   "id": "bc32f489",
   "metadata": {},
   "outputs": [],
   "source": [
    "1. What is the name of the feature responsible for generating Regex objects?\n",
    "\n",
    "re.compile() is responisble for generating Regex"
   ]
  },
  {
   "cell_type": "code",
   "execution_count": null,
   "id": "fb603d2e",
   "metadata": {},
   "outputs": [],
   "source": [
    "2. Why do raw strings often appear in Regex objects?\n",
    "\n",
    "Raw strings are used so that backslashes do not have to be escaped."
   ]
  },
  {
   "cell_type": "code",
   "execution_count": null,
   "id": "9d85918f",
   "metadata": {},
   "outputs": [],
   "source": [
    "3.What is the return value of the search() method?\n",
    "\n",
    "returns match objects"
   ]
  },
  {
   "cell_type": "code",
   "execution_count": null,
   "id": "1b16cc7f",
   "metadata": {},
   "outputs": [],
   "source": [
    "4. From a Match item, how do you get the actual strings that match the pattern?\n",
    "\n",
    "The group() method returns strings of the matched text."
   ]
  },
  {
   "cell_type": "code",
   "execution_count": null,
   "id": "e5b25cc6",
   "metadata": {},
   "outputs": [],
   "source": [
    "5.In the regex which created from the r(\\d\\d\\d)-(\\d\\d\\d-\\d\\d\\d\\d), what does group zero cover?\n",
    "Group 2? Group 1?\n",
    "\n",
    "Group 0 is the entire match, group 1 covers the first set of parentheses, and group 2 covers the second set of parentheses."
   ]
  },
  {
   "cell_type": "code",
   "execution_count": null,
   "id": "fcd302ad",
   "metadata": {},
   "outputs": [],
   "source": [
    "6. In standard expression syntax, parentheses and intervals have distinct meanings. How can you tell\n",
    "a regex that you want it to fit real parentheses and periods?\n",
    "\n",
    "Periods and parentheses can be escaped with a backslash: \\., \\(, and \\).\n",
    "    "
   ]
  },
  {
   "cell_type": "code",
   "execution_count": null,
   "id": "2506e797",
   "metadata": {},
   "outputs": [],
   "source": [
    "7. The findall() method returns a string list or a list of string tuples. What causes it to return one of\n",
    "the two options?\n",
    "\n",
    "If the regex has no groups, a list of strings is returned. If the regex has groups, a list of tuples of strings is returned."
   ]
  },
  {
   "cell_type": "code",
   "execution_count": null,
   "id": "186681c7",
   "metadata": {},
   "outputs": [],
   "source": [
    "8. In standard expressions, what does the | character mean?\n",
    "The | character signifies matching \"either, or\" between two groups.\n"
   ]
  },
  {
   "cell_type": "code",
   "execution_count": null,
   "id": "8433c293",
   "metadata": {},
   "outputs": [],
   "source": [
    "9. In regular expressions, what does the character stand for?\n",
    "The ? character can either mean \"match zero or one of the preceding group\" or be used to signify nongreedy matching.\n"
   ]
  },
  {
   "cell_type": "code",
   "execution_count": null,
   "id": "945b6c09",
   "metadata": {},
   "outputs": [],
   "source": [
    "10.In regular expressions, what is the difference between the + and * characters?\n",
    "\n",
    "The + matches one or more. The * matches zero or more.\n"
   ]
  },
  {
   "cell_type": "code",
   "execution_count": null,
   "id": "c0413f86",
   "metadata": {},
   "outputs": [],
   "source": [
    "11.What is the difference between {4} and {4,5} in regular expression?\n",
    "\n",
    "The {4} matches exactly three instances of the preceding group. The {4,5} matches between three and five instances."
   ]
  },
  {
   "cell_type": "code",
   "execution_count": null,
   "id": "3c26e815",
   "metadata": {},
   "outputs": [],
   "source": [
    "What do you mean by the \\d, \\w, and \\s shorthand character classes signify in regular\n",
    "expressions?\n",
    "\n",
    "The \\d, \\w, and \\s shorthand character classes match a single digit, word, or space character, respectively."
   ]
  },
  {
   "cell_type": "code",
   "execution_count": null,
   "id": "7ef35fef",
   "metadata": {},
   "outputs": [],
   "source": [
    "What do means by \\D, \\W, and \\S shorthand character classes signify in regular expressions?\n",
    "\n",
    "The \\D, \\W, and \\S shorthand character classes match a single character that is not a digit, word, or space character, respectively."
   ]
  },
  {
   "cell_type": "code",
   "execution_count": null,
   "id": "4f44c8ff",
   "metadata": {},
   "outputs": [],
   "source": [
    "What is the difference between .*? and .*?\n",
    "\n",
    "The . performs a greedy match, and the .? performs a nongreedy match."
   ]
  },
  {
   "cell_type": "code",
   "execution_count": null,
   "id": "f82726f6",
   "metadata": {},
   "outputs": [],
   "source": [
    "What is the syntax for matching both numbers and lowercase letters with a character class?\n",
    "\n",
    "Either [0-9a-z] or [a-z0-9]"
   ]
  },
  {
   "cell_type": "code",
   "execution_count": null,
   "id": "11410d41",
   "metadata": {},
   "outputs": [],
   "source": [
    "What is the procedure for making a normal expression in regax case insensitive?\n",
    "\n",
    "Using CASE_INSENSITIVE flag"
   ]
  },
  {
   "cell_type": "code",
   "execution_count": null,
   "id": "2f7febac",
   "metadata": {},
   "outputs": [],
   "source": [
    "What does the . character normally match? What does it match if re.DOTALL is passed as 2nd\n",
    "argument in re.compile()?\n",
    "\n",
    "The . character normally matches any character except the newline character. If re.DOTALL is passed as the second argument to re.compile(), then the dot will also match newline characters.\n"
   ]
  },
  {
   "cell_type": "code",
   "execution_count": null,
   "id": "d25851d8",
   "metadata": {},
   "outputs": [],
   "source": [
    "If numRegex = re.compile(r'\\d+'), what will numRegex.sub('X', '12 drummers, 11 pipers, five rings, 3 hens') return?\n",
    "                       \n",
    "'X drummers, X pipers, five rings, X hens'"
   ]
  },
  {
   "cell_type": "code",
   "execution_count": null,
   "id": "fb7a48c0",
   "metadata": {},
   "outputs": [],
   "source": [
    "What does passing re.VERBOSE as the second argument to re.compile() allow you to do?\n",
    "\n",
    "The re.VERBOSE argument allows you to add whitespace and comments to the string passed to re.compile().\n"
   ]
  },
  {
   "cell_type": "code",
   "execution_count": null,
   "id": "3512e620",
   "metadata": {},
   "outputs": [],
   "source": [
    "20.\n",
    "\n",
    "re.compile(r'^\\d{1,3}(,\\d{3})*$') will create this regex, but other regex strings can produce a similar regular expression."
   ]
  },
  {
   "cell_type": "code",
   "execution_count": null,
   "id": "91476e18",
   "metadata": {},
   "outputs": [],
   "source": [
    "21.\n",
    "\n",
    "re.compile(r'[A-Z][a-z]*\\sNakamoto')\n",
    "\n"
   ]
  },
  {
   "cell_type": "code",
   "execution_count": null,
   "id": "b0ea44ac",
   "metadata": {},
   "outputs": [],
   "source": [
    "22. \n",
    "\n",
    "re.compile(r'(Alice|Bob|Carol)\\s(eats|pets|throws)\\s(apples|cats|baseballs)\\.', re.IGNORECASE)"
   ]
  },
  {
   "cell_type": "code",
   "execution_count": null,
   "id": "8c00a7a9",
   "metadata": {},
   "outputs": [],
   "source": []
  },
  {
   "cell_type": "code",
   "execution_count": null,
   "id": "9210529a",
   "metadata": {},
   "outputs": [],
   "source": []
  }
 ],
 "metadata": {
  "kernelspec": {
   "display_name": "Python 3",
   "language": "python",
   "name": "python3"
  },
  "language_info": {
   "codemirror_mode": {
    "name": "ipython",
    "version": 3
   },
   "file_extension": ".py",
   "mimetype": "text/x-python",
   "name": "python",
   "nbconvert_exporter": "python",
   "pygments_lexer": "ipython3",
   "version": "3.8.8"
  }
 },
 "nbformat": 4,
 "nbformat_minor": 5
}
