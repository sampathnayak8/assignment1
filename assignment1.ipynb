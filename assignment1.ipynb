{
 "cells": [
  {
   "cell_type": "markdown",
   "id": "f3e7669c",
   "metadata": {},
   "source": [
    "1. In the below elements which of them are values or an expression? eg:- values can be integer or string and expressions will be mathematical operators.\n",
    "\n",
    "ans : Values : 'hello' , 6\n",
    "      Expression: *, -, /, +\n",
    "      \n",
    "2. What is the difference between string and variable?\n",
    "string is some set of charectors which is enclosed with qouatation symbol\n",
    "example : \"FRUIT\" here fruit is a string\n",
    "\n",
    "variable is are used to store data. if i want to store a number 68. then i have to allocate a space using a charector that is called a variable\n",
    "example : a = 68 (now 68 is stored in a )\n",
    "\n",
    "3. Describe three different data types.\n",
    "\n",
    "1. Numeric data types ; represents the numbers\n",
    " 1a.integer ( int() ) : a whole number ex 1 ,50 etc\n",
    " 1b. float : represents decimle number ex 1.5, 50.2 etc\n",
    " 1c. complex numbers : represents the complex numbers ex 6 + 2j\n",
    " \n",
    "2. Boolean \n",
    "To evaluate any expressions in python we use boolean, TRUE , FALSE are the two booleans which is used for evaluating\n",
    "\n",
    "3. sequence \n",
    "ex strings , list , tuples etc\n",
    "\n",
    "4. What is an expression made up of? What do all expressions do?\n",
    "\n",
    "expressions are made up of some mathemetical operators (+, -, * / etc) identifiers and litereals\n",
    "expressions  evaluates the values  and displays the result: ex 1 + 1 =2 here addition operator is used to add two numbers. it calculates the final result and displays it.\n",
    "\n",
    "5. This assignment statements, like spam = 10. What is the difference between an expression and a statement?\n",
    "\n",
    "here spam is a variable which stores a data 10. assigning values to spam we can call it as a statement\n",
    "\n",
    "6. After running the following code, what does the variable bacon contain?\n",
    "bacon = 22\n",
    "bacon + 1\n",
    " \n",
    "bacon contains value = 22 \n",
    "why because we are not assigning a variable to store the bacon +1 value. if i say a = bacon +1 then a= 23\n",
    "\n",
    "7. What should the values of the following two terms be?\n",
    "'spam' + 'spamspam'\n",
    "'spam' * 3\n",
    "\n",
    "'spamspamspam' is the values\n",
    "\n",
    "8. Why is eggs a valid variable name while 100 is invalid?\n",
    "eggs doesnt contain any numberic values in the front. if we write eggs100 then it is a valid variable.\n",
    "100eggs is invalid because in variable numeric value should not come first\n",
    "\n",
    "\n",
    "9. What three functions can be used to get the integer, floating-point number, or string version of a value?\n",
    "integer int()\n",
    "float float()\n",
    "string str()\n",
    "\n",
    "10. Why does this expression cause an error? How can you fix it?\n",
    "'I have eaten ' + 99 + ' burritos.'\n",
    "\n",
    "we cannot add integers with string. we can fix it by making 99 as string\n",
    "'I have eaten ' + str(99) + ' burritos'"
   ]
  },
  {
   "cell_type": "code",
   "execution_count": 3,
   "id": "70fe6071",
   "metadata": {},
   "outputs": [
    {
     "name": "stdout",
     "output_type": "stream",
     "text": [
      "23\n"
     ]
    }
   ],
   "source": [
    "bacon = 22\n",
    "a = bacon + 1\n",
    "print(a)"
   ]
  },
  {
   "cell_type": "code",
   "execution_count": 4,
   "id": "c1312ffb",
   "metadata": {},
   "outputs": [
    {
     "data": {
      "text/plain": [
       "'spamspamspam'"
      ]
     },
     "execution_count": 4,
     "metadata": {},
     "output_type": "execute_result"
    }
   ],
   "source": [
    "'spam' + 'spamspam'\n",
    "'spam' * 3"
   ]
  },
  {
   "cell_type": "code",
   "execution_count": 7,
   "id": "06e57a50",
   "metadata": {},
   "outputs": [
    {
     "data": {
      "text/plain": [
       "'I have eaten 99 burritos'"
      ]
     },
     "execution_count": 7,
     "metadata": {},
     "output_type": "execute_result"
    }
   ],
   "source": [
    "'I have eaten ' + str(99) + ' burritos'"
   ]
  },
  {
   "cell_type": "code",
   "execution_count": null,
   "id": "e8d3de10",
   "metadata": {},
   "outputs": [],
   "source": []
  }
 ],
 "metadata": {
  "kernelspec": {
   "display_name": "Python 3",
   "language": "python",
   "name": "python3"
  },
  "language_info": {
   "codemirror_mode": {
    "name": "ipython",
    "version": 3
   },
   "file_extension": ".py",
   "mimetype": "text/x-python",
   "name": "python",
   "nbconvert_exporter": "python",
   "pygments_lexer": "ipython3",
   "version": "3.8.8"
  }
 },
 "nbformat": 4,
 "nbformat_minor": 5
}
