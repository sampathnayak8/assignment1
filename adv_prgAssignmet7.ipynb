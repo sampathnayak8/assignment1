{
 "cells": [
  {
   "cell_type": "markdown",
   "id": "d43ca675",
   "metadata": {},
   "source": [
    "Write a function that counts how many concentric layers a rug."
   ]
  },
  {
   "cell_type": "code",
   "execution_count": 19,
   "id": "6dad09e3",
   "metadata": {},
   "outputs": [
    {
     "data": {
      "text/plain": [
       "2"
      ]
     },
     "execution_count": 19,
     "metadata": {},
     "output_type": "execute_result"
    }
   ],
   "source": [
    "l = []\n",
    "def count_layers(l):\n",
    "    l1 = []\n",
    "    for i in l:\n",
    "        if i not in l1:\n",
    "            l1.append(i)\n",
    "    duplicate = len(l)-len(l1)+1\n",
    "    \n",
    "    return duplicate\n",
    "        \n",
    "    \n",
    "#driver code\n",
    "\n",
    "count_layers([ \"AAAA\", \"ABBA\", \"AAAA\" ])"
   ]
  },
  {
   "cell_type": "markdown",
   "id": "587814bf",
   "metadata": {},
   "source": [
    "There are many different styles of music and many albums exhibit multiple\n",
    "styles. Create a function that takes a list of musical styles from albums and\n",
    "returns how many styles are unique."
   ]
  },
  {
   "cell_type": "code",
   "execution_count": 64,
   "id": "c91e5725",
   "metadata": {},
   "outputs": [
    {
     "data": {
      "text/plain": [
       "9"
      ]
     },
     "execution_count": 64,
     "metadata": {},
     "output_type": "execute_result"
    }
   ],
   "source": [
    "lis = []\n",
    "def unique_styles(lis):\n",
    "    l1 = str(lis)\n",
    "    l2 = ''\n",
    "    for i in l1:\n",
    "        if i=='['  or i == ']' or i == \"'\" or i == ' ':\n",
    "            pass\n",
    "        else:\n",
    "            l2 = l2 + i\n",
    "    l2 = l2.split(',')\n",
    "    dup = []\n",
    "    for i in l2:\n",
    "        if i not in dup:\n",
    "            dup.append(i)\n",
    "    dupli = len(l2)-(len(l2)-len(dup))\n",
    "    \n",
    "    return dupli\n",
    "\n",
    "\n",
    "\n",
    "\n",
    "unique_styles([ \"Dub,Dancehall\", \"Industrial,Heavy Metal\", \"Techno,Dubstep\", \"Synth-pop,Euro-Disco\", \"Industrial,Techno,Minimal\" ])\n"
   ]
  },
  {
   "cell_type": "code",
   "execution_count": 78,
   "id": "99e0f742",
   "metadata": {},
   "outputs": [],
   "source": [
    "\n",
    "def is_prime(s,num):\n",
    "    primes = [2, 3, 5, 7, 11, 13, 17, 19, 23, 29, 31, 37, 41, 43, 47, 53, 59, 61, 67,71, 73, 79, 83, 89, 97]\n",
    "    yes_count = 0\n",
    "    no_count = 0\n",
    "    for i in primes:\n",
    "        if num == i:\n",
    "            yes_count += 1\n",
    "            \n",
    "        else:\n",
    "            no_count += 1\n",
    "    if yes_count > 0:\n",
    "        print('yes')\n",
    "    else:\n",
    "        print('No')\n",
    "        \n",
    "is_prime('primes', 3)"
   ]
  },
  {
   "cell_type": "markdown",
   "id": "3c61883a",
   "metadata": {},
   "source": [
    "Create a function that takes in n, a, b and returns the number of positive\n",
    "values raised to the nth power that lie in the range [a, b], inclusive."
   ]
  },
  {
   "cell_type": "code",
   "execution_count": 86,
   "id": "64774ecf",
   "metadata": {},
   "outputs": [
    {
     "data": {
      "text/plain": [
       "3"
      ]
     },
     "execution_count": 86,
     "metadata": {},
     "output_type": "execute_result"
    }
   ],
   "source": [
    "def power_ranger(n,a,b):\n",
    "    import math\n",
    "    count = 0\n",
    "    for i in range(1,b):\n",
    "        if math.pow(i,n) >= a and math.pow(i,n) <= b :\n",
    "            count += 1\n",
    "    return count\n",
    "    \n",
    "power_ranger(4, 250, 1300)"
   ]
  },
  {
   "cell_type": "markdown",
   "id": "aca70e94",
   "metadata": {},
   "source": [
    "Given a number, return the difference between the maximum and minimum\n",
    "numbers that can be formed when the digits are rearranged."
   ]
  },
  {
   "cell_type": "code",
   "execution_count": 157,
   "id": "3c379010",
   "metadata": {},
   "outputs": [
    {
     "data": {
      "text/plain": [
       "7709823"
      ]
     },
     "execution_count": 157,
     "metadata": {},
     "output_type": "execute_result"
    }
   ],
   "source": [
    "def rearranged_difference(num):\n",
    "    st_num = str(num)\n",
    "    l_max = []\n",
    "    l_min = []\n",
    "    lmax = ''\n",
    "    lmin = ''\n",
    "    for i in st_num:\n",
    "        l_max.append(i)\n",
    "    l_min = l_max.copy()\n",
    "    l.sort()\n",
    "    l_max.sort(reverse = True)\n",
    "    l_min.sort()\n",
    "    for i in l_max:\n",
    "        lmax = lmax + i\n",
    "    for i in l_min:\n",
    "        lmin = lmin + i\n",
    "        \n",
    "    Diff = int(lmax) - int(lmin)\n",
    "    return Diff\n",
    "\n",
    "#driver code\n",
    "\n",
    "rearranged_difference(3320707)"
   ]
  },
  {
   "cell_type": "code",
   "execution_count": null,
   "id": "6e4419ff",
   "metadata": {},
   "outputs": [],
   "source": []
  }
 ],
 "metadata": {
  "kernelspec": {
   "display_name": "Python 3",
   "language": "python",
   "name": "python3"
  },
  "language_info": {
   "codemirror_mode": {
    "name": "ipython",
    "version": 3
   },
   "file_extension": ".py",
   "mimetype": "text/x-python",
   "name": "python",
   "nbconvert_exporter": "python",
   "pygments_lexer": "ipython3",
   "version": "3.8.8"
  }
 },
 "nbformat": 4,
 "nbformat_minor": 5
}
