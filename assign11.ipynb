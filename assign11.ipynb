{
 "cells": [
  {
   "cell_type": "code",
   "execution_count": 23,
   "id": "a73ff728",
   "metadata": {},
   "outputs": [
    {
     "name": "stdout",
     "output_type": "stream",
     "text": [
      "enter the words sampath is good\n",
      "enter the length k 2\n",
      "mpathod"
     ]
    }
   ],
   "source": [
    "#Write a Python program to find words which are greater than given length k?\n",
    "\n",
    "words = input(\"enter the words \")\n",
    "length = int(input(\"enter the length k \"))\n",
    "cnt = 0\n",
    "for i in words:\n",
    "    cnt = cnt + 1\n",
    "    if i == ' ':\n",
    "        cnt = 0\n",
    "        continue\n",
    "    \n",
    "    \n",
    "    if cnt > length:\n",
    "        print(i,end = \"\")\n",
    "        \n",
    "    \n",
    "    \n",
    "    \n",
    "    "
   ]
  },
  {
   "cell_type": "code",
   "execution_count": 19,
   "id": "a3c9b72e",
   "metadata": {},
   "outputs": [
    {
     "name": "stdout",
     "output_type": "stream",
     "text": [
      "enter the words to remove its ith charector sampath nayak\n",
      "enter the value for i  5\n",
      "sampah nayak\n"
     ]
    }
   ],
   "source": [
    "#Write a Python program for removing i-th character from a string?\n",
    "\n",
    "word = input(\"enter the words to remove its ith charector \")\n",
    "ith = int(input(\"enter the value for i  \"))\n",
    "\n",
    "for i in range(len(word)):\n",
    "    if i == ith:\n",
    "        \n",
    "        word = word.replace(word[i], \"\", 1)\n",
    "print(word)"
   ]
  },
  {
   "cell_type": "code",
   "execution_count": 17,
   "id": "f870639c",
   "metadata": {},
   "outputs": [
    {
     "name": "stdout",
     "output_type": "stream",
     "text": [
      "enter a string - sampath is learning data science\n",
      "After spliting the string - \n",
      "['sampath', 'is', 'learning', 'data', 'science']\n",
      "After joining the string - \n",
      "sampath-is-learning-data-science\n"
     ]
    }
   ],
   "source": [
    "#Write a Python program to split and join a string?\n",
    "\n",
    "sr = input(\"enter a string - \")\n",
    "\n",
    "\n",
    "print(\"After spliting the string - \")\n",
    "sr1 = sr.split(' ')\n",
    "print(sr1)\n",
    "\n",
    "sr =  '-'.join(sr1)\n",
    "print(\"After joining the string - \")\n",
    "print(sr)"
   ]
  },
  {
   "cell_type": "code",
   "execution_count": 16,
   "id": "390cd85e",
   "metadata": {},
   "outputs": [
    {
     "name": "stdout",
     "output_type": "stream",
     "text": [
      "Enter a string to check whether it is binary or not 0120101010111\n",
      "This string is not a binary string \n"
     ]
    }
   ],
   "source": [
    "#Write a Python to check if a given string is binary string or not?\n",
    "\n",
    "bi =input(\"Enter a string to check whether it is binary or not \")\n",
    "\n",
    "cnt = 0\n",
    "\n",
    "for i in bi:\n",
    "    \n",
    "    if i == '0' or i =='1':\n",
    "    \n",
    "        cnt = cnt+1\n",
    "        if cnt == len(bi):\n",
    "            print(\"This string is a binary string\")\n",
    "if cnt < len(bi):\n",
    "    print(\"This string is not a binary string \")\n"
   ]
  },
  {
   "cell_type": "code",
   "execution_count": 29,
   "id": "65df3648",
   "metadata": {},
   "outputs": [
    {
     "name": "stdout",
     "output_type": "stream",
     "text": [
      "Enter string 1 Learning from Geeks for Geeks\n",
      "Enter string 2 geeks\n",
      "The uncommon words are - \n",
      "Learning from Geeks for Geeks geeks "
     ]
    }
   ],
   "source": [
    "#Write a Python program to find uncommon words from two Strings?\n",
    "\n",
    "str1 = input(\"Enter string 1 \")\n",
    "str2 = input(\"Enter string 2 \")\n",
    "uncmn = ''\n",
    "spl1 = str1.split()\n",
    "spl2 = str2.split()\n",
    "print(\"The uncommon words are - \")\n",
    "for i in spl1: \n",
    "    if i in spl2:\n",
    "        break\n",
    "    else:\n",
    "        print(i,end =\" \")\n",
    "for j in spl2: \n",
    "    if j in spl1:\n",
    "        break\n",
    "    else:\n",
    "        print(j,end =\" \")\n",
    "            "
   ]
  },
  {
   "cell_type": "code",
   "execution_count": 8,
   "id": "cbfc34d7",
   "metadata": {},
   "outputs": [
    {
     "name": "stdout",
     "output_type": "stream",
     "text": [
      "enter the words - SAMPATH\n",
      "A\n"
     ]
    }
   ],
   "source": [
    "#Write a Python to find all duplicate characters in string?\n",
    "\n",
    "string = input(\"enter the words - \")\n",
    "\n",
    "duplicates = []\n",
    "for char in string:\n",
    "    \n",
    "    if string.count(char) > 1:\n",
    "        if char not in duplicates:\n",
    "            \n",
    "            \n",
    "            duplicates.append(char)\n",
    "print(*duplicates)\n",
    "        "
   ]
  },
  {
   "cell_type": "code",
   "execution_count": 15,
   "id": "6c378dc1",
   "metadata": {},
   "outputs": [
    {
     "name": "stdout",
     "output_type": "stream",
     "text": [
      "enter the string to check whether any special character present or not - $ampath**\n",
      "$\n",
      "*\n",
      "*\n",
      "YES special character exists in string\n"
     ]
    }
   ],
   "source": [
    "#Write a Python Program to check if a string contains any special character?\n",
    "\n",
    "special_characters = \"!@#$%^&*()-+?_=,<>/\"\n",
    "count = 0\n",
    "string = input(\"enter the string to check whether any special character present or not - \")\n",
    "\n",
    "for i in string:\n",
    "    if i in special_characters:\n",
    "        count = count + 1\n",
    "        print(i)\n",
    "if count > 0 :\n",
    "    print(\"YES special character exists in string\")\n",
    "    \n",
    "else:\n",
    "    print(\"there is no special charactors present\")\n",
    "    \n"
   ]
  },
  {
   "cell_type": "code",
   "execution_count": null,
   "id": "ced8eb5c",
   "metadata": {},
   "outputs": [],
   "source": []
  }
 ],
 "metadata": {
  "kernelspec": {
   "display_name": "Python 3",
   "language": "python",
   "name": "python3"
  },
  "language_info": {
   "codemirror_mode": {
    "name": "ipython",
    "version": 3
   },
   "file_extension": ".py",
   "mimetype": "text/x-python",
   "name": "python",
   "nbconvert_exporter": "python",
   "pygments_lexer": "ipython3",
   "version": "3.8.8"
  }
 },
 "nbformat": 4,
 "nbformat_minor": 5
}
