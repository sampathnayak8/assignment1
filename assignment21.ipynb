{
 "cells": [
  {
   "cell_type": "markdown",
   "id": "89117ef8",
   "metadata": {},
   "source": [
    "Question1\n",
    "Write a function that takes a list and a number as arguments. Add the number to the end of\n",
    "the list, then remove the first element of the list. The function should then return the updated\n",
    "list."
   ]
  },
  {
   "cell_type": "code",
   "execution_count": 29,
   "id": "8489c6f8",
   "metadata": {},
   "outputs": [
    {
     "data": {
      "text/plain": [
       "[6, 3, 23, 17, 10]"
      ]
     },
     "execution_count": 29,
     "metadata": {},
     "output_type": "execute_result"
    }
   ],
   "source": [
    "#question 1 \n",
    "lst = []\n",
    "def next_in_line(lst,num):\n",
    "    lst.append(num)\n",
    "    lst.remove(lst[0])\n",
    "    \n",
    "    return lst  \n",
    "\n",
    "next_in_line([7, 6, 3, 23, 17], 10)"
   ]
  },
  {
   "cell_type": "markdown",
   "id": "bc2b612b",
   "metadata": {},
   "source": [
    "Question2\n",
    "Create the function that takes a list of dictionaries and returns the sum of people&#39;s budgets."
   ]
  },
  {
   "cell_type": "code",
   "execution_count": null,
   "id": "d0bf0558",
   "metadata": {},
   "outputs": [],
   "source": [
    "\n"
   ]
  },
  {
   "cell_type": "markdown",
   "id": "248795ff",
   "metadata": {},
   "source": [
    "Question3\n",
    "Create a function that takes a string and returns a string with its letters in alphabetical order."
   ]
  },
  {
   "cell_type": "code",
   "execution_count": 56,
   "id": "7d32975a",
   "metadata": {},
   "outputs": [
    {
     "name": "stdout",
     "output_type": "stream",
     "text": [
      "eegk\n"
     ]
    }
   ],
   "source": [
    "def alphabet_soup(st):\n",
    "    st1 = \"\"\n",
    "    if st.isalpha():\n",
    "        lst1 = list(st)\n",
    "\n",
    "        lst1.sort()\n",
    "        for i in lst1:\n",
    "            st1 = st1 + i\n",
    "        print(st1)\n",
    "    else:\n",
    "        print(\"Please enter string without number or special charactors\")\n",
    "        \n",
    "#driver code\n",
    "\n",
    "alphabet_soup(\"geek\")"
   ]
  },
  {
   "cell_type": "markdown",
   "id": "b3a51400",
   "metadata": {},
   "source": [
    "Question4\n",
    "\n",
    "\n",
    "Suppose that you invest $10,000 for 10 years at an interest rate of 6% compounded monthly.\n",
    "What will be the value of your investment at the end of the 10 year period?\n",
    "Create a function that accepts the principal p, the term in years t, the interest rate r, and the\n",
    "number of compounding periods per year n. The function returns the value at the end of term\n",
    "rounded to the nearest cent."
   ]
  },
  {
   "cell_type": "code",
   "execution_count": 59,
   "id": "b519e5ac",
   "metadata": {},
   "outputs": [
    {
     "data": {
      "text/plain": [
       "'105.00'"
      ]
     },
     "execution_count": 59,
     "metadata": {},
     "output_type": "execute_result"
    }
   ],
   "source": [
    "import math\n",
    "def compound_interest(p,t,r,n):\n",
    "    a = p * math.pow((1+(r/n)),(n*t))\n",
    "    \n",
    "    a_new = \"{:.2f}\".format(a)\n",
    "    return a_new\n",
    "\n",
    "#driver code\n",
    "compound_interest(100, 1, 0.05, 1)"
   ]
  },
  {
   "cell_type": "markdown",
   "id": "910ba2c2",
   "metadata": {},
   "source": [
    "Question5\n",
    "\n",
    "Write a function that takes a list of elements and returns only the integers."
   ]
  },
  {
   "cell_type": "code",
   "execution_count": 61,
   "id": "e981b72c",
   "metadata": {},
   "outputs": [
    {
     "data": {
      "text/plain": [
       "[9, 2, 16]"
      ]
     },
     "execution_count": 61,
     "metadata": {},
     "output_type": "execute_result"
    }
   ],
   "source": [
    "sr =[]\n",
    "def return_only_integer(sr):\n",
    "    sr_new = []\n",
    "    for i in sr:\n",
    "        if type(i) == int:\n",
    "            sr_new.append(i)\n",
    "    return sr_new\n",
    "\n",
    "return_only_integer([9, 2, \"space\", \"car\", \"lion\", 16])"
   ]
  }
 ],
 "metadata": {
  "kernelspec": {
   "display_name": "Python 3",
   "language": "python",
   "name": "python3"
  },
  "language_info": {
   "codemirror_mode": {
    "name": "ipython",
    "version": 3
   },
   "file_extension": ".py",
   "mimetype": "text/x-python",
   "name": "python",
   "nbconvert_exporter": "python",
   "pygments_lexer": "ipython3",
   "version": "3.8.8"
  }
 },
 "nbformat": 4,
 "nbformat_minor": 5
}
