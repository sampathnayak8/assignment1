{
 "cells": [
  {
   "cell_type": "markdown",
   "id": "b16146db",
   "metadata": {},
   "source": [
    "Q1. What is the relationship between classes and modules?\n",
    "\n",
    "\n",
    "Classes are blueprints that allow you to create instances with attributes and bound functionality. Classes support inheritance, metaclasses, and descriptors.\n",
    "\n",
    "Modules can't do any of this, modules are essentially singleton instances of an internal module class, and all their globals are attributes on the module instance. You can manipulate those attributes as needed (add, remove and update), but take into account that these still form the global namespace for all code defined in that module."
   ]
  },
  {
   "cell_type": "markdown",
   "id": "c2a9e59b",
   "metadata": {},
   "source": [
    "Q2. How do you make instances and classes?\n",
    "\n",
    "\n",
    "to create instances of a class, you call the class using class name and pass in whatever arguments its __init__ method accepts."
   ]
  },
  {
   "cell_type": "markdown",
   "id": "6ff6cd3a",
   "metadata": {},
   "source": [
    "Q3. Where and how should be class attributes created?\n",
    "\n",
    "class atribute should create outside funtion or methods\n",
    "\n",
    "class car:\n",
    "    wheels = 4\n",
    "    \n",
    "here wheels is class attribute"
   ]
  },
  {
   "cell_type": "markdown",
   "id": "62e1fe21",
   "metadata": {},
   "source": [
    "Q4. Where and how are instance attributes created?\n",
    "\n",
    "\n",
    "instance atribute are create inside init function\n",
    "\n",
    "class Person:\n",
    "\n",
    "    def __init__(self, name, surname, birthdate, address, telephone, email):\n",
    "        self.name = name\n",
    "        \n",
    "        \n",
    "here self.name is instance attribute"
   ]
  },
  {
   "cell_type": "markdown",
   "id": "5569c7fa",
   "metadata": {},
   "source": [
    "Q5. What does the term &quot;self&quot; in a Python class mean?\n",
    "\n",
    "self represents the instance of the class"
   ]
  },
  {
   "cell_type": "markdown",
   "id": "176cc648",
   "metadata": {},
   "source": [
    "Q6. How does a Python class handle operator overloading?\n",
    "\n",
    "To perform operator overloading, Python provides some special function or magic function that is automatically invoked when it is associated with that particular operator"
   ]
  },
  {
   "cell_type": "markdown",
   "id": "db0c1936",
   "metadata": {},
   "source": [
    "Q7. When do you consider allowing operator overloading of your classes?\n",
    "\n",
    "A non-static member function should be used to overload the assignment operator. The compiler generates the function to overload the assignment operator if the function is not written in the class. Overloading assignment operator can be used to create an object just like the copy constructor"
   ]
  },
  {
   "cell_type": "markdown",
   "id": "598bb1b6",
   "metadata": {},
   "source": [
    "Q8. What is the most popular form of operator overloading?\n",
    "\n",
    "A very popular and convenient example is the Addition (+) operator."
   ]
  },
  {
   "cell_type": "markdown",
   "id": "4c7b4562",
   "metadata": {},
   "source": [
    "Q9. What are the two most important concepts to grasp in order to comprehend Python OOP code?\n",
    "\n",
    "inheritance and polymorphism"
   ]
  }
 ],
 "metadata": {
  "kernelspec": {
   "display_name": "Python 3",
   "language": "python",
   "name": "python3"
  },
  "language_info": {
   "codemirror_mode": {
    "name": "ipython",
    "version": 3
   },
   "file_extension": ".py",
   "mimetype": "text/x-python",
   "name": "python",
   "nbconvert_exporter": "python",
   "pygments_lexer": "ipython3",
   "version": "3.8.8"
  }
 },
 "nbformat": 4,
 "nbformat_minor": 5
}
