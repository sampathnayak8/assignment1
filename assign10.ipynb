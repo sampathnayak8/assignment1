{
 "cells": [
  {
   "cell_type": "code",
   "execution_count": null,
   "id": "e7f8978f",
   "metadata": {},
   "outputs": [],
   "source": [
    "1. How do you distinguish between shutil.copy() and shutil.copytree()?\n",
    "\n",
    "shutil.copy() copies the source to destination\n",
    "\n",
    "shutil.copytree() method recursively copies an entire directory tree rooted at source (src) to the destination directory"
   ]
  },
  {
   "cell_type": "code",
   "execution_count": null,
   "id": "49ea41cc",
   "metadata": {},
   "outputs": [],
   "source": [
    "2. What function is used to rename files??\n",
    "os. rename()"
   ]
  },
  {
   "cell_type": "code",
   "execution_count": null,
   "id": "5d19c4b8",
   "metadata": {},
   "outputs": [],
   "source": [
    "3. What is the difference between the delete functions in the send2trash and shutil modules?\n",
    "\n",
    "The send2trash functions will move a file or folder to the recycle bin,\n",
    "while shutil functions will permanently delete files and folders."
   ]
  },
  {
   "cell_type": "code",
   "execution_count": null,
   "id": "a7af722b",
   "metadata": {},
   "outputs": [],
   "source": [
    "4. ZipFile objects have a close() method just like File objects' close() method.\n",
    "What ZipFile method is equivalent to File objects' open() method?\n",
    "\n",
    "The zipfile.ZipFile() function is equivalent to the open() function; the first argument is the filename, \n",
    "and the second argument is the mode to open the ZIP file in (read, write, or append)."
   ]
  },
  {
   "cell_type": "code",
   "execution_count": 14,
   "id": "c8b27f57",
   "metadata": {},
   "outputs": [
    {
     "name": "stdout",
     "output_type": "stream",
     "text": [
      "Looking in C:\\Users\\user\\downloads for files with extensions of .pdf, .jpg\n",
      "Coping C:\\Users\\user\\downloads\\AlbumArtSmall.jpg to C:\\Users\\user\\sampath1\n",
      "Coping C:\\Users\\user\\downloads\\alejandro-luengo-0A6_DK8hfiI-unsplash.jpg to C:\\Users\\user\\sampath1\n",
      "Coping C:\\Users\\user\\downloads\\artiom-vallat-D1XjCORamys-unsplash.jpg to C:\\Users\\user\\sampath1\n",
      "Coping C:\\Users\\user\\downloads\\CANCELLED_CHEQUE - Copy.jpg to C:\\Users\\user\\sampath1\n",
      "Coping C:\\Users\\user\\downloads\\CANCELLED_CHEQUE.jpg to C:\\Users\\user\\sampath1\n",
      "Coping C:\\Users\\user\\downloads\\CAT_CC-4_EN.pdf to C:\\Users\\user\\sampath1\n",
      "Coping C:\\Users\\user\\downloads\\Folder.jpg to C:\\Users\\user\\sampath1\n",
      "Coping C:\\Users\\user\\downloads\\glenn-carstens-peters-SL5d_8ywAAA-unsplash.jpg to C:\\Users\\user\\sampath1\n",
      "Coping C:\\Users\\user\\downloads\\Green Line Illustration Botanical Logo.jpg to C:\\Users\\user\\sampath1\n",
      "Coping C:\\Users\\user\\downloads\\HOW TO SUBMIT ASSESSMENT (2).pdf to C:\\Users\\user\\sampath1\n",
      "Coping C:\\Users\\user\\downloads\\IMG_20210820_185957.jpg to C:\\Users\\user\\sampath1\n",
      "Coping C:\\Users\\user\\downloads\\inbound833020140.jpg to C:\\Users\\user\\sampath1\n",
      "Coping C:\\Users\\user\\downloads\\jye-b-RuTMP0iI_ek-unsplash.jpg to C:\\Users\\user\\sampath1\n",
      "Coping C:\\Users\\user\\downloads\\New Doc 2018-06-15_7.jpg to C:\\Users\\user\\sampath1\n",
      "Coping C:\\Users\\user\\downloads\\peng-productions-_VdLi4cFwUs-unsplash.jpg to C:\\Users\\user\\sampath1\n",
      "Coping C:\\Users\\user\\downloads\\pexels-alex-fu-1528851.jpg to C:\\Users\\user\\sampath1\n",
      "Coping C:\\Users\\user\\downloads\\pexels-andrew-neel-3178938.jpg to C:\\Users\\user\\sampath1\n",
      "Coping C:\\Users\\user\\downloads\\pexels-ann-h-1888005.jpg to C:\\Users\\user\\sampath1\n",
      "Coping C:\\Users\\user\\downloads\\pexels-free-nature-stock-7277.jpg to C:\\Users\\user\\sampath1\n",
      "Coping C:\\Users\\user\\downloads\\pexels-photomix-company-212372.jpg to C:\\Users\\user\\sampath1\n",
      "Coping C:\\Users\\user\\downloads\\Photo from Mr.jpg to C:\\Users\\user\\sampath1\n",
      "Coping C:\\Users\\user\\downloads\\RECRUITMENT OF JUNIOR ASSOCIATES (CUSTOMER SUPPORT & SALES).pdf to C:\\Users\\user\\sampath1\n",
      "Coping C:\\Users\\user\\downloads\\SAFETY BOOK_EN.pdf to C:\\Users\\user\\sampath1\n",
      "Coping C:\\Users\\user\\downloads\\sandeep-gill-4K3X20nsF7U-unsplash.jpg to C:\\Users\\user\\sampath1\n",
      "Coping C:\\Users\\user\\downloads\\Service letter- Sampath Nayak.pdf to C:\\Users\\user\\sampath1\n",
      "Coping C:\\Users\\user\\downloads\\19.2.MySQL\\19.2.MySQL\\MYSQL application.pdf to C:\\Users\\user\\sampath1\n",
      "Coping C:\\Users\\user\\downloads\\19.2.MySQL\\19.2.MySQL\\imgs\\mysql1.jpg to C:\\Users\\user\\sampath1\n",
      "Coping C:\\Users\\user\\downloads\\19.2.MySQL\\19.2.MySQL\\imgs\\mysql10.jpg to C:\\Users\\user\\sampath1\n",
      "Coping C:\\Users\\user\\downloads\\19.2.MySQL\\19.2.MySQL\\imgs\\mysql11.jpg to C:\\Users\\user\\sampath1\n",
      "Coping C:\\Users\\user\\downloads\\19.2.MySQL\\19.2.MySQL\\imgs\\mysql12.jpg to C:\\Users\\user\\sampath1\n",
      "Coping C:\\Users\\user\\downloads\\19.2.MySQL\\19.2.MySQL\\imgs\\mysql13.jpg to C:\\Users\\user\\sampath1\n",
      "Coping C:\\Users\\user\\downloads\\19.2.MySQL\\19.2.MySQL\\imgs\\mysql14.jpg to C:\\Users\\user\\sampath1\n",
      "Coping C:\\Users\\user\\downloads\\19.2.MySQL\\19.2.MySQL\\imgs\\mysql15.jpg to C:\\Users\\user\\sampath1\n",
      "Coping C:\\Users\\user\\downloads\\19.2.MySQL\\19.2.MySQL\\imgs\\mysql16.jpg to C:\\Users\\user\\sampath1\n",
      "Coping C:\\Users\\user\\downloads\\19.2.MySQL\\19.2.MySQL\\imgs\\mysql17.jpg to C:\\Users\\user\\sampath1\n",
      "Coping C:\\Users\\user\\downloads\\19.2.MySQL\\19.2.MySQL\\imgs\\mysql18.jpg to C:\\Users\\user\\sampath1\n",
      "Coping C:\\Users\\user\\downloads\\19.2.MySQL\\19.2.MySQL\\imgs\\mysql19.jpg to C:\\Users\\user\\sampath1\n",
      "Coping C:\\Users\\user\\downloads\\19.2.MySQL\\19.2.MySQL\\imgs\\mysql2.jpg to C:\\Users\\user\\sampath1\n",
      "Coping C:\\Users\\user\\downloads\\19.2.MySQL\\19.2.MySQL\\imgs\\mysql20.jpg to C:\\Users\\user\\sampath1\n",
      "Coping C:\\Users\\user\\downloads\\19.2.MySQL\\19.2.MySQL\\imgs\\mysql21.jpg to C:\\Users\\user\\sampath1\n",
      "Coping C:\\Users\\user\\downloads\\19.2.MySQL\\19.2.MySQL\\imgs\\mysql22.jpg to C:\\Users\\user\\sampath1\n",
      "Coping C:\\Users\\user\\downloads\\19.2.MySQL\\19.2.MySQL\\imgs\\mysql23.jpg to C:\\Users\\user\\sampath1\n",
      "Coping C:\\Users\\user\\downloads\\19.2.MySQL\\19.2.MySQL\\imgs\\mysql24.jpg to C:\\Users\\user\\sampath1\n",
      "Coping C:\\Users\\user\\downloads\\19.2.MySQL\\19.2.MySQL\\imgs\\mysql25.jpg to C:\\Users\\user\\sampath1\n",
      "Coping C:\\Users\\user\\downloads\\19.2.MySQL\\19.2.MySQL\\imgs\\mysql26.jpg to C:\\Users\\user\\sampath1\n",
      "Coping C:\\Users\\user\\downloads\\19.2.MySQL\\19.2.MySQL\\imgs\\mysql27.jpg to C:\\Users\\user\\sampath1\n",
      "Coping C:\\Users\\user\\downloads\\19.2.MySQL\\19.2.MySQL\\imgs\\mysql28.jpg to C:\\Users\\user\\sampath1\n",
      "Coping C:\\Users\\user\\downloads\\19.2.MySQL\\19.2.MySQL\\imgs\\mysql29.jpg to C:\\Users\\user\\sampath1\n",
      "Coping C:\\Users\\user\\downloads\\19.2.MySQL\\19.2.MySQL\\imgs\\mysql3.jpg to C:\\Users\\user\\sampath1\n",
      "Coping C:\\Users\\user\\downloads\\19.2.MySQL\\19.2.MySQL\\imgs\\mysql30.jpg to C:\\Users\\user\\sampath1\n",
      "Coping C:\\Users\\user\\downloads\\19.2.MySQL\\19.2.MySQL\\imgs\\mysql31.jpg to C:\\Users\\user\\sampath1\n",
      "Coping C:\\Users\\user\\downloads\\19.2.MySQL\\19.2.MySQL\\imgs\\mysql32.jpg to C:\\Users\\user\\sampath1\n",
      "Coping C:\\Users\\user\\downloads\\19.2.MySQL\\19.2.MySQL\\imgs\\mysql33.jpg to C:\\Users\\user\\sampath1\n",
      "Coping C:\\Users\\user\\downloads\\19.2.MySQL\\19.2.MySQL\\imgs\\mysql4.jpg to C:\\Users\\user\\sampath1\n",
      "Coping C:\\Users\\user\\downloads\\19.2.MySQL\\19.2.MySQL\\imgs\\mysql5.jpg to C:\\Users\\user\\sampath1\n",
      "Coping C:\\Users\\user\\downloads\\19.2.MySQL\\19.2.MySQL\\imgs\\mysql6.jpg to C:\\Users\\user\\sampath1\n",
      "Coping C:\\Users\\user\\downloads\\19.2.MySQL\\19.2.MySQL\\imgs\\mysql7.jpg to C:\\Users\\user\\sampath1\n",
      "Coping C:\\Users\\user\\downloads\\19.2.MySQL\\19.2.MySQL\\imgs\\mysql8.jpg to C:\\Users\\user\\sampath1\n",
      "Coping C:\\Users\\user\\downloads\\19.2.MySQL\\19.2.MySQL\\imgs\\mysql9.jpg to C:\\Users\\user\\sampath1\n",
      "Coping C:\\Users\\user\\downloads\\Free-Landscape-Preset\\Lightroom-Presets-Documentation.pdf to C:\\Users\\user\\sampath1\n",
      "Coping C:\\Users\\user\\downloads\\Other\\Other\\Retro Text Styles for Adobe Illustrator\\10-Free-Retro-Text-Styles-for-Adobe-Illustrator.jpg to C:\\Users\\user\\sampath1\n",
      "Coping C:\\Users\\user\\downloads\\Other\\Other\\Treasure Map Maker\\Vintage Paper Background.jpg to C:\\Users\\user\\sampath1\n",
      "Coping C:\\Users\\user\\downloads\\Other\\__MACOSX\\Other\\Retro Text Styles for Adobe Illustrator\\._10-Free-Retro-Text-Styles-for-Adobe-Illustrator.jpg to C:\\Users\\user\\sampath1\n",
      "Coping C:\\Users\\user\\downloads\\Other\\__MACOSX\\Other\\Treasure Map Maker\\._Vintage Paper Background.jpg to C:\\Users\\user\\sampath1\n"
     ]
    }
   ],
   "source": [
    "\n",
    "\n",
    "import os, shutil\n",
    "\n",
    "def selectiveCopy(folder, extensions, destFolder):\n",
    "    folder = os.path.abspath(folder)\n",
    "    destFolder = os.path.abspath(destFolder)\n",
    "    print('Looking in', folder, 'for files with extensions of', ', '.join(extensions))\n",
    "    for foldername, subfolders, filenames in os.walk(folder):\n",
    "        for filename in filenames:\n",
    "            name, extension = os.path.splitext(filename)\n",
    "            if extension in extensions:\n",
    "                fileAbsPath = foldername + os.path.sep + filename\n",
    "                print('Coping', fileAbsPath, 'to', destFolder)\n",
    "                shutil.copy(fileAbsPath, destFolder)\n",
    "\n",
    "extensions = ['.pdf', '.jpg']\n",
    "folder = 'downloads'\n",
    "destFolder = 'sampath1'\n",
    "selectiveCopy(folder, extensions, destFolder)"
   ]
  },
  {
   "cell_type": "code",
   "execution_count": 10,
   "id": "cddf665e",
   "metadata": {},
   "outputs": [
    {
     "data": {
      "text/plain": [
       "'C:\\\\Users\\\\user'"
      ]
     },
     "execution_count": 10,
     "metadata": {},
     "output_type": "execute_result"
    }
   ],
   "source": [
    "pwd()"
   ]
  },
  {
   "cell_type": "code",
   "execution_count": null,
   "id": "f4b749a5",
   "metadata": {},
   "outputs": [],
   "source": []
  }
 ],
 "metadata": {
  "kernelspec": {
   "display_name": "Python 3",
   "language": "python",
   "name": "python3"
  },
  "language_info": {
   "codemirror_mode": {
    "name": "ipython",
    "version": 3
   },
   "file_extension": ".py",
   "mimetype": "text/x-python",
   "name": "python",
   "nbconvert_exporter": "python",
   "pygments_lexer": "ipython3",
   "version": "3.8.8"
  }
 },
 "nbformat": 4,
 "nbformat_minor": 5
}
