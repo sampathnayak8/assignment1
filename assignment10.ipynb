{
 "cells": [
  {
   "cell_type": "code",
   "execution_count": 1,
   "id": "3771af63",
   "metadata": {},
   "outputs": [
    {
     "name": "stdout",
     "output_type": "stream",
     "text": [
      "the sum of the present list is 46\n"
     ]
    }
   ],
   "source": [
    "#Write a Python program to find sum of elements in list?\n",
    "\n",
    "l = [1,2,3,4,5,6,7,8,10]\n",
    "sm = 0\n",
    "for i in l:\n",
    "    sm =sm +i\n",
    "print(\"the sum of the present list is {}\".format(sm))\n",
    "    "
   ]
  },
  {
   "cell_type": "code",
   "execution_count": 2,
   "id": "25b03057",
   "metadata": {},
   "outputs": [
    {
     "name": "stdout",
     "output_type": "stream",
     "text": [
      "the multiplication of the present list is 5040\n"
     ]
    }
   ],
   "source": [
    "#Write a Python program to Multiply all numbers in the list?\n",
    "\n",
    "l = [1,2,3,4,5,6,7]\n",
    "sm = 1\n",
    "for i in l:\n",
    "    sm =sm * i\n",
    "print(\"the multiplication of the present list is {}\".format(sm))\n"
   ]
  },
  {
   "cell_type": "code",
   "execution_count": 3,
   "id": "2cdfcb1b",
   "metadata": {},
   "outputs": [
    {
     "name": "stdout",
     "output_type": "stream",
     "text": [
      "The smallest number in the list is  -10  \n"
     ]
    }
   ],
   "source": [
    "#Write a Python program to find smallest number in a list?\n",
    "l = [3,5,4,5,9,7,3,0,-10]\n",
    "small =l[0]\n",
    "for i in l:\n",
    "    if i > small:\n",
    "        small = small\n",
    "    else:\n",
    "        small = i\n",
    "print(\"The smallest number in the list is  {}  \".format(small))"
   ]
  },
  {
   "cell_type": "code",
   "execution_count": 4,
   "id": "0df4e77e",
   "metadata": {},
   "outputs": [
    {
     "name": "stdout",
     "output_type": "stream",
     "text": [
      "The Largest number in the list is  101  \n"
     ]
    }
   ],
   "source": [
    "#Write a Python program to find largest number in a list?\n",
    "l = [3,5,4,5,101,7,3,0,-10,-100]\n",
    "large =l[0]\n",
    "for i in l:\n",
    "    if i > large:\n",
    "        large = i\n",
    "    else:\n",
    "        large = large\n",
    "print(\"The Largest number in the list is  {}  \".format(large))"
   ]
  },
  {
   "cell_type": "code",
   "execution_count": 5,
   "id": "77ee072c",
   "metadata": {},
   "outputs": [
    {
     "name": "stdout",
     "output_type": "stream",
     "text": [
      "the second largest number is \n",
      "1011\n"
     ]
    }
   ],
   "source": [
    "#Write a Python program to find second largest number in a list?\n",
    "\n",
    "la = [3,5,4,5000,1011,7,3,0,-10,100]\n",
    "la.sort()\n",
    "c = len(la)\n",
    "print(\"the second largest number is \")\n",
    "print(la[c-2])\n",
    "   "
   ]
  },
  {
   "cell_type": "code",
   "execution_count": 6,
   "id": "f7198889",
   "metadata": {},
   "outputs": [
    {
     "name": "stdout",
     "output_type": "stream",
     "text": [
      "[85, 41]\n"
     ]
    }
   ],
   "source": [
    "#Write a Python program to find N largest elements from a list?\n",
    "def Nmaxelements(list1, N):\n",
    "    final_list = []\n",
    "  \n",
    "    for i in range(0, N): \n",
    "        max1 = 0\n",
    "          \n",
    "        for j in range(len(list1)):     \n",
    "            if list1[j] > max1:\n",
    "                max1 = list1[j];\n",
    "                  \n",
    "        list1.remove(max1);\n",
    "        final_list.append(max1)\n",
    "          \n",
    "    print(final_list)\n",
    "  \n",
    "\n",
    "\n",
    "list1 = [2, 6, 41, 85, 0, 3, 7, 6, 10]\n",
    "N = 2\n",
    "\n",
    "Nmaxelements(list1, N)\n"
   ]
  },
  {
   "cell_type": "code",
   "execution_count": 7,
   "id": "8b922cb2",
   "metadata": {},
   "outputs": [
    {
     "name": "stdout",
     "output_type": "stream",
     "text": [
      "Even numbers in list are \n",
      "2\n",
      "8\n",
      "10\n",
      "58\n"
     ]
    }
   ],
   "source": [
    "#Write a Python program to print even numbers in a list?\n",
    "num = [1,3,2,9,8,10,58,63,47,5,7,9]\n",
    "print(\"Even numbers in list are \")\n",
    "j=0\n",
    "for i in num:\n",
    "    if type(i) == int:\n",
    "        if i%2 ==0:\n",
    "            j = j+1\n",
    "            print(i)\n",
    "    \n",
    "if j == 0:\n",
    "    print(\"There is No even number present in the list\")"
   ]
  },
  {
   "cell_type": "code",
   "execution_count": 8,
   "id": "685a13c8",
   "metadata": {},
   "outputs": [
    {
     "name": "stdout",
     "output_type": "stream",
     "text": [
      "Odd numbers in list are \n",
      "1\n",
      "3\n",
      "9\n",
      "63\n",
      "47\n",
      "5\n",
      "7\n",
      "9\n"
     ]
    }
   ],
   "source": [
    "#Write a Python program to print odd numbers in a List?\n",
    "num = [1,3,2,9,8,10,58,63,47,5,7,9,\"sam\"]\n",
    "print(\"Odd numbers in list are \")\n",
    "j=0\n",
    "for i in num:\n",
    "    if type(i) == int:\n",
    "        if i%2 != 0:\n",
    "            j = j+1\n",
    "            print(i)\n",
    "    \n",
    "if j == 0:\n",
    "    print(\"There is No odd number present in the list\")"
   ]
  },
  {
   "cell_type": "code",
   "execution_count": 12,
   "id": "97fba199",
   "metadata": {},
   "outputs": [
    {
     "name": "stdout",
     "output_type": "stream",
     "text": [
      "The original list is : [5, 6, [], 3, [], [], 9]\n",
      "List after empty list removal : [5, 6, 3, 9]\n"
     ]
    }
   ],
   "source": [
    "#Write a Python program to Remove empty List from List?\n",
    "\n",
    "test_list = [5, 6, [], 3, [], [], 9]\n",
    "  \n",
    "# printing original list \n",
    "print(\"The original list is : \" + str(test_list))\n",
    "  \n",
    "# Remove empty List from List\n",
    "# using list comprehension\n",
    "res = [ele for ele in test_list if ele != []]\n",
    "  \n",
    "# printing result \n",
    "print (\"List after empty list removal : \" + str(res))\n",
    "        \n"
   ]
  },
  {
   "cell_type": "code",
   "execution_count": 13,
   "id": "1a2a7e67",
   "metadata": {},
   "outputs": [
    {
     "name": "stdout",
     "output_type": "stream",
     "text": [
      "Original List: [4, 8, 2, 10, 15, 18]\n",
      "After Cloning: [4, 8, 2, 10, 15, 18]\n"
     ]
    }
   ],
   "source": [
    "#Write a Python program to Cloning or Copying a list?\n",
    "def Cloning(li1):\n",
    "    li_copy = li1[:]\n",
    "    return li_copy\n",
    "  \n",
    "# Driver Code\n",
    "li1 = [4, 8, 2, 10, 15, 18]\n",
    "li2 = Cloning(li1)\n",
    "print(\"Original List:\", li1)\n",
    "print(\"After Cloning:\", li2)"
   ]
  },
  {
   "cell_type": "code",
   "execution_count": 15,
   "id": "cf88fe93",
   "metadata": {},
   "outputs": [
    {
     "name": "stdout",
     "output_type": "stream",
     "text": [
      "8 has occurred 5 times\n"
     ]
    }
   ],
   "source": [
    "#Write a Python program to Count occurrences of an element in a list?\n",
    "\n",
    "def countX(lst, x):\n",
    "    count = 0\n",
    "    for ele in lst:\n",
    "        if (ele == x):\n",
    "            count = count + 1\n",
    "    return count\n",
    " \n",
    "\n",
    "lst = [8, 6, 8, 10, 8, 20, 10, 8, 8]\n",
    "x = 8\n",
    "print('{} has occurred {} times'.format(x, countX(lst, x)))"
   ]
  }
 ],
 "metadata": {
  "kernelspec": {
   "display_name": "Python 3",
   "language": "python",
   "name": "python3"
  },
  "language_info": {
   "codemirror_mode": {
    "name": "ipython",
    "version": 3
   },
   "file_extension": ".py",
   "mimetype": "text/x-python",
   "name": "python",
   "nbconvert_exporter": "python",
   "pygments_lexer": "ipython3",
   "version": "3.8.8"
  }
 },
 "nbformat": 4,
 "nbformat_minor": 5
}
